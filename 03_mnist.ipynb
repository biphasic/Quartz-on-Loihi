{
 "cells": [
  {
   "cell_type": "markdown",
   "metadata": {},
   "source": [
    "## MNIST classification on Loihi"
   ]
  },
  {
   "cell_type": "code",
   "execution_count": null,
   "metadata": {},
   "outputs": [],
   "source": [
    "from CNN.mnist_model import ConvNet\n",
    "from CNN.utils import get_weights_biases\n",
    "import torch\n",
    "import time\n",
    "from torchvision import datasets, transforms\n",
    "import quartz\n",
    "from quartz import layers\n",
    "import numpy as np"
   ]
  },
  {
   "cell_type": "markdown",
   "metadata": {},
   "source": [
    "## Load pre-trained ANN model and inspect parameters"
   ]
  },
  {
   "cell_type": "code",
   "execution_count": null,
   "metadata": {},
   "outputs": [],
   "source": [
    "n_classes = 10\n",
    "model = ConvNet(n_classes)\n",
    "model.load_state_dict(torch.load(\"CNN/models/mnist-convnet.pth\", map_location=torch.device('cpu')))\n",
    "model.eval()"
   ]
  },
  {
   "cell_type": "code",
   "execution_count": null,
   "metadata": {},
   "outputs": [],
   "source": [
    "weights, biases = get_weights_biases(model)\n",
    "\n",
    "# these scaling factors have been found by normalizing the weights and afterwards scaling again by activations for each layer. Details in mnist-analyis notebook.\n",
    "scaling_factors = [1.2470399948327828, 0.9052967932549607, 1.4555583482919765, 0.2525526552185343]\n",
    "\n",
    "# joint scaling of parameters\n",
    "for i, factor in enumerate(scaling_factors):\n",
    "    weights[i] *= factor\n",
    "    biases[i] *= factor"
   ]
  },
  {
   "cell_type": "markdown",
   "metadata": {},
   "source": [
    "## build Quartz model with parameters from ANN model"
   ]
  },
  {
   "cell_type": "code",
   "execution_count": null,
   "metadata": {},
   "outputs": [],
   "source": [
    "t_max = 2**4\n",
    "input_dims = (1,28,28)\n",
    "pool_kernel_size = [2,2]\n",
    "\n",
    "loihi_model = quartz.Network(t_max, verbose=True, layers=[\n",
    "    layers.InputLayer(dims=input_dims),\n",
    "    layers.Conv2D(weights=weights[0], biases=biases[0]),\n",
    "    layers.MaxPool2D(kernel_size=pool_kernel_size),\n",
    "    layers.Conv2D(weights=weights[1], biases=biases[1]),\n",
    "    layers.MaxPool2D(kernel_size=pool_kernel_size),\n",
    "    layers.Conv2D(weights=weights[2], biases=biases[2]),\n",
    "    layers.Dense(weights=weights[3], biases=biases[3]), \n",
    "])\n",
    "\n",
    "n_cores_per_layer = [0,5,3,3,2,2,2]"
   ]
  },
  {
   "cell_type": "code",
   "execution_count": null,
   "metadata": {},
   "outputs": [],
   "source": [
    "loihi_model"
   ]
  },
  {
   "cell_type": "code",
   "execution_count": null,
   "metadata": {},
   "outputs": [],
   "source": [
    "n_conns_per_layer = [layer.n_outgoing_connections() for layer in loihi_model.layers]\n",
    "[n_conns // n_cores for n_cores, n_conns in zip(n_cores_per_layer[1:], n_conns_per_layer)]"
   ]
  },
  {
   "cell_type": "markdown",
   "metadata": {},
   "source": [
    "## Load test data"
   ]
  },
  {
   "cell_type": "code",
   "execution_count": null,
   "metadata": {},
   "outputs": [],
   "source": [
    "transform=transforms.Compose([transforms.ToTensor(),])\n",
    "test_set = datasets.MNIST('./CNN/data', train=False, download=False, transform=transform)"
   ]
  },
  {
   "cell_type": "markdown",
   "metadata": {},
   "source": [
    "## Classify images"
   ]
  },
  {
   "cell_type": "code",
   "execution_count": null,
   "metadata": {},
   "outputs": [],
   "source": [
    "start_time = time.time()\n",
    "batch_size = 2500\n",
    "test_loader = torch.utils.data.DataLoader(test_set, batch_size=batch_size, shuffle=False)\n",
    "test_loader_iter = iter(test_loader)\n",
    "\n",
    "errors = []\n",
    "avg_first_spikes = []\n",
    "for b, (inputs, target) in enumerate(test_loader_iter):\n",
    "    loihi_output_values = loihi_model(inputs.detach().numpy(), n_cores_per_layer=n_cores_per_layer, partition='loihi_2h', logging=True)\n",
    "    # some of the outputs might spike multiple times so instead of the output values, we rely on the first spikes for every batch\n",
    "    avg_first_spikes.append(np.mean([time-i*loihi_model.steps_per_image for i, time in enumerate(np.min(loihi_model.first_spikes, axis=0))]))\n",
    "    print(\"Average first spike: \" + str(avg_first_spikes[-1]))\n",
    "    classification_results = np.argmin(loihi_model.first_spikes, axis=0)\n",
    "    positives = sum(classification_results == target.numpy())\n",
    "    errors.append(100*(1-positives/len(target)))\n",
    "    print(\"Correctly detected {} out of {}: {}% error\".format(positives, len(target), str(errors[-1])))    \n",
    "    print(\"Batch {} finished within {} seconds.\".format(b+1, time.time() - start_time))\n",
    "    start_time = time.time()\n",
    "\n",
    "print(\"Average first spike for test set: {}\".format(np.sum(avg_first_spikes)/len(avg_first_spikes)))\n",
    "print(\"Accuracy error for test set: {}\".format(np.sum(errors)/len(errors)))"
   ]
  },
  {
   "cell_type": "markdown",
   "metadata": {},
   "source": [
    "## Power benchmarks"
   ]
  },
  {
   "cell_type": "code",
   "execution_count": null,
   "metadata": {},
   "outputs": [],
   "source": [
    "batch_size = 3000\n",
    "test_loader = torch.utils.data.DataLoader(test_set, batch_size=batch_size, shuffle=True)\n",
    "inputs, targets = next(iter(test_loader))\n",
    "# energy probes currently only supported on nahuku32\n",
    "energy_probe = loihi_model(inputs.detach().numpy(), n_cores_per_layer=n_cores_per_layer, partition='nahuku32', logging=True, profiling=True)"
   ]
  },
  {
   "cell_type": "code",
   "execution_count": null,
   "metadata": {},
   "outputs": [],
   "source": []
  },
  {
   "cell_type": "code",
   "execution_count": null,
   "metadata": {},
   "outputs": [],
   "source": [
    "print(loihi_model.compartments_on_core.reshape(-1,8))"
   ]
  },
  {
   "cell_type": "code",
   "execution_count": null,
   "metadata": {},
   "outputs": [],
   "source": [
    "loihi_model.compartments_on_core[:20]"
   ]
  },
  {
   "cell_type": "code",
   "execution_count": null,
   "metadata": {},
   "outputs": [],
   "source": []
  },
  {
   "cell_type": "code",
   "execution_count": null,
   "metadata": {},
   "outputs": [],
   "source": [
    "with open(\"mnist-results.txt\", \"a\") as myfile:\n",
    "    myfile.write(\"{}\\n\".format(errors))"
   ]
  }
 ],
 "metadata": {
  "kernelspec": {
   "display_name": "nxsdk-1.0.0",
   "language": "python",
   "name": "nxsdk-1.0.0"
  },
  "language_info": {
   "codemirror_mode": {
    "name": "ipython",
    "version": 3
   },
   "file_extension": ".py",
   "mimetype": "text/x-python",
   "name": "python",
   "nbconvert_exporter": "python",
   "pygments_lexer": "ipython3",
   "version": "3.9.4"
  }
 },
 "nbformat": 4,
 "nbformat_minor": 4
}
