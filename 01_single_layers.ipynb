{
 "cells": [
  {
   "cell_type": "markdown",
   "metadata": {},
   "source": [
    "## Fully Connected layer"
   ]
  },
  {
   "cell_type": "code",
   "execution_count": null,
   "metadata": {},
   "outputs": [],
   "source": [
    "import quartz\n",
    "from quartz import layers\n",
    "import numpy as np\n",
    "import torch\n",
    "import torch.nn as nn\n",
    "np.random.seed(seed=33)\n",
    "\n",
    "# input/output dimensions\n",
    "input_dims = (1,1,5,5) # BxCxWxH\n",
    "n_outputs = 5\n",
    "\n",
    "# model parameters\n",
    "weights = (np.random.rand(n_outputs,np.product(input_dims[1:])) - 0.5)\n",
    "biases = (np.random.rand(n_outputs) - 0.5)\n",
    "inputs = np.random.rand(*input_dims) / 2\n",
    "\n",
    "# build pyTorch model for comparison\n",
    "pt_model = nn.Sequential(\n",
    "    nn.Linear(in_features=np.product(input_dims[1:]), out_features=n_outputs), \n",
    "    nn.ReLU(),\n",
    ")\n",
    "pt_model[0].weight = torch.nn.Parameter(torch.tensor(weights))\n",
    "pt_model[0].bias = torch.nn.Parameter(torch.tensor((biases)))\n",
    "pt_model(torch.tensor(inputs.reshape(input_dims[0], -1))).detach().numpy()"
   ]
  },
  {
   "cell_type": "code",
   "execution_count": null,
   "metadata": {},
   "outputs": [],
   "source": [
    "# SNN model\n",
    "t_max = 2**7 # number of time steps to encode value of 1\n",
    "loihi_model = quartz.Network(t_max, [\n",
    "    layers.InputLayer(dims=input_dims[1:]),\n",
    "    layers.Dense(weights=weights, biases=biases, rectifying=False),\n",
    "])\n",
    "\n",
    "# optional neuron probes\n",
    "units = [quartz.probe(neuron) for neuron in loihi_model.layers[1].output_neurons]\n",
    "\n",
    "loihi_model(inputs)"
   ]
  },
  {
   "cell_type": "code",
   "execution_count": null,
   "metadata": {},
   "outputs": [],
   "source": [
    "loihi_model"
   ]
  },
  {
   "cell_type": "code",
   "execution_count": null,
   "metadata": {},
   "outputs": [],
   "source": []
  },
  {
   "cell_type": "code",
   "execution_count": null,
   "metadata": {},
   "outputs": [],
   "source": [
    "# optional plotting for each output unit\n",
    "# [unit.plot() for unit in units]"
   ]
  },
  {
   "cell_type": "code",
   "execution_count": null,
   "metadata": {},
   "outputs": [],
   "source": [
    "%debug"
   ]
  },
  {
   "cell_type": "markdown",
   "metadata": {},
   "source": [
    "## Convolutional Layer"
   ]
  },
  {
   "cell_type": "code",
   "execution_count": null,
   "metadata": {},
   "outputs": [],
   "source": [
    "import quartz\n",
    "from quartz import layers\n",
    "import numpy as np\n",
    "import torch\n",
    "import torch.nn as nn\n",
    "np.random.seed(seed=33)\n",
    "\n",
    "# input / weight dimensions\n",
    "input_dims = (1,4,7,7) # BxCxWxH\n",
    "weight_dims = (2,4,3,3) # CoutxCinxWxH\n",
    "stride = 2\n",
    "padding = 0\n",
    "groups = 1\n",
    "kernel_size = weight_dims[2:]\n",
    "\n",
    "weights = (np.random.rand(*weight_dims)-0.5) / 2\n",
    "biases = (np.random.rand(weight_dims[0])-0.5)\n",
    "inputs = np.random.rand(*input_dims) / 2\n",
    "\n",
    "# build pyTorch model for comparison\n",
    "model = nn.Sequential(\n",
    "    nn.Conv2d(in_channels=weight_dims[1]*groups, out_channels=weight_dims[0], kernel_size=kernel_size, stride=stride, padding=padding, groups=groups), \n",
    "    nn.ReLU()\n",
    ")\n",
    "model[0].weight = torch.nn.Parameter(torch.tensor(weights))\n",
    "model[0].bias = torch.nn.Parameter(torch.tensor((biases)))\n",
    "model(torch.tensor(inputs)).detach().numpy()"
   ]
  },
  {
   "cell_type": "code",
   "execution_count": null,
   "metadata": {},
   "outputs": [],
   "source": [
    "# SNN model\n",
    "t_max = 2**7 # number of time steps to encode value of 1\n",
    "loihi_model = quartz.Network(t_max, [\n",
    "    layers.InputLayer(dims=input_dims[1:]),\n",
    "    layers.Conv2D(weights=weights, biases=biases, stride=stride, padding=padding, groups=groups),\n",
    "])\n",
    "\n",
    "# optional neuron probes\n",
    "units = [quartz.probe(neuron) for neuron in loihi_model.layers[1].output_neurons]\n",
    "\n",
    "loihi_model(inputs)"
   ]
  },
  {
   "cell_type": "code",
   "execution_count": null,
   "metadata": {},
   "outputs": [],
   "source": []
  },
  {
   "cell_type": "code",
   "execution_count": null,
   "metadata": {},
   "outputs": [],
   "source": [
    "# optional plotting for each output unit\n",
    "# [unit.plot() for unit in units]"
   ]
  },
  {
   "cell_type": "markdown",
   "metadata": {},
   "source": [
    "## Maxpool2d layer"
   ]
  },
  {
   "cell_type": "code",
   "execution_count": null,
   "metadata": {},
   "outputs": [],
   "source": [
    "import quartz\n",
    "from quartz import layers\n",
    "import numpy as np\n",
    "import torch\n",
    "import torch.nn as nn\n",
    "np.random.seed(seed=27)\n",
    "\n",
    "# define input dimensions and maxpooling kernel size\n",
    "input_dims = (1,2,4,4)\n",
    "kernel_size = [2,2]\n",
    "t_max = 2**7 # number of time steps to encode value of 1\n",
    "\n",
    "inputs = np.random.rand(*input_dims) / 2\n",
    "q_inputs = quartz.utils.quantize_inputs(inputs, t_max)\n",
    "\n",
    "# build pyTorch model for comparison\n",
    "model = nn.Sequential(\n",
    "    nn.MaxPool2d(kernel_size=kernel_size),\n",
    "    nn.ReLU(),\n",
    ")\n",
    "model(torch.tensor(q_inputs)).detach().numpy()"
   ]
  },
  {
   "cell_type": "code",
   "execution_count": null,
   "metadata": {},
   "outputs": [],
   "source": [
    "# SNN model\n",
    "loihi_model = quartz.Network(t_max, [\n",
    "    layers.InputLayer(dims=input_dims[1:]),\n",
    "    layers.MaxPool2D(kernel_size=kernel_size),\n",
    "])\n",
    "\n",
    "wtas = [quartz.probe(neuron) for neuron in loihi_model.layers[1].output_neurons]\n",
    "\n",
    "loihi_model(inputs)"
   ]
  },
  {
   "cell_type": "code",
   "execution_count": null,
   "metadata": {},
   "outputs": [],
   "source": []
  },
  {
   "cell_type": "code",
   "execution_count": null,
   "metadata": {},
   "outputs": [],
   "source": [
    "# optional plotting for each output unit\n",
    "# [wta.plot() for wta in wtas]"
   ]
  }
 ],
 "metadata": {
  "kernelspec": {
   "display_name": "nxsdk-0.9.8",
   "language": "python",
   "name": "nxsdk-0.9.8"
  },
  "language_info": {
   "codemirror_mode": {
    "name": "ipython",
    "version": 3
   },
   "file_extension": ".py",
   "mimetype": "text/x-python",
   "name": "python",
   "nbconvert_exporter": "python",
   "pygments_lexer": "ipython3",
   "version": "3.5.2"
  }
 },
 "nbformat": 4,
 "nbformat_minor": 4
}
