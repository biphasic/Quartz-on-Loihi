{
 "cells": [
  {
   "cell_type": "code",
   "execution_count": null,
   "metadata": {},
   "outputs": [],
   "source": [
    "#%matplotlib inline\n",
    "import quartz\n",
    "from quartz import layers\n",
    "import numpy as np\n",
    "import torch\n",
    "import torch.nn as nn\n",
    "t_max = 2**9\n",
    "run_time = 4*t_max\n",
    "dims1 = (1,500,1)\n",
    "dims2 = (1,120,1)\n",
    "n_outputs = 80\n",
    "weight_e = 501 # 101 # \n",
    "weight_acc = 2**8\n",
    "weight_acc_real = weight_acc / 2\n",
    "model_args = {'weight_e':weight_e, 'weight_acc':weight_acc}\n",
    "\n",
    "np.random.seed(seed=47)\n",
    "weights1 = (np.random.rand(np.product(dims2),np.product(dims1)) - 0.5) / 4\n",
    "weights2 = (np.random.rand(n_outputs,np.product(dims2)) - 0.5) / 4\n",
    "biases1 = (np.random.rand(np.product(dims2)) - 0.5) / 2\n",
    "biases2 = (np.random.rand(n_outputs) - 0.5) / 2\n",
    "\n",
    "loihi_model = quartz.Network([\n",
    "    layers.InputLayer(dims=dims1, **model_args),\n",
    "    layers.Dense(weights=weights1, biases=biases1, **model_args),\n",
    "    layers.Dense(weights=weights2, biases=biases2, **model_args),\n",
    "    layers.MonitorLayer(**model_args),\n",
    "])\n",
    "\n",
    "values = np.random.rand(np.product(dims1)) # np.ones((np.product(dims))) * 0.5\n",
    "inputs = quartz.decode_values_into_spike_input(values, t_max)\n",
    "\n",
    "# quantized_values = (values*t_max).round()/t_max\n",
    "# quantized_weights = (weight_acc_real*weights).round()/weight_acc_real\n",
    "# quantized_biases = (biases*t_max).round()/t_max\n",
    "\n",
    "# pt_model = nn.Sequential(\n",
    "#     nn.Linear(in_features=np.product(dims1), out_features=np.product(dims2)), \n",
    "#     nn.ReLU(),\n",
    "#     nn.Linear(in_features=np.product(dims2), out_features=n_outputs), \n",
    "#     nn.ReLU(),\n",
    "# )\n",
    "# pt_model[0].weight = torch.nn.Parameter(torch.tensor(quantized_weights))\n",
    "# pt_model[0].bias = torch.nn.Parameter(torch.tensor((quantized_biases)))\n",
    "#model_output = pt_model(torch.tensor(quantized_values)).detach().numpy()\n",
    "loihi_model"
   ]
  },
  {
   "cell_type": "code",
   "execution_count": null,
   "metadata": {},
   "outputs": [],
   "source": [
    "loihi_model(inputs, t_max)"
   ]
  },
  {
   "cell_type": "code",
   "execution_count": null,
   "metadata": {},
   "outputs": [],
   "source": [
    "loihi_model.core_ids\n"
   ]
  },
  {
   "cell_type": "code",
   "execution_count": null,
   "metadata": {},
   "outputs": [],
   "source": []
  }
 ],
 "metadata": {
  "kernelspec": {
   "display_name": "nxsdk-0.9.8",
   "language": "python",
   "name": "nxsdk-0.9.8"
  },
  "language_info": {
   "codemirror_mode": {
    "name": "ipython",
    "version": 3
   },
   "file_extension": ".py",
   "mimetype": "text/x-python",
   "name": "python",
   "nbconvert_exporter": "python",
   "pygments_lexer": "ipython3",
   "version": "3.5.2"
  }
 },
 "nbformat": 4,
 "nbformat_minor": 4
}
