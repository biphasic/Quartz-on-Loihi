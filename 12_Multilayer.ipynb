{
 "cells": [
  {
   "cell_type": "code",
   "execution_count": null,
   "metadata": {},
   "outputs": [],
   "source": [
    "import quartz\n",
    "from quartz import layers\n",
    "import numpy as np\n",
    "import torch\n",
    "import torch.nn as nn\n",
    "\n",
    "input_dims = (1,120,1,)\n",
    "l1_output_dim = 84\n",
    "l2_output_dim = 10\n",
    "\n",
    "t_max = 2**9\n",
    "\n",
    "np.random.seed(seed=48)\n",
    "weights1 = (np.random.rand(l1_output_dim, np.product(input_dims)) - 0.5) / 2\n",
    "biases1 = (np.random.rand(l1_output_dim) - 0.5) / 2\n",
    "weights2 = (np.random.rand(l2_output_dim, l1_output_dim) - 0.5) / 2\n",
    "biases2 = (np.random.rand(l2_output_dim) - 0.5) / 2\n",
    "\n",
    "loihi_model = quartz.Network([\n",
    "    layers.InputLayer(dims=input_dims),\n",
    "    layers.Dense(weights=weights1, biases=biases1),\n",
    "    layers.Dense(weights=weights2, biases=biases2),\n",
    "    layers.MonitorLayer(),\n",
    "])\n",
    "\n",
    "hidden7 = quartz.probe(loihi_model.layers[2].blocks[18])\n",
    "calc7 = quartz.probe(loihi_model.layers[2].blocks[18].neurons[0])\n",
    "\n",
    "values = np.random.rand(np.product(input_dims)) / 2\n",
    "inputs = quartz.utils.decode_values_into_spike_input(values, t_max)\n",
    "quantized_values = (values*t_max).round()/t_max\n",
    "quantized_weights1 = (weight_acc*weights1).round()/weight_acc\n",
    "quantized_weights2 = (weight_acc*weights2).round()/weight_acc\n",
    "quantized_biases1 = (biases1*t_max).round()/t_max\n",
    "quantized_biases2 = (biases2*t_max).round()/t_max\n",
    "\n",
    "model = nn.Sequential(\n",
    "    nn.Linear(in_features=np.product(input_dims), out_features=l1_output_dim), nn.ReLU(),\n",
    "    nn.Linear(in_features=l1_output_dim, out_features=l2_output_dim), nn.ReLU(),\n",
    ")\n",
    "model[0].weight = nn.Parameter(torch.tensor(quantized_weights1))\n",
    "model[0].bias = nn.Parameter(torch.tensor(quantized_biases1))\n",
    "model[2].weight = nn.Parameter(torch.tensor(quantized_weights2))\n",
    "model[2].bias = nn.Parameter(torch.tensor(quantized_biases2))\n",
    "model_output = model(torch.tensor(quantized_values)).detach().numpy()\n",
    "model_output"
   ]
  },
  {
   "cell_type": "code",
   "execution_count": null,
   "metadata": {},
   "outputs": [],
   "source": [
    "loihi_model(inputs, t_max)"
   ]
  },
  {
   "cell_type": "code",
   "execution_count": null,
   "metadata": {},
   "outputs": [],
   "source": [
    "loihi_model.layers[0].weight_e"
   ]
  },
  {
   "cell_type": "code",
   "execution_count": null,
   "metadata": {},
   "outputs": [],
   "source": [
    "hidden7.output()"
   ]
  },
  {
   "cell_type": "code",
   "execution_count": null,
   "metadata": {},
   "outputs": [],
   "source": [
    "calc7.plot()"
   ]
  },
  {
   "cell_type": "code",
   "execution_count": null,
   "metadata": {},
   "outputs": [],
   "source": [
    "hidden7.plot()"
   ]
  },
  {
   "cell_type": "markdown",
   "metadata": {},
   "source": [
    "## Conv Maxpool layer"
   ]
  },
  {
   "cell_type": "code",
   "execution_count": null,
   "metadata": {},
   "outputs": [],
   "source": [
    "import quartz\n",
    "from quartz import layers\n",
    "import numpy as np\n",
    "import torch\n",
    "import torch.nn as nn\n",
    "\n",
    "input_dims = ( 1,2,2)\n",
    "weight_dims = ( 3,1,2,2)\n",
    "\n",
    "# (( 1,32,32), ( 6,1,5,5), 251),\n",
    "# (( 6,14,14), (8,6,5,5), 251),\n",
    "t_max = 2**9\n",
    "weight_acc = 128\n",
    "conv_kernel_size = weight_dims[2:]\n",
    "pooling_kernel_size = [2,2]\n",
    "pooling_stride = 2\n",
    "\n",
    "np.random.seed(seed=47)\n",
    "weights = (np.random.rand(*weight_dims)-0.5) / 4\n",
    "biases = (np.random.rand(weight_dims[0])-0.5) / 2\n",
    "\n",
    "loihi_model = quartz.Network([\n",
    "    layers.InputLayer(dims=input_dims),\n",
    "    layers.Conv2D(weights=weights, biases=biases),\n",
    "    layers.MaxPool2D(kernel_size=pooling_kernel_size, stride=pooling_stride),\n",
    "    layers.MonitorLayer(),\n",
    "])\n",
    "\n",
    "trigg0 = quartz.probe(loihi_model.layers[1].blocks[0])\n",
    "conv00 = quartz.probe(loihi_model.layers[1].blocks[1].neurons[0])\n",
    "conv01 = quartz.probe(loihi_model.layers[1].blocks[1].neurons[1])\n",
    "conv20 = quartz.probe(loihi_model.layers[1].blocks[7].neurons[0])\n",
    "conv21 = quartz.probe(loihi_model.layers[1].blocks[7].neurons[1])\n",
    "pool0 = quartz.probe(loihi_model.layers[2].blocks[0])\n",
    "pool1 = quartz.probe(loihi_model.layers[2].blocks[0])\n",
    "\n",
    "values = np.random.rand(np.product(input_dims))\n",
    "inputs = quartz.utils.decode_values_into_spike_input(values, t_max)\n",
    "quantized_values = (values*t_max).round()/t_max\n",
    "quantized_weights = (weight_acc*weights).round()/weight_acc\n",
    "quantized_biases = (biases*t_max).round()/t_max\n",
    "\n",
    "model = nn.Sequential(\n",
    "    nn.Conv2d(in_channels=weight_dims[1], out_channels=weight_dims[0], kernel_size=conv_kernel_size), nn.ReLU(),\n",
    "    nn.MaxPool2d(kernel_size=pooling_kernel_size, stride=pooling_stride), nn.ReLU(),\n",
    ")\n",
    "model[0].weight = nn.Parameter(torch.tensor(quantized_weights))\n",
    "model[0].bias = nn.Parameter(torch.tensor(quantized_biases))\n",
    "model_output = model(torch.tensor(quantized_values.reshape(1, *input_dims[:3]))).squeeze().detach().numpy()\n",
    "model_output.flatten()"
   ]
  },
  {
   "cell_type": "code",
   "execution_count": null,
   "metadata": {},
   "outputs": [],
   "source": [
    "loihi_model(inputs, t_max)"
   ]
  },
  {
   "cell_type": "code",
   "execution_count": null,
   "metadata": {},
   "outputs": [],
   "source": [
    "biases"
   ]
  },
  {
   "cell_type": "code",
   "execution_count": null,
   "metadata": {},
   "outputs": [],
   "source": [
    "trigg0.plot()"
   ]
  },
  {
   "cell_type": "code",
   "execution_count": null,
   "metadata": {},
   "outputs": [],
   "source": [
    "conv20.plot()"
   ]
  },
  {
   "cell_type": "code",
   "execution_count": null,
   "metadata": {},
   "outputs": [],
   "source": [
    "conv21.plot()"
   ]
  },
  {
   "cell_type": "code",
   "execution_count": null,
   "metadata": {},
   "outputs": [],
   "source": [
    "pool0.plot()\n"
   ]
  },
  {
   "cell_type": "code",
   "execution_count": null,
   "metadata": {},
   "outputs": [],
   "source": [
    "loihi_model.layers[1].blocks[1].neurons[0].incoming_synapses()"
   ]
  },
  {
   "cell_type": "code",
   "execution_count": null,
   "metadata": {},
   "outputs": [],
   "source": [
    "conv00.plot()"
   ]
  },
  {
   "cell_type": "code",
   "execution_count": null,
   "metadata": {},
   "outputs": [],
   "source": [
    "conv01.plot()"
   ]
  },
  {
   "cell_type": "code",
   "execution_count": null,
   "metadata": {},
   "outputs": [],
   "source": []
  }
 ],
 "metadata": {
  "kernelspec": {
   "display_name": "nxsdk-0.9.8",
   "language": "python",
   "name": "nxsdk-0.9.8"
  },
  "language_info": {
   "codemirror_mode": {
    "name": "ipython",
    "version": 3
   },
   "file_extension": ".py",
   "mimetype": "text/x-python",
   "name": "python",
   "nbconvert_exporter": "python",
   "pygments_lexer": "ipython3",
   "version": "3.5.2"
  }
 },
 "nbformat": 4,
 "nbformat_minor": 4
}
