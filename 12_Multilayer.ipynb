{
 "cells": [
  {
   "cell_type": "code",
   "execution_count": null,
   "metadata": {},
   "outputs": [],
   "source": [
    "#%matplotlib inline\n",
    "import quartz\n",
    "from quartz import layers\n",
    "import numpy as np\n",
    "import torch\n",
    "import torch.nn as nn\n",
    "t_max = 2**9\n",
    "run_time = 4*t_max\n",
    "input_dims = (1,32,32)\n",
    "weight_dims = (1,6,1,5,5)\n",
    "weight_e = 101\n",
    "weight_acc = 2**7\n",
    "model_args = {'weight_e':weight_e, 'weight_acc':weight_acc}\n",
    "\n",
    "np.random.seed(seed=47)\n",
    "weights1 = (np.random.rand(np.product(dims2),np.product(dims1)) - 0.5) / 4\n",
    "weights2 = (np.random.rand(n_outputs,np.product(dims2)) - 0.5) / 4\n",
    "biases1 = (np.random.rand(np.product(dims2)) - 0.5) / 2\n",
    "biases2 = (np.random.rand(n_outputs) - 0.5) / 2\n",
    "\n",
    "loihi_model = quartz.Network([\n",
    "    layers.InputLayer(dims=dims1, **model_args),\n",
    "    layers.Dense(weights=weights1, biases=biases1, **model_args),\n",
    "    layers.Dense(weights=weights2, biases=biases2, **model_args),\n",
    "    layers.MonitorLayer(**model_args),\n",
    "])\n",
    "\n",
    "values = np.random.rand(np.product(dims1)) # np.ones((np.product(dims))) * 0.5\n",
    "inputs = quartz.decode_values_into_spike_input(values, t_max)\n",
    "\n",
    "# quantized_values = (values*t_max).round()/t_max\n",
    "# quantized_weights = (weight_acc_real*weights).round()/weight_acc_real\n",
    "# quantized_biases = (biases*t_max).round()/t_max\n",
    "\n",
    "# pt_model = nn.Sequential(\n",
    "#     nn.Linear(in_features=np.product(dims1), out_features=np.product(dims2)), \n",
    "#     nn.ReLU(),\n",
    "#     nn.Linear(in_features=np.product(dims2), out_features=n_outputs), \n",
    "#     nn.ReLU(),\n",
    "# )\n",
    "# pt_model[0].weight = torch.nn.Parameter(torch.tensor(quantized_weights))\n",
    "# pt_model[0].bias = torch.nn.Parameter(torch.tensor((quantized_biases)))\n",
    "#model_output = pt_model(torch.tensor(quantized_values)).detach().numpy()\n",
    "loihi_model"
   ]
  },
  {
   "cell_type": "code",
   "execution_count": null,
   "metadata": {},
   "outputs": [],
   "source": [
    "loihi_model(inputs, t_max)"
   ]
  },
  {
   "cell_type": "code",
   "execution_count": null,
   "metadata": {},
   "outputs": [],
   "source": [
    "loihi_model.core_ids\n"
   ]
  },
  {
   "cell_type": "code",
   "execution_count": null,
   "metadata": {},
   "outputs": [],
   "source": []
  },
  {
   "cell_type": "code",
   "execution_count": null,
   "metadata": {},
   "outputs": [],
   "source": []
  },
  {
   "cell_type": "code",
   "execution_count": null,
   "metadata": {},
   "outputs": [],
   "source": []
  },
  {
   "cell_type": "code",
   "execution_count": null,
   "metadata": {},
   "outputs": [],
   "source": []
  },
  {
   "cell_type": "code",
   "execution_count": null,
   "metadata": {},
   "outputs": [],
   "source": [
    "import quartz\n",
    "from quartz import layers\n",
    "import numpy as np\n",
    "import torch\n",
    "import torch.nn as nn\n",
    "\n",
    "input_dims = ( 1,10,10)\n",
    "weight_dims = ( 6,1,3,3)\n",
    "weight_e = 255\n",
    "\n",
    "# (( 1,32,32), ( 6,1,5,5), 251),\n",
    "# (( 6,14,14), (8,6,5,5), 251),\n",
    "t_max = 2**9\n",
    "weight_acc = 128\n",
    "model_args = {'weight_e':weight_e, 'weight_acc':weight_acc}\n",
    "conv_kernel_size = weight_dims[2:]\n",
    "pooling_kernel_size = [2,2]\n",
    "pooling_stride = 2\n",
    "\n",
    "np.random.seed(seed=47)\n",
    "weights = (np.random.rand(*weight_dims)-0.5) / 4\n",
    "biases = (np.random.rand(weight_dims[0])-0.5) / 2\n",
    "\n",
    "loihi_model = quartz.Network([\n",
    "    layers.InputLayer(dims=input_dims, **model_args),\n",
    "    layers.Conv2D(weights=weights, biases=biases, **model_args),\n",
    "    layers.MaxPool2D(kernel_size=pooling_kernel_size, stride=pooling_stride, **model_args),\n",
    "    layers.MonitorLayer(**model_args),\n",
    "])\n",
    "\n",
    "pool0 = quartz.probe(loihi_model.layers[2].blocks[0])\n",
    "\n",
    "values = np.random.rand(np.product(input_dims))\n",
    "inputs = quartz.utils.decode_values_into_spike_input(values, t_max)\n",
    "quantized_values = (values*t_max).round()/t_max\n",
    "quantized_weights = (weight_acc*weights).round()/weight_acc\n",
    "quantized_biases = (biases*t_max).round()/t_max\n",
    "\n",
    "model = nn.Sequential(\n",
    "    nn.Conv2d(in_channels=weight_dims[1], out_channels=weight_dims[0], kernel_size=conv_kernel_size), nn.ReLU(),\n",
    "    nn.MaxPool2d(kernel_size=pooling_kernel_size, stride=pooling_stride), nn.ReLU(),\n",
    ")\n",
    "model[0].weight = nn.Parameter(torch.tensor(quantized_weights))\n",
    "model[0].bias = nn.Parameter(torch.tensor(quantized_biases))\n",
    "model_output = model(torch.tensor(quantized_values.reshape(1, *input_dims[:3]))).squeeze().detach().numpy()\n",
    "#model_output.flatten()"
   ]
  },
  {
   "cell_type": "code",
   "execution_count": null,
   "metadata": {},
   "outputs": [],
   "source": [
    "loihi_model(inputs, t_max)"
   ]
  },
  {
   "cell_type": "code",
   "execution_count": null,
   "metadata": {},
   "outputs": [],
   "source": [
    "pool0.plot()"
   ]
  },
  {
   "cell_type": "code",
   "execution_count": null,
   "metadata": {},
   "outputs": [],
   "source": [
    "pool0.output()"
   ]
  },
  {
   "cell_type": "code",
   "execution_count": null,
   "metadata": {},
   "outputs": [],
   "source": []
  }
 ],
 "metadata": {
  "kernelspec": {
   "display_name": "nxsdk-0.9.8",
   "language": "python",
   "name": "nxsdk-0.9.8"
  },
  "language_info": {
   "codemirror_mode": {
    "name": "ipython",
    "version": 3
   },
   "file_extension": ".py",
   "mimetype": "text/x-python",
   "name": "python",
   "nbconvert_exporter": "python",
   "pygments_lexer": "ipython3",
   "version": "3.5.2"
  }
 },
 "nbformat": 4,
 "nbformat_minor": 4
}
