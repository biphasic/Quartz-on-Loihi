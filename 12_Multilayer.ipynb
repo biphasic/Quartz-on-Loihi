{
 "cells": [
  {
   "cell_type": "code",
   "execution_count": null,
   "metadata": {},
   "outputs": [],
   "source": [
    "import quartz\n",
    "from quartz import layers\n",
    "import numpy as np\n",
    "import torch\n",
    "import torch.nn as nn\n",
    "\n",
    "input_dims = (1,120,1,)\n",
    "l1_output_dim = 84\n",
    "l2_output_dim = 10\n",
    "\n",
    "t_max = 257\n",
    "\n",
    "np.random.seed(seed=48)\n",
    "weights1 = (np.random.rand(l1_output_dim, np.product(input_dims)) - 0.5) / 2\n",
    "biases1 = (np.random.rand(l1_output_dim) - 0.5) / 2\n",
    "weights2 = (np.random.rand(l2_output_dim, l1_output_dim) - 0.5) / 2\n",
    "biases2 = (np.random.rand(l2_output_dim) - 0.5) / 2\n",
    "\n",
    "loihi_model = quartz.Network([\n",
    "    layers.InputLayer(dims=input_dims),\n",
    "    layers.Dense(weights=weights1, biases=biases1),\n",
    "    layers.Dense(weights=weights2, biases=biases2),\n",
    "    layers.MonitorLayer(),\n",
    "])\n",
    "\n",
    "hidden7 = quartz.probe(loihi_model.layers[2].blocks[18])\n",
    "calc7 = quartz.probe(loihi_model.layers[2].blocks[18].neurons[0])\n",
    "\n",
    "values = np.random.rand(np.product(input_dims)) / 2\n",
    "inputs = quartz.utils.decode_values_into_spike_input(values, t_max)\n",
    "quantized_values = (values*t_max).round()/t_max\n",
    "# quantized_weights1 = (weight_acc*weights1).round()/weight_acc\n",
    "# quantized_weights2 = (weight_acc*weights2).round()/weight_acc\n",
    "# quantized_biases1 = (biases1*t_max).round()/t_max\n",
    "# quantized_biases2 = (biases2*t_max).round()/t_max\n",
    "\n",
    "model = nn.Sequential(\n",
    "    nn.Linear(in_features=np.product(input_dims), out_features=l1_output_dim), nn.ReLU(),\n",
    "    nn.Linear(in_features=l1_output_dim, out_features=l2_output_dim), nn.ReLU(),\n",
    ")\n",
    "model[0].weight = nn.Parameter(torch.tensor(weights1))\n",
    "model[0].bias = nn.Parameter(torch.tensor(biases1))\n",
    "model[2].weight = nn.Parameter(torch.tensor(weights2))\n",
    "model[2].bias = nn.Parameter(torch.tensor(biases2))\n",
    "model_output = model(torch.tensor(quantized_values)).detach().numpy()\n",
    "model_output"
   ]
  },
  {
   "cell_type": "code",
   "execution_count": null,
   "metadata": {},
   "outputs": [],
   "source": [
    "loihi_model(inputs, t_max)"
   ]
  },
  {
   "cell_type": "code",
   "execution_count": null,
   "metadata": {},
   "outputs": [],
   "source": [
    "loihi_model(inputs, t_max)"
   ]
  },
  {
   "cell_type": "code",
   "execution_count": null,
   "metadata": {},
   "outputs": [],
   "source": [
    "loihi_model(inputs, t_max)"
   ]
  },
  {
   "cell_type": "code",
   "execution_count": null,
   "metadata": {},
   "outputs": [],
   "source": [
    "loihi_model.layers[0].vth_mant"
   ]
  },
  {
   "cell_type": "code",
   "execution_count": null,
   "metadata": {},
   "outputs": [],
   "source": [
    "hidden7.output()"
   ]
  },
  {
   "cell_type": "code",
   "execution_count": null,
   "metadata": {},
   "outputs": [],
   "source": [
    "calc7.plot()"
   ]
  },
  {
   "cell_type": "code",
   "execution_count": null,
   "metadata": {},
   "outputs": [],
   "source": [
    "hidden7.plot()"
   ]
  },
  {
   "cell_type": "markdown",
   "metadata": {},
   "source": [
    "## Conv Maxpool layer"
   ]
  },
  {
   "cell_type": "code",
   "execution_count": null,
   "metadata": {},
   "outputs": [],
   "source": [
    "import quartz\n",
    "from quartz import layers\n",
    "import numpy as np\n",
    "import torch\n",
    "import torch.nn as nn\n",
    "\n",
    "input_dims = ( 1,2,2)\n",
    "weight_dims = ( 3,1,2,2)\n",
    "\n",
    "# (( 1,32,32), ( 6,1,5,5), 251),\n",
    "# (( 6,14,14), (8,6,5,5), 251),\n",
    "t_max = 2**9\n",
    "weight_acc = 128\n",
    "conv_kernel_size = weight_dims[2:]\n",
    "pooling_kernel_size = [2,2]\n",
    "pooling_stride = 2\n",
    "\n",
    "np.random.seed(seed=47)\n",
    "weights = (np.random.rand(*weight_dims)-0.5) / 4\n",
    "biases = (np.random.rand(weight_dims[0])-0.5) / 2\n",
    "\n",
    "loihi_model = quartz.Network([\n",
    "    layers.InputLayer(dims=input_dims),\n",
    "    layers.Conv2D(weights=weights, biases=biases),\n",
    "    layers.MaxPool2D(kernel_size=pooling_kernel_size, stride=pooling_stride),\n",
    "    layers.MonitorLayer(),\n",
    "])\n",
    "\n",
    "trigg0 = quartz.probe(loihi_model.layers[1].blocks[0])\n",
    "conv00 = quartz.probe(loihi_model.layers[1].blocks[1].neurons[0])\n",
    "conv01 = quartz.probe(loihi_model.layers[1].blocks[1].neurons[1])\n",
    "conv20 = quartz.probe(loihi_model.layers[1].blocks[7].neurons[0])\n",
    "conv21 = quartz.probe(loihi_model.layers[1].blocks[7].neurons[1])\n",
    "pool0 = quartz.probe(loihi_model.layers[2].blocks[0])\n",
    "pool1 = quartz.probe(loihi_model.layers[2].blocks[0])\n",
    "\n",
    "values = np.random.rand(np.product(input_dims))\n",
    "inputs = quartz.utils.decode_values_into_spike_input(values, t_max)\n",
    "quantized_values = (values*t_max).round()/t_max\n",
    "quantized_weights = (weight_acc*weights).round()/weight_acc\n",
    "quantized_biases = (biases*t_max).round()/t_max\n",
    "\n",
    "model = nn.Sequential(\n",
    "    nn.Conv2d(in_channels=weight_dims[1], out_channels=weight_dims[0], kernel_size=conv_kernel_size), nn.ReLU(),\n",
    "    nn.MaxPool2d(kernel_size=pooling_kernel_size, stride=pooling_stride), nn.ReLU(),\n",
    ")\n",
    "model[0].weight = nn.Parameter(torch.tensor(quantized_weights))\n",
    "model[0].bias = nn.Parameter(torch.tensor(quantized_biases))\n",
    "model_output = model(torch.tensor(quantized_values.reshape(1, *input_dims[:3]))).squeeze().detach().numpy()\n",
    "model_output.flatten()"
   ]
  },
  {
   "cell_type": "code",
   "execution_count": null,
   "metadata": {},
   "outputs": [],
   "source": [
    "loihi_model(inputs, t_max)"
   ]
  },
  {
   "cell_type": "code",
   "execution_count": null,
   "metadata": {},
   "outputs": [],
   "source": [
    "biases"
   ]
  },
  {
   "cell_type": "code",
   "execution_count": null,
   "metadata": {},
   "outputs": [],
   "source": [
    "trigg0.plot()"
   ]
  },
  {
   "cell_type": "code",
   "execution_count": null,
   "metadata": {},
   "outputs": [],
   "source": [
    "conv20.plot()"
   ]
  },
  {
   "cell_type": "code",
   "execution_count": null,
   "metadata": {},
   "outputs": [],
   "source": [
    "conv21.plot()"
   ]
  },
  {
   "cell_type": "markdown",
   "metadata": {},
   "source": [
    "## double maxconv"
   ]
  },
  {
   "cell_type": "code",
   "execution_count": null,
   "metadata": {},
   "outputs": [],
   "source": [
    "import quartz\n",
    "from quartz import layers\n",
    "import numpy as np\n",
    "import torch\n",
    "import torch.nn as nn\n",
    "\n",
    "input_dims = ( 1,10,10)\n",
    "weight_dims = ( 6,1,3,3)\n",
    "weight_dims2 = (5,6,2,2)\n",
    "\n",
    "t_max = 2**8\n",
    "weight_acc = 255\n",
    "conv_kernel_size = weight_dims[2:]\n",
    "pooling_kernel_size = [2,2]\n",
    "pooling_stride = 2\n",
    "\n",
    "np.random.seed(seed=47)\n",
    "np.set_printoptions(suppress=True)\n",
    "weights = (np.random.rand(*weight_dims)-0.5) / 4 # np.zeros(weight_dims) #\n",
    "weights2 = (np.random.rand(*weight_dims2)-0.5) / 4 # np.zeros(weight_dims) #\n",
    "biases = (np.random.rand(weight_dims[0])-0.5)\n",
    "biases2 = (np.random.rand(weight_dims2[0])-0.5)\n",
    "#biases2[0] = 0.6\n",
    "#biases2[1] = 0.5\n",
    "biases = np.zeros(weight_dims[0])\n",
    "biases2 = np.zeros(weight_dims2[0])\n",
    "\n",
    "loihi_model = quartz.Network([\n",
    "    layers.InputLayer(dims=input_dims),\n",
    "    layers.ConvPool2D(weights=weights, biases=biases, pool_kernel_size=pooling_kernel_size),\n",
    "    layers.ConvPool2D(weights=weights2, biases=biases2, pool_kernel_size=pooling_kernel_size),\n",
    "    layers.MonitorLayer(),\n",
    "])\n",
    "loihi_model1 = quartz.Network([\n",
    "    layers.InputLayer(dims=input_dims),\n",
    "    layers.Conv2D(weights=weights, biases=biases),\n",
    "    layers.MaxPool2D(kernel_size=pooling_kernel_size, stride=pooling_stride),\n",
    "    layers.Conv2D(weights=weights2, biases=biases2),\n",
    "    layers.MaxPool2D(kernel_size=pooling_kernel_size, stride=pooling_stride),\n",
    "    layers.MonitorLayer(),\n",
    "])\n",
    "\n",
    "values = np.random.rand(np.product(input_dims))\n",
    "inputs = quartz.utils.decode_values_into_spike_input(values, t_max)\n",
    "quantized_values = (values*t_max).round()/t_max\n",
    "quantized_weights = (weight_acc*weights).round()/weight_acc\n",
    "quantized_weights2 = (weight_acc*weights2).round()/weight_acc\n",
    "quantized_biases = (biases*t_max).round()/t_max\n",
    "\n",
    "model = nn.Sequential(\n",
    "    nn.Conv2d(in_channels=weight_dims[1], out_channels=weight_dims[0], kernel_size=conv_kernel_size), nn.ReLU(),\n",
    "    nn.MaxPool2d(kernel_size=pooling_kernel_size, stride=pooling_stride), nn.ReLU(),\n",
    "    nn.Conv2d(in_channels=weight_dims2[1], out_channels=weight_dims2[0], kernel_size=conv_kernel_size), nn.ReLU(),\n",
    "    nn.MaxPool2d(kernel_size=pooling_kernel_size, stride=pooling_stride), nn.ReLU(),\n",
    ")\n",
    "model[0].weight = nn.Parameter(torch.tensor(weights))\n",
    "model[0].bias = nn.Parameter(torch.tensor(biases))\n",
    "model[4].weight = nn.Parameter(torch.tensor(weights2))\n",
    "model[4].bias = nn.Parameter(torch.tensor(biases2))\n",
    "model_output = model(torch.tensor(quantized_values.reshape(1, *input_dims[:3]))).squeeze().detach().numpy()\n",
    "model_output"
   ]
  },
  {
   "cell_type": "code",
   "execution_count": null,
   "metadata": {},
   "outputs": [],
   "source": [
    "loihi_model(inputs, t_max).reshape(*model_output.shape)"
   ]
  },
  {
   "cell_type": "code",
   "execution_count": null,
   "metadata": {},
   "outputs": [],
   "source": [
    "loihi_model1(inputs, t_max).reshape(*model_output.shape)"
   ]
  },
  {
   "cell_type": "code",
   "execution_count": null,
   "metadata": {},
   "outputs": [],
   "source": [
    "loihi_model.layers[1].blocks[-1].neurons[-1].incoming_synapses()"
   ]
  },
  {
   "cell_type": "markdown",
   "metadata": {},
   "source": [
    "## convpool - conv"
   ]
  },
  {
   "cell_type": "code",
   "execution_count": null,
   "metadata": {},
   "outputs": [],
   "source": [
    "import quartz\n",
    "from quartz import layers\n",
    "import numpy as np\n",
    "import torch\n",
    "import torch.nn as nn\n",
    "\n",
    "# input_dims = ( 5,14,14)\n",
    "# weight_dims = ( 8,5,5,5)\n",
    "# weight_dims2 = (120,8,5,5)\n",
    "input_dims = ( 1,7,7)\n",
    "weight_dims = ( 2,1,2,2)\n",
    "weight_dims2 = (4,2,3,3)\n",
    "\n",
    "# input_dims = ( 1,6,6)\n",
    "# weight_dims = ( 2,1,3,3)\n",
    "# weight_dims2 = (3,2,2,2)\n",
    "\n",
    "t_max = 2**9\n",
    "weight_acc = 2**7\n",
    "conv_kernel_size = weight_dims[2:]\n",
    "pooling_kernel_size = [2,2]\n",
    "pooling_stride = 2\n",
    "\n",
    "np.random.seed(seed=34)\n",
    "np.set_printoptions(suppress=True)\n",
    "weights = (np.random.rand(*weight_dims)-0.5) / 4 # np.zeros(weight_dims) #\n",
    "weights2 = (np.random.rand(*weight_dims2)-0.5) / 4 # np.zeros(weight_dims) #\n",
    "biases = (np.random.rand(weight_dims[0])-0.5) / 2\n",
    "biases2 = (np.random.rand(weight_dims2[0])-0.5) / 2\n",
    "\n",
    "biases = np.zeros(weight_dims[0]) # (np.random.rand(weight_dims[0])-0.5) / 2\n",
    "biases2 = np.zeros(weight_dims2[0])\n",
    "\n",
    "loihi_model = quartz.Network([\n",
    "    layers.InputLayer(dims=input_dims),\n",
    "    layers.ConvPool2D(weights=weights, biases=None, pool_kernel_size=pooling_kernel_size, pool_stride=pooling_stride, weight_acc=weight_acc),\n",
    "    layers.Conv2D(weights=weights2, biases=None, weight_acc=weight_acc),\n",
    "    layers.MonitorLayer(),\n",
    "])\n",
    "loihi_model1 = quartz.Network([\n",
    "    layers.InputLayer(dims=input_dims),\n",
    "    layers.Conv2D(weights=weights, biases=None, weight_acc=weight_acc),\n",
    "    layers.MaxPool2D(kernel_size=pooling_kernel_size, stride=pooling_stride),\n",
    "    layers.Conv2D(weights=weights2, biases=None, weight_acc=weight_acc),\n",
    "    layers.MonitorLayer(),\n",
    "])\n",
    "\n",
    "trigger0 = quartz.probe(loihi_model.layers[0].blocks[-1])\n",
    "trigger1 = quartz.probe(loihi_model.layers[1].blocks[0])\n",
    "bias0 = quartz.probe(loihi_model.layers[2].blocks[0])\n",
    "#bias1 = quartz.probe(loihi_model.layers[2].blocks[3])\n",
    "relco0 = quartz.probe(loihi_model.layers[2].blocks[2])\n",
    "#relco1 = quartz.probe(loihi_model.layers[2].blocks[5])\n",
    "calc0 = quartz.probe(loihi_model.layers[2].blocks[2].neurons[0])\n",
    "calc1 = quartz.probe(loihi_model.layers[2].blocks[2].neurons[1])\n",
    "\n",
    "probes = [quartz.probe(block) for block in loihi_model.layers[1].output_blocks()]\n",
    "\n",
    "# relco_alt0 = quartz.probe(loihi_model1.layers[3].output_blocks()[0])\n",
    "# relco_alt1 = quartz.probe(loihi_model1.layers[3].output_blocks()[1])\n",
    "\n",
    "values = np.random.rand(np.product(input_dims)) / 2\n",
    "inputs = quartz.utils.decode_values_into_spike_input(values, t_max)\n",
    "\n",
    "model = nn.Sequential(\n",
    "    nn.Conv2d(in_channels=weight_dims[1], out_channels=weight_dims[0], kernel_size=conv_kernel_size), nn.ReLU(),\n",
    "    nn.MaxPool2d(kernel_size=pooling_kernel_size, stride=pooling_stride), nn.ReLU(),\n",
    "    nn.Conv2d(in_channels=weight_dims2[1], out_channels=weight_dims2[0], kernel_size=conv_kernel_size), nn.ReLU(),\n",
    ")\n",
    "model[0].weight = nn.Parameter(torch.tensor(weights))\n",
    "model[0].bias = nn.Parameter(torch.tensor((biases)))\n",
    "model[4].weight = nn.Parameter(torch.tensor(weights2))\n",
    "model[4].bias = nn.Parameter(torch.tensor((biases2)))\n",
    "model_output = model(torch.tensor(values.reshape(1, *input_dims[:3]))).squeeze().detach().numpy()\n",
    "model_output"
   ]
  },
  {
   "cell_type": "code",
   "execution_count": null,
   "metadata": {},
   "outputs": [],
   "source": [
    "loihi_model(inputs, t_max).reshape(model_output.shape)"
   ]
  },
  {
   "cell_type": "code",
   "execution_count": null,
   "metadata": {},
   "outputs": [],
   "source": [
    "loihi_model1(inputs, t_max).reshape(model_output.shape)"
   ]
  },
  {
   "cell_type": "code",
   "execution_count": null,
   "metadata": {},
   "outputs": [],
   "source": [
    "ok = [probe.plot() for probe in probes]"
   ]
  },
  {
   "cell_type": "code",
   "execution_count": null,
   "metadata": {},
   "outputs": [],
   "source": [
    "[probe.output()[1] for probe in probes]"
   ]
  },
  {
   "cell_type": "code",
   "execution_count": null,
   "metadata": {},
   "outputs": [],
   "source": [
    "probe = probes[-3]"
   ]
  },
  {
   "cell_type": "code",
   "execution_count": null,
   "metadata": {},
   "outputs": [],
   "source": [
    "probe.plot()"
   ]
  },
  {
   "cell_type": "code",
   "execution_count": null,
   "metadata": {},
   "outputs": [],
   "source": [
    "probes[-3].output()"
   ]
  },
  {
   "cell_type": "code",
   "execution_count": null,
   "metadata": {},
   "outputs": [],
   "source": [
    "probe.loihi_probe"
   ]
  },
  {
   "cell_type": "code",
   "execution_count": null,
   "metadata": {},
   "outputs": [],
   "source": [
    "convpool1.plot()"
   ]
  },
  {
   "cell_type": "code",
   "execution_count": null,
   "metadata": {},
   "outputs": [],
   "source": [
    "convpool0.plot()"
   ]
  },
  {
   "cell_type": "code",
   "execution_count": null,
   "metadata": {},
   "outputs": [],
   "source": [
    "convpool10.plot()"
   ]
  },
  {
   "cell_type": "code",
   "execution_count": null,
   "metadata": {},
   "outputs": [],
   "source": [
    "convpool11.plot()"
   ]
  },
  {
   "cell_type": "code",
   "execution_count": null,
   "metadata": {},
   "outputs": [],
   "source": [
    "convpool2.plot()"
   ]
  },
  {
   "cell_type": "code",
   "execution_count": null,
   "metadata": {},
   "outputs": [],
   "source": [
    "convpool3.plot()"
   ]
  },
  {
   "cell_type": "code",
   "execution_count": null,
   "metadata": {},
   "outputs": [],
   "source": [
    "convpool4.plot()"
   ]
  },
  {
   "cell_type": "code",
   "execution_count": null,
   "metadata": {},
   "outputs": [],
   "source": [
    "loihi_model.layers[2].blocks"
   ]
  },
  {
   "cell_type": "code",
   "execution_count": null,
   "metadata": {},
   "outputs": [],
   "source": [
    "calc0.plot()"
   ]
  },
  {
   "cell_type": "code",
   "execution_count": null,
   "metadata": {},
   "outputs": [],
   "source": [
    "loihi_model.layers[1].output_blocks()"
   ]
  },
  {
   "cell_type": "code",
   "execution_count": null,
   "metadata": {},
   "outputs": [],
   "source": []
  }
 ],
 "metadata": {
  "kernelspec": {
   "display_name": "nxsdk-0.9.8",
   "language": "python",
   "name": "nxsdk-0.9.8"
  },
  "language_info": {
   "codemirror_mode": {
    "name": "ipython",
    "version": 3
   },
   "file_extension": ".py",
   "mimetype": "text/x-python",
   "name": "python",
   "nbconvert_exporter": "python",
   "pygments_lexer": "ipython3",
   "version": "3.5.2"
  }
 },
 "nbformat": 4,
 "nbformat_minor": 4
}
