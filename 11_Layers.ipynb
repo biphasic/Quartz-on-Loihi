{
 "cells": [
  {
   "cell_type": "markdown",
   "metadata": {},
   "source": [
    "## Fully Connected layer"
   ]
  },
  {
   "cell_type": "code",
   "execution_count": null,
   "metadata": {},
   "outputs": [],
   "source": [
    "import quartz\n",
    "from quartz import layers\n",
    "import numpy as np\n",
    "import torch\n",
    "import torch.nn as nn\n",
    "t_max = 2**8\n",
    "dims = (1,1,1,1)\n",
    "n_outputs = 3\n",
    "\n",
    "np.random.seed(seed=19)\n",
    "np.set_printoptions(suppress=True)\n",
    "weights = (np.random.rand(n_outputs,np.product(dims[1:])) - 0.5) * 2 # np.ones((n_outputs,np.product(dims[1:]))) # \n",
    "biases = np.zeros((n_outputs)) # (np.random.rand(n_outputs) - 0.5) / 2 # \n",
    "\n",
    "loihi_model = quartz.Network([\n",
    "    layers.InputLayer(dims=dims[1:]),\n",
    "    layers.Dense(weights=weights, biases=None, rectifying=True), # careful NO BIAS\n",
    "    layers.MonitorLayer(),\n",
    "])\n",
    "\n",
    "# input0 = quartz.probe(loihi_model.layers[0].blocks[-1])\n",
    "inputs = [quartz.probe(block) for block in loihi_model.layers[0].blocks[1:]]\n",
    "relcos = [quartz.probe(block) for block in loihi_model.layers[1].blocks[1:]]\n",
    "calcs = [quartz.probe(block.neurons[0]) for block in loihi_model.layers[1].blocks[1:]]\n",
    "trigger0 = quartz.probe(loihi_model.layers[0].blocks[0])\n",
    "trigger1 = quartz.probe(loihi_model.layers[1].blocks[0])\n",
    "outputs = quartz.probe(loihi_model.layers[-1])\n",
    "\n",
    "values = np.random.rand(*dims) / 3 # np.ones((np.product(dims))) * 0.5 # np.zeros((np.product(dims))) # \n",
    "quantized_values = (values*t_max).round()/t_max\n",
    "weight_acc = loihi_model.layers[1].weight_acc\n",
    "quantized_weights = (weight_acc*weights).round()/weight_acc\n",
    "quantized_biases = (biases*t_max).round()/t_max\n",
    "\n",
    "pt_model = nn.Sequential(\n",
    "    nn.Linear(in_features=np.product(dims[1:]), out_features=n_outputs), \n",
    "    nn.ReLU()\n",
    ")\n",
    "pt_model[0].weight = torch.nn.Parameter(torch.tensor(quantized_weights))\n",
    "pt_model[0].bias = torch.nn.Parameter(torch.tensor((quantized_biases)))\n",
    "model_output = pt_model(torch.tensor(quantized_values.reshape(dims[0], -1))).detach().numpy()\n",
    "model_output"
   ]
  },
  {
   "cell_type": "code",
   "execution_count": null,
   "metadata": {},
   "outputs": [],
   "source": [
    "loihi_model(values, t_max, steps_per_image=1600, partition='nahuku32', profiling=False)"
   ]
  },
  {
   "cell_type": "code",
   "execution_count": null,
   "metadata": {},
   "outputs": [],
   "source": []
  },
  {
   "cell_type": "code",
   "execution_count": null,
   "metadata": {},
   "outputs": [],
   "source": [
    "capture = [relco.plot() for relco in relcos]"
   ]
  },
  {
   "cell_type": "code",
   "execution_count": null,
   "metadata": {},
   "outputs": [],
   "source": []
  },
  {
   "cell_type": "code",
   "execution_count": null,
   "metadata": {},
   "outputs": [],
   "source": [
    "trigger1.target.get_connected_blocks()"
   ]
  },
  {
   "cell_type": "code",
   "execution_count": null,
   "metadata": {},
   "outputs": [],
   "source": [
    "loihi_model.data"
   ]
  },
  {
   "cell_type": "code",
   "execution_count": null,
   "metadata": {},
   "outputs": [],
   "source": [
    "relcos[0].output()"
   ]
  },
  {
   "cell_type": "code",
   "execution_count": null,
   "metadata": {},
   "outputs": [],
   "source": [
    "loihi_model.layers[1].blocks[1].neurons[0].synapses"
   ]
  },
  {
   "cell_type": "code",
   "execution_count": null,
   "metadata": {},
   "outputs": [],
   "source": [
    "loihi_model.layers[1].weight_e"
   ]
  },
  {
   "cell_type": "code",
   "execution_count": null,
   "metadata": {},
   "outputs": [],
   "source": []
  },
  {
   "cell_type": "code",
   "execution_count": null,
   "metadata": {},
   "outputs": [],
   "source": []
  },
  {
   "cell_type": "code",
   "execution_count": null,
   "metadata": {},
   "outputs": [],
   "source": [
    "import quartz\n",
    "import numpy as np\n",
    "values = np.random.rand(1,1,10,1)\n",
    "values[0][0][0] = 0\n",
    "values[0][0][1] = 1\n",
    "# values[1][0][0] = 0\n",
    "# values[1][0][1] = 1\n",
    "spikes = quartz.decode_values_into_spike_input(values, t_max=2**7, steps_per_sample=500)\n",
    "print(values)\n",
    "print(spikes)"
   ]
  },
  {
   "cell_type": "code",
   "execution_count": null,
   "metadata": {},
   "outputs": [],
   "source": []
  },
  {
   "cell_type": "code",
   "execution_count": null,
   "metadata": {},
   "outputs": [],
   "source": [
    "output.EnergyPhase(1)"
   ]
  },
  {
   "cell_type": "code",
   "execution_count": null,
   "metadata": {},
   "outputs": [],
   "source": [
    "sum(abs(weights[0,:]))"
   ]
  },
  {
   "cell_type": "code",
   "execution_count": null,
   "metadata": {},
   "outputs": [],
   "source": [
    "output_probe.target.blocks[0].monitor"
   ]
  },
  {
   "cell_type": "code",
   "execution_count": null,
   "metadata": {},
   "outputs": [],
   "source": [
    "loihi_output"
   ]
  },
  {
   "cell_type": "code",
   "execution_count": null,
   "metadata": {},
   "outputs": [],
   "source": [
    "ok = [relco.plot() for relco in relcos]"
   ]
  },
  {
   "cell_type": "code",
   "execution_count": null,
   "metadata": {},
   "outputs": [],
   "source": [
    "ok = [calc.plot() for calc in calcs]"
   ]
  },
  {
   "cell_type": "markdown",
   "metadata": {},
   "source": [
    "## Convolutional Layer"
   ]
  },
  {
   "cell_type": "code",
   "execution_count": null,
   "metadata": {},
   "outputs": [],
   "source": [
    "import quartz\n",
    "from quartz import layers\n",
    "import numpy as np\n",
    "import torch\n",
    "import torch.nn as nn\n",
    "\n",
    "t_max = 2**8\n",
    "input_dims = (1,6,5,5)\n",
    "weight_dims = (6,2,5,5)\n",
    "groups = 3\n",
    "kernel_size = weight_dims[2:]\n",
    "np.random.seed(seed=27)\n",
    "weights = (np.random.rand(*weight_dims)-0.5) / 3 # np.ones((weight_dims)) # \n",
    "biases = (np.random.rand(weight_dims[0])-0.5) / 2 # np.zeros((weight_dims[0])) #\n",
    "\n",
    "loihi_model = quartz.Network([\n",
    "    layers.InputLayer(dims=input_dims[1:]),\n",
    "    layers.Conv2D(weights=weights, biases=biases, groups=groups),\n",
    "    layers.MonitorLayer(),\n",
    "])\n",
    "\n",
    "input0 = quartz.probe(loihi_model.layers[0].blocks[0])\n",
    "relcos = [quartz.probe(block) for block in loihi_model.layers[1].blocks]\n",
    "\n",
    "values = np.random.rand(*input_dims) / 2 # np.zeros((np.product(input_dims)))\n",
    "quantized_values = (values*t_max).round()/t_max\n",
    "weight_acc = loihi_model.layers[1].weight_acc\n",
    "quantized_weights = (weight_acc*weights).round()/weight_acc\n",
    "quantized_biases = (biases*t_max).round()/t_max\n",
    "\n",
    "model = nn.Sequential(nn.Conv2d(in_channels=weight_dims[1]*groups, out_channels=weight_dims[0], kernel_size=kernel_size, groups=groups), nn.ReLU())\n",
    "model[0].weight = torch.nn.Parameter(torch.tensor(quantized_weights))\n",
    "model[0].bias = torch.nn.Parameter(torch.tensor((quantized_biases)))\n",
    "model_output = model(torch.tensor(quantized_values)).detach().numpy()\n",
    "model_output[0]"
   ]
  },
  {
   "cell_type": "code",
   "execution_count": null,
   "metadata": {},
   "outputs": [],
   "source": [
    "loihi_output = loihi_model(values, t_max, steps_per_image=1600, partition='nahuku32')\n",
    "loihi_output[0]"
   ]
  },
  {
   "cell_type": "code",
   "execution_count": null,
   "metadata": {},
   "outputs": [],
   "source": []
  },
  {
   "cell_type": "code",
   "execution_count": null,
   "metadata": {},
   "outputs": [],
   "source": [
    "%debug"
   ]
  },
  {
   "cell_type": "code",
   "execution_count": null,
   "metadata": {},
   "outputs": [],
   "source": []
  },
  {
   "cell_type": "code",
   "execution_count": null,
   "metadata": {},
   "outputs": [],
   "source": [
    "ok = [relco.plot() for relco in relcos]"
   ]
  },
  {
   "cell_type": "markdown",
   "metadata": {},
   "source": [
    "## Max Pooling layer"
   ]
  },
  {
   "cell_type": "code",
   "execution_count": null,
   "metadata": {},
   "outputs": [],
   "source": [
    "import quartz\n",
    "from quartz import layers\n",
    "import numpy as np\n",
    "import torch\n",
    "import torch.nn as nn\n",
    "\n",
    "t_max = 2**8\n",
    "input_dims = (1,16,10,10)\n",
    "kernel_size = [2,2]\n",
    "\n",
    "loihi_model = quartz.Network([\n",
    "    layers.InputLayer(dims=input_dims[1:]),\n",
    "    layers.MaxPool2D(kernel_size=kernel_size),\n",
    "    layers.MonitorLayer(),\n",
    "])\n",
    "\n",
    "#pools = [quartz.probe(block) for block in loihi_model.layers[1].blocks]\n",
    "\n",
    "np.random.seed(seed=45)\n",
    "values = np.random.rand(*input_dims)\n",
    "quantized_values = (values*t_max).round()/t_max\n",
    "\n",
    "model = nn.Sequential(nn.MaxPool2d(kernel_size=kernel_size, stride=kernel_size[0]), nn.ReLU())\n",
    "model_output = model(torch.tensor(quantized_values)).squeeze().detach().numpy()\n",
    "#model_output"
   ]
  },
  {
   "cell_type": "code",
   "execution_count": null,
   "metadata": {},
   "outputs": [],
   "source": [
    "loihi_output = loihi_model(values, t_max, logging=False, partition=\"loihi_2h\") # , steps_per_image=2000)"
   ]
  },
  {
   "cell_type": "code",
   "execution_count": null,
   "metadata": {},
   "outputs": [],
   "source": []
  },
  {
   "cell_type": "code",
   "execution_count": null,
   "metadata": {},
   "outputs": [],
   "source": [
    "loihi_model"
   ]
  },
  {
   "cell_type": "code",
   "execution_count": null,
   "metadata": {},
   "outputs": [],
   "source": [
    "loihi_model.print_core_layout()"
   ]
  },
  {
   "cell_type": "code",
   "execution_count": null,
   "metadata": {},
   "outputs": [],
   "source": [
    "loihi_model.layers[0].n_incoming_connections()"
   ]
  },
  {
   "cell_type": "code",
   "execution_count": null,
   "metadata": {},
   "outputs": [],
   "source": [
    "loihi_model.layers[0].n_recurrent_connections()"
   ]
  },
  {
   "cell_type": "code",
   "execution_count": null,
   "metadata": {},
   "outputs": [],
   "source": []
  },
  {
   "cell_type": "code",
   "execution_count": null,
   "metadata": {},
   "outputs": [],
   "source": [
    "loihi_model.layers[1].n_incoming_connections()"
   ]
  },
  {
   "cell_type": "code",
   "execution_count": null,
   "metadata": {},
   "outputs": [],
   "source": [
    "loihi_model.layers[0].blocks[0].neurons[1].synapses"
   ]
  },
  {
   "cell_type": "code",
   "execution_count": null,
   "metadata": {},
   "outputs": [],
   "source": []
  },
  {
   "cell_type": "markdown",
   "metadata": {},
   "source": [
    "## Convpool layer"
   ]
  },
  {
   "cell_type": "code",
   "execution_count": null,
   "metadata": {},
   "outputs": [],
   "source": [
    "import quartz\n",
    "from quartz import layers\n",
    "import numpy as np\n",
    "import torch\n",
    "import torch.nn as nn\n",
    "\n",
    "input_dims = ( 2,4,4)\n",
    "weight_dims = ( 5,2,3,3)\n",
    "t_max = 2**8\n",
    "batch_size = 400\n",
    "conv_kernel_size = weight_dims[2:]\n",
    "pooling_kernel_size = [2,2]\n",
    "pooling_stride = 2\n",
    "\n",
    "np.random.seed(seed=47)\n",
    "np.set_printoptions(suppress=True)\n",
    "weights = (np.random.rand(*weight_dims)-0.5) / 5 # np.zeros(weight_dims) #\n",
    "biases = (np.random.rand(weight_dims[0])-0.5) # np.zeros(weight_dims[0]) # \n",
    "\n",
    "loihi_model = quartz.Network([\n",
    "    layers.InputLayer(dims=input_dims),\n",
    "    layers.ConvPool2D(weights=weights, biases=biases, pool_kernel_size=pooling_kernel_size),\n",
    "    layers.MonitorLayer(),\n",
    "])\n",
    "trigger0 = quartz.probe(loihi_model.layers[0].blocks[-1])\n",
    "trigger1 = quartz.probe(loihi_model.layers[1].blocks[0])\n",
    "convmaxs1 = [quartz.probe(block) for block in loihi_model.layers[1].blocks[11:]]\n",
    "\n",
    "loihi_model1 = quartz.Network([\n",
    "    layers.InputLayer(dims=input_dims),\n",
    "    layers.Conv2D(weights=weights, biases=biases),\n",
    "    layers.MaxPool2D(kernel_size=pooling_kernel_size, stride=pooling_stride),\n",
    "    layers.MonitorLayer(),\n",
    "])\n",
    "maxpools = [quartz.probe(block) for block in loihi_model1.layers[2].blocks]\n",
    "\n",
    "values = np.random.rand(batch_size, *input_dims) / 4\n",
    "quantized_values = (values*t_max).round()/t_max\n",
    "weight_acc = loihi_model.layers[1].weight_acc\n",
    "quantized_weights = (weight_acc*weights).round()/weight_acc\n",
    "quantized_biases = (biases*t_max).round()/t_max\n",
    "\n",
    "model = nn.Sequential(\n",
    "    nn.Conv2d(in_channels=weight_dims[1], out_channels=weight_dims[0], kernel_size=conv_kernel_size), nn.ReLU(),\n",
    "    nn.MaxPool2d(kernel_size=pooling_kernel_size, stride=pooling_stride), nn.ReLU(),\n",
    ")\n",
    "model[0].weight = nn.Parameter(torch.tensor(weights))\n",
    "model[0].bias = nn.Parameter(torch.tensor(biases))\n",
    "model_output = model(torch.tensor(values)).detach().numpy()\n",
    "#model_output"
   ]
  },
  {
   "cell_type": "code",
   "execution_count": null,
   "metadata": {},
   "outputs": [],
   "source": [
    "loihi_output = loihi_model(values, t_max, steps_per_image=2048, logging=True)\n",
    "#loihi_output"
   ]
  },
  {
   "cell_type": "code",
   "execution_count": null,
   "metadata": {},
   "outputs": [],
   "source": [
    "loihi_output1 = loihi_model1(values, t_max)\n",
    "loihi_output1"
   ]
  },
  {
   "cell_type": "code",
   "execution_count": null,
   "metadata": {},
   "outputs": [],
   "source": []
  },
  {
   "cell_type": "code",
   "execution_count": null,
   "metadata": {},
   "outputs": [],
   "source": []
  },
  {
   "cell_type": "code",
   "execution_count": null,
   "metadata": {},
   "outputs": [],
   "source": [
    "ok = [convmax.plot() for convmax in convmaxs1]"
   ]
  }
 ],
 "metadata": {
  "kernelspec": {
   "display_name": "nxsdk-0.9.8",
   "language": "python",
   "name": "nxsdk-0.9.8"
  },
  "language_info": {
   "codemirror_mode": {
    "name": "ipython",
    "version": 3
   },
   "file_extension": ".py",
   "mimetype": "text/x-python",
   "name": "python",
   "nbconvert_exporter": "python",
   "pygments_lexer": "ipython3",
   "version": "3.5.2"
  }
 },
 "nbformat": 4,
 "nbformat_minor": 4
}
