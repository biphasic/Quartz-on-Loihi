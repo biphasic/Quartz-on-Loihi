{
 "cells": [
  {
   "cell_type": "markdown",
   "metadata": {},
   "source": [
    "## Fully Connected layer"
   ]
  },
  {
   "cell_type": "code",
   "execution_count": null,
   "metadata": {},
   "outputs": [],
   "source": [
    "import quartz\n",
    "from quartz import layers\n",
    "import numpy as np\n",
    "import torch\n",
    "import torch.nn as nn\n",
    "t_max = 2**8\n",
    "batch_size = 2\n",
    "dims = (2,10,10)\n",
    "n_outputs = 2\n",
    "\n",
    "np.random.seed(seed=24)\n",
    "np.set_printoptions(suppress=True)\n",
    "weights = (np.random.rand(n_outputs,np.product(dims)) - 0.5) / 4 # np.ones((n_outputs,np.product(dims))) # \n",
    "biases = (np.random.rand(n_outputs) - 0.5) / 2 # np.zeros((n_outputs)) # \n",
    "\n",
    "loihi_model = quartz.Network([\n",
    "    layers.InputLayer(dims=dims),\n",
    "    layers.Dense(weights=weights, biases=biases),\n",
    "    layers.MonitorLayer(),\n",
    "])\n",
    "\n",
    "# input0 = quartz.probe(loihi_model.layers[0].blocks[-1])\n",
    "# relcos = [quartz.probe(block) for block in loihi_model.layers[1].blocks[::3]]\n",
    "# calcs = [quartz.probe(block.neurons[0]) for block in loihi_model.layers[1].blocks[::3]]\n",
    "# splitters = [quartz.probe(block) for block in loihi_model.layers[1].blocks[2::3]]\n",
    "\n",
    "values = np.random.rand(batch_size,*dims) / 2 # np.ones((np.product(dims))) * 0.5 # np.zeros((np.product(dims))) # \n",
    "quantized_values = (values*t_max).round()/t_max\n",
    "weight_acc = loihi_model.layers[1].weight_acc\n",
    "quantized_weights = (weight_acc*weights).round()/weight_acc\n",
    "quantized_biases = (biases*t_max).round()/t_max\n",
    "\n",
    "pt_model = nn.Sequential(\n",
    "    nn.Linear(in_features=np.product(dims), out_features=n_outputs), \n",
    "    nn.ReLU()\n",
    ")\n",
    "pt_model[0].weight = torch.nn.Parameter(torch.tensor(quantized_weights))\n",
    "pt_model[0].bias = torch.nn.Parameter(torch.tensor((quantized_biases)))\n",
    "model_output = pt_model(torch.tensor(quantized_values.reshape(batch_size, -1))).detach().numpy()\n",
    "model_output"
   ]
  },
  {
   "cell_type": "code",
   "execution_count": null,
   "metadata": {},
   "outputs": [],
   "source": [
    "loihi_output = loihi_model(values, t_max, steps_per_image=1600) #, partition='nahuku32', profiling=True)"
   ]
  },
  {
   "cell_type": "code",
   "execution_count": null,
   "metadata": {},
   "outputs": [],
   "source": [
    "loihi_output"
   ]
  },
  {
   "cell_type": "code",
   "execution_count": null,
   "metadata": {},
   "outputs": [],
   "source": []
  },
  {
   "cell_type": "code",
   "execution_count": null,
   "metadata": {},
   "outputs": [],
   "source": []
  },
  {
   "cell_type": "code",
   "execution_count": null,
   "metadata": {},
   "outputs": [],
   "source": [
    "ok = [relco.plot() for relco in relcos]"
   ]
  },
  {
   "cell_type": "code",
   "execution_count": null,
   "metadata": {},
   "outputs": [],
   "source": [
    "ok = [calc.plot() for calc in calcs]"
   ]
  },
  {
   "cell_type": "code",
   "execution_count": null,
   "metadata": {},
   "outputs": [],
   "source": []
  },
  {
   "cell_type": "markdown",
   "metadata": {},
   "source": [
    "## Convolutional Layer"
   ]
  },
  {
   "cell_type": "code",
   "execution_count": null,
   "metadata": {},
   "outputs": [],
   "source": [
    "import quartz\n",
    "from quartz import layers\n",
    "import numpy as np\n",
    "import torch\n",
    "import torch.nn as nn\n",
    "\n",
    "t_max = 2**8\n",
    "input_dims = (2,4,4)\n",
    "weight_dims = (4,2,2,2)\n",
    "batch_size = 1\n",
    "kernel_size = weight_dims[2:]\n",
    "np.random.seed(seed=27)\n",
    "weights = (np.random.rand(*weight_dims)-0.5) / 3 # np.ones((weight_dims)) # \n",
    "biases = (np.random.rand(weight_dims[0])-0.5) / 2 # np.zeros((weight_dims[0])) #\n",
    "\n",
    "loihi_model = quartz.Network([\n",
    "    layers.InputLayer(dims=input_dims),\n",
    "    layers.Conv2D(weights=weights, biases=biases),\n",
    "    layers.MonitorLayer(),\n",
    "])\n",
    "\n",
    "input0 = quartz.probe(loihi_model.layers[0].blocks[0])\n",
    "relcos = [quartz.probe(block) for block in loihi_model.layers[1].blocks]\n",
    "\n",
    "values = np.random.rand(batch_size, *input_dims) / 2 # np.zeros((np.product(input_dims)))\n",
    "quantized_values = (values*t_max).round()/t_max\n",
    "weight_acc = loihi_model.layers[1].weight_acc\n",
    "quantized_weights = (weight_acc*weights).round()/weight_acc\n",
    "quantized_biases = (biases*t_max).round()/t_max\n",
    "\n",
    "model = nn.Sequential(nn.Conv2d(in_channels=weight_dims[1], out_channels=weight_dims[0], kernel_size=kernel_size), nn.ReLU())\n",
    "model[0].weight = torch.nn.Parameter(torch.tensor(quantized_weights))\n",
    "model[0].bias = torch.nn.Parameter(torch.tensor((quantized_biases)))\n",
    "model_output = model(torch.tensor(quantized_values)).detach().numpy()\n",
    "#model_output"
   ]
  },
  {
   "cell_type": "code",
   "execution_count": null,
   "metadata": {},
   "outputs": [],
   "source": [
    "loihi_output = loihi_model(values, t_max, steps_per_image=1600)\n",
    "loihi_output[0]"
   ]
  },
  {
   "cell_type": "code",
   "execution_count": null,
   "metadata": {},
   "outputs": [],
   "source": []
  },
  {
   "cell_type": "code",
   "execution_count": null,
   "metadata": {},
   "outputs": [],
   "source": []
  },
  {
   "cell_type": "code",
   "execution_count": null,
   "metadata": {},
   "outputs": [],
   "source": []
  },
  {
   "cell_type": "code",
   "execution_count": null,
   "metadata": {},
   "outputs": [],
   "source": [
    "ok = [relco.plot() for relco in relcos]"
   ]
  },
  {
   "cell_type": "markdown",
   "metadata": {},
   "source": [
    "## Max Pooling layer"
   ]
  },
  {
   "cell_type": "code",
   "execution_count": null,
   "metadata": {},
   "outputs": [],
   "source": [
    "import quartz\n",
    "from quartz import layers\n",
    "import numpy as np\n",
    "import torch\n",
    "import torch.nn as nn\n",
    "\n",
    "t_max = 2**8\n",
    "batch_size = 2\n",
    "input_dims = (1,10,10)\n",
    "kernel_size = [2,2]\n",
    "\n",
    "loihi_model = quartz.Network([\n",
    "    layers.InputLayer(dims=input_dims),\n",
    "    layers.MaxPool2D(kernel_size=kernel_size),\n",
    "    layers.MonitorLayer(),\n",
    "])\n",
    "\n",
    "pool0 = quartz.probe(loihi_model.layers[1].blocks[0])\n",
    "\n",
    "np.random.seed(seed=45)\n",
    "values = np.random.rand(batch_size, *input_dims)\n",
    "quantized_values = (values*t_max).round()/t_max\n",
    "\n",
    "model = nn.Sequential(nn.MaxPool2d(kernel_size=kernel_size, stride=kernel_size[0]), nn.ReLU())\n",
    "model_output = model(torch.tensor(quantized_values)).squeeze().detach().numpy()\n",
    "model_output"
   ]
  },
  {
   "cell_type": "code",
   "execution_count": null,
   "metadata": {},
   "outputs": [],
   "source": [
    "loihi_model(values, t_max, steps_per_image=2600)"
   ]
  },
  {
   "cell_type": "code",
   "execution_count": null,
   "metadata": {},
   "outputs": [],
   "source": []
  },
  {
   "cell_type": "code",
   "execution_count": null,
   "metadata": {},
   "outputs": [],
   "source": []
  },
  {
   "cell_type": "markdown",
   "metadata": {},
   "source": [
    "## Convpool layer"
   ]
  },
  {
   "cell_type": "code",
   "execution_count": null,
   "metadata": {},
   "outputs": [],
   "source": [
    "import quartz\n",
    "from quartz import layers\n",
    "import numpy as np\n",
    "import torch\n",
    "import torch.nn as nn\n",
    "\n",
    "input_dims = ( 2,4,4)\n",
    "weight_dims = ( 5,2,3,3)\n",
    "t_max = 2**8\n",
    "batch_size = 2\n",
    "conv_kernel_size = weight_dims[2:]\n",
    "pooling_kernel_size = [2,2]\n",
    "pooling_stride = 2\n",
    "\n",
    "np.random.seed(seed=47)\n",
    "np.set_printoptions(suppress=True)\n",
    "weights = (np.random.rand(*weight_dims)-0.5) / 2 # np.zeros(weight_dims) #\n",
    "biases = (np.random.rand(weight_dims[0])-0.5) # np.zeros(weight_dims[0]) #\n",
    "\n",
    "loihi_model = quartz.Network([\n",
    "    layers.InputLayer(dims=input_dims),\n",
    "    layers.ConvPool2D(weights=weights, biases=biases, pool_kernel_size=pooling_kernel_size),\n",
    "    layers.MonitorLayer(),\n",
    "])\n",
    "trigger0 = quartz.probe(loihi_model.layers[0].blocks[-1])\n",
    "trigger1 = quartz.probe(loihi_model.layers[1].blocks[0])\n",
    "convmaxs1 = [quartz.probe(block) for block in loihi_model.layers[1].blocks[11:]]\n",
    "\n",
    "loihi_model1 = quartz.Network([\n",
    "    layers.InputLayer(dims=input_dims),\n",
    "    layers.Conv2D(weights=weights, biases=biases),\n",
    "    layers.MaxPool2D(kernel_size=pooling_kernel_size, stride=pooling_stride),\n",
    "    layers.MonitorLayer(),\n",
    "])\n",
    "values = np.random.rand(batch_size, *input_dims)\n",
    "quantized_values = (values*t_max).round()/t_max\n",
    "weight_acc = loihi_model.layers[1].weight_acc\n",
    "quantized_weights = (weight_acc*weights).round()/weight_acc\n",
    "quantized_biases = (biases*t_max).round()/t_max\n",
    "\n",
    "model = nn.Sequential(\n",
    "    nn.Conv2d(in_channels=weight_dims[1], out_channels=weight_dims[0], kernel_size=conv_kernel_size), nn.ReLU(),\n",
    "    nn.MaxPool2d(kernel_size=pooling_kernel_size, stride=pooling_stride), nn.ReLU(),\n",
    ")\n",
    "model[0].weight = nn.Parameter(torch.tensor(weights))\n",
    "model[0].bias = nn.Parameter(torch.tensor(biases))\n",
    "model_output = model(torch.tensor(values)).detach().numpy()\n",
    "model_output"
   ]
  },
  {
   "cell_type": "code",
   "execution_count": null,
   "metadata": {},
   "outputs": [],
   "source": [
    "loihi_output = loihi_model(values, t_max, steps_per_image=2600)\n",
    "loihi_output"
   ]
  },
  {
   "cell_type": "code",
   "execution_count": null,
   "metadata": {},
   "outputs": [],
   "source": []
  },
  {
   "cell_type": "code",
   "execution_count": null,
   "metadata": {},
   "outputs": [],
   "source": [
    "ok = [convmax.plot() for convmax in convmaxs1]"
   ]
  },
  {
   "cell_type": "code",
   "execution_count": null,
   "metadata": {},
   "outputs": [],
   "source": []
  },
  {
   "cell_type": "code",
   "execution_count": null,
   "metadata": {},
   "outputs": [],
   "source": []
  },
  {
   "cell_type": "code",
   "execution_count": null,
   "metadata": {},
   "outputs": [],
   "source": []
  },
  {
   "cell_type": "code",
   "execution_count": null,
   "metadata": {},
   "outputs": [],
   "source": []
  }
 ],
 "metadata": {
  "kernelspec": {
   "display_name": "nxsdk-0.9.8",
   "language": "python",
   "name": "nxsdk-0.9.8"
  },
  "language_info": {
   "codemirror_mode": {
    "name": "ipython",
    "version": 3
   },
   "file_extension": ".py",
   "mimetype": "text/x-python",
   "name": "python",
   "nbconvert_exporter": "python",
   "pygments_lexer": "ipython3",
   "version": "3.5.2"
  }
 },
 "nbformat": 4,
 "nbformat_minor": 4
}
