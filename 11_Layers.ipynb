{
 "cells": [
  {
   "cell_type": "markdown",
   "metadata": {},
   "source": [
    "## Fully Connected layer"
   ]
  },
  {
   "cell_type": "code",
   "execution_count": null,
   "metadata": {},
   "outputs": [],
   "source": [
    "import quartz\n",
    "from quartz import layers\n",
    "import numpy as np\n",
    "import torch\n",
    "import torch.nn as nn\n",
    "t_max = 2**8\n",
    "dims = (1,15,15)\n",
    "n_outputs = 10\n",
    "\n",
    "np.random.seed(seed=39)\n",
    "weights = (np.random.rand(n_outputs,np.product(dims)) - 0.5) / 4\n",
    "biases = (np.random.rand(n_outputs) - 0.5) / 2\n",
    "\n",
    "loihi_model = quartz.Network([\n",
    "    layers.InputLayer(dims=dims),\n",
    "    layers.Dense(weights=weights, biases=biases),\n",
    "    layers.MonitorLayer(),\n",
    "])\n",
    "\n",
    "input0 = quartz.probe(loihi_model.layers[0].blocks[-1])\n",
    "relcos = [quartz.probe(block) for block in loihi_model.layers[1].blocks[::3]]\n",
    "calcs = [quartz.probe(block.neurons[0]) for block in loihi_model.layers[1].blocks[::3]]\n",
    "\n",
    "values = np.random.rand(1,*dims) # np.ones((np.product(dims))) * 0.5 np.zeros((np.product(dims))) # \n",
    "quantized_values = (values*t_max).round()/t_max\n",
    "quantized_biases = (biases*t_max).round()/t_max\n",
    "\n",
    "pt_model = nn.Sequential(\n",
    "    nn.Linear(in_features=np.product(dims), out_features=n_outputs), \n",
    "    nn.ReLU()\n",
    ")\n",
    "pt_model[0].weight = torch.nn.Parameter(torch.tensor(weights))\n",
    "pt_model[0].bias = torch.nn.Parameter(torch.tensor((quantized_biases)))\n",
    "model_output = pt_model(torch.tensor(quantized_values).flatten()).detach().numpy()\n",
    "model_output"
   ]
  },
  {
   "cell_type": "code",
   "execution_count": null,
   "metadata": {},
   "outputs": [],
   "source": [
    "loihi_model(values, t_max)#, steps_per_image=2500)"
   ]
  },
  {
   "cell_type": "code",
   "execution_count": null,
   "metadata": {},
   "outputs": [],
   "source": [
    "ok = [relco.plot() for relco in relcos]"
   ]
  },
  {
   "cell_type": "code",
   "execution_count": null,
   "metadata": {},
   "outputs": [],
   "source": [
    "ok = [calc.plot() for calc in calcs]"
   ]
  },
  {
   "cell_type": "code",
   "execution_count": null,
   "metadata": {},
   "outputs": [],
   "source": []
  },
  {
   "cell_type": "code",
   "execution_count": null,
   "metadata": {},
   "outputs": [],
   "source": [
    "dim_input = (1,10,1,)\n",
    "dim_output = 1\n",
    "t_max = 2**8\n",
    "np.random.seed(seed=47)\n",
    "weights = np.ones((dim_output,np.product(dim_input))) / 255\n",
    "\n",
    "loihi_model = quartz.Network([\n",
    "    layers.InputLayer(dims=dim_input),\n",
    "    layers.Dense(weights=weights, biases=None),\n",
    "    layers.MonitorLayer(),\n",
    "])\n",
    "values = np.ones((1, *dim_input))\n",
    "quantized_values = (values*t_max).round()/t_max\n",
    "\n",
    "pt_model = nn.Sequential(\n",
    "    nn.Linear(in_features=np.product(dim_input), out_features=dim_output), \n",
    "    nn.ReLU()\n",
    ")\n",
    "pt_model[0].weight = torch.nn.Parameter(torch.tensor(weights))\n",
    "pt_model[0].bias = torch.nn.Parameter(torch.tensor(np.zeros(dim_output)))\n",
    "model_output = pt_model(torch.tensor(quantized_values).flatten()).detach().numpy()\n",
    "model_output"
   ]
  },
  {
   "cell_type": "code",
   "execution_count": null,
   "metadata": {},
   "outputs": [],
   "source": [
    "loihi_output = loihi_model(values, t_max)\n",
    "loihi_output"
   ]
  },
  {
   "cell_type": "code",
   "execution_count": null,
   "metadata": {},
   "outputs": [],
   "source": [
    "round(0.03921569 * t_max) / t_max"
   ]
  },
  {
   "cell_type": "code",
   "execution_count": null,
   "metadata": {},
   "outputs": [],
   "source": []
  },
  {
   "cell_type": "markdown",
   "metadata": {},
   "source": [
    "## Convolutional Layer"
   ]
  },
  {
   "cell_type": "code",
   "execution_count": null,
   "metadata": {},
   "outputs": [],
   "source": [
    "import quartz\n",
    "from quartz import layers\n",
    "import numpy as np\n",
    "import torch\n",
    "import torch.nn as nn\n",
    "\n",
    "t_max = 2**8\n",
    "input_dims = (2,5,5)\n",
    "weight_dims = (1,2,2,2)\n",
    "\n",
    "kernel_size = weight_dims[2:]\n",
    "np.random.seed(seed=27)\n",
    "weights = (np.random.rand(*weight_dims)-0.5) / 2 # np.ones((weight_dims)) # \n",
    "biases = (np.random.rand(weight_dims[0])-0.5) # np.zeros((weight_dims[0])) # \n",
    "\n",
    "loihi_model = quartz.Network([\n",
    "    layers.InputLayer(dims=input_dims),\n",
    "    layers.Conv2D(weights=weights, biases=None),\n",
    "    layers.MonitorLayer(),\n",
    "])\n",
    "\n",
    "input0 = quartz.probe(loihi_model.layers[0].blocks[0])\n",
    "relcos = [quartz.probe(block) for block in loihi_model.layers[1].blocks]\n",
    "\n",
    "values = np.random.rand(2, *input_dims) / 2 # np.zeros((np.product(input_dims)))\n",
    "\n",
    "quantized_values = (values*t_max).round()/t_max\n",
    "#quantized_values = quantized_values.reshape(*input_dims)\n",
    "\n",
    "model = nn.Sequential(nn.Conv2d(in_channels=weight_dims[1], out_channels=weight_dims[0], kernel_size=kernel_size), nn.ReLU())\n",
    "model[0].weight = torch.nn.Parameter(torch.tensor(weights))\n",
    "model[0].bias = torch.nn.Parameter(torch.tensor(np.zeros_like(biases)))\n",
    "model_output = model(torch.tensor(quantized_values.reshape(2, *input_dims))).detach().numpy()\n",
    "model_output"
   ]
  },
  {
   "cell_type": "code",
   "execution_count": null,
   "metadata": {},
   "outputs": [],
   "source": [
    "values.shape"
   ]
  },
  {
   "cell_type": "code",
   "execution_count": null,
   "metadata": {},
   "outputs": [],
   "source": [
    "probe = loihi_model(values, t_max, steps_per_image=2500)"
   ]
  },
  {
   "cell_type": "code",
   "execution_count": null,
   "metadata": {},
   "outputs": [],
   "source": [
    "probe"
   ]
  },
  {
   "cell_type": "code",
   "execution_count": null,
   "metadata": {},
   "outputs": [],
   "source": [
    "probe.output()"
   ]
  },
  {
   "cell_type": "code",
   "execution_count": null,
   "metadata": {},
   "outputs": [],
   "source": []
  },
  {
   "cell_type": "code",
   "execution_count": null,
   "metadata": {},
   "outputs": [],
   "source": [
    "ok = [relco.plot() for relco in relcos]"
   ]
  },
  {
   "cell_type": "markdown",
   "metadata": {},
   "source": [
    "## Max Pooling layer"
   ]
  },
  {
   "cell_type": "code",
   "execution_count": null,
   "metadata": {},
   "outputs": [],
   "source": [
    "import quartz\n",
    "from quartz import layers\n",
    "import numpy as np\n",
    "import torch\n",
    "import torch.nn as nn\n",
    "\n",
    "t_max = 2**8\n",
    "input_dims = (1,10,10)\n",
    "kernel_size = [2,2]\n",
    "\n",
    "loihi_model = quartz.Network([\n",
    "    layers.InputLayer(dims=input_dims),\n",
    "    layers.MaxPool2D(kernel_size=kernel_size),\n",
    "    layers.MonitorLayer(),\n",
    "])\n",
    "\n",
    "pool0 = quartz.probe(loihi_model.layers[1].blocks[0])\n",
    "\n",
    "np.random.seed(seed=45)\n",
    "values = np.random.rand(np.product(input_dims))\n",
    "values[values.shape[0]//2:] = 0\n",
    "inputs = quartz.utils.decode_values_into_spike_input(values, t_max)\n",
    "quantized_values = (values*t_max).round()/t_max\n",
    "\n",
    "model = nn.Sequential(nn.MaxPool2d(kernel_size=kernel_size, stride=kernel_size[0]), nn.ReLU())\n",
    "model_output = model(torch.tensor(quantized_values.reshape(1, *input_dims[:3]))).squeeze().detach().numpy()\n",
    "model_output"
   ]
  },
  {
   "cell_type": "code",
   "execution_count": null,
   "metadata": {},
   "outputs": [],
   "source": [
    "loihi_model(inputs, t_max)"
   ]
  },
  {
   "cell_type": "code",
   "execution_count": null,
   "metadata": {},
   "outputs": [],
   "source": []
  },
  {
   "cell_type": "code",
   "execution_count": null,
   "metadata": {},
   "outputs": [],
   "source": [
    "values"
   ]
  },
  {
   "cell_type": "markdown",
   "metadata": {},
   "source": [
    "## Conv Maxpool layer"
   ]
  },
  {
   "cell_type": "code",
   "execution_count": null,
   "metadata": {},
   "outputs": [],
   "source": [
    "import quartz\n",
    "from quartz import layers\n",
    "import numpy as np\n",
    "import torch\n",
    "import torch.nn as nn\n",
    "\n",
    "input_dims = ( 2,7,7)\n",
    "weight_dims = ( 4,2,5,5)\n",
    "\n",
    "input_dims = ( 1,10,10)\n",
    "weight_dims = ( 6,1,3,3)\n",
    "t_max = 2**9\n",
    "weight_acc = 2**7\n",
    "conv_kernel_size = weight_dims[2:]\n",
    "pooling_kernel_size = [2,2]\n",
    "pooling_stride = 2\n",
    "\n",
    "np.random.seed(seed=46)\n",
    "np.set_printoptions(suppress=True)\n",
    "weights = (np.random.rand(*weight_dims)-0.5) / 4 # np.zeros(weight_dims) #\n",
    "biases = np.zeros(weight_dims[0]) # (np.random.rand(weight_dims[0])-0.5) / 2\n",
    "\n",
    "loihi_model = quartz.Network([\n",
    "    layers.InputLayer(dims=input_dims),\n",
    "    layers.ConvPool2D(weights=weights, biases=biases, pool_kernel_size=pooling_kernel_size, weight_acc=weight_acc),\n",
    "    layers.MonitorLayer(),\n",
    "])\n",
    "loihi_model1 = quartz.Network([\n",
    "    layers.InputLayer(dims=input_dims),\n",
    "    layers.Conv2D(weights=weights, biases=biases, weight_acc=weight_acc),\n",
    "    layers.MaxPool2D(kernel_size=pooling_kernel_size, stride=pooling_stride, weight_acc=weight_acc),\n",
    "    layers.MonitorLayer(),\n",
    "])\n",
    "\n",
    "trigg0 = quartz.probe(loihi_model.layers[1].blocks[0])\n",
    "# conv00_block = quartz.probe(loihi_model.layers[1].blocks[7])\n",
    "# conv00 = quartz.probe(loihi_model.layers[1].blocks[7].neurons[0])\n",
    "# conv01 = quartz.probe(loihi_model.layers[1].blocks[7].neurons[1])\n",
    "# conv02 = quartz.probe(loihi_model.layers[1].blocks[7].neurons[2])\n",
    "# conv03 = quartz.probe(loihi_model.layers[1].blocks[7].neurons[3])\n",
    "# conv04 = quartz.probe(loihi_model.layers[1].blocks[7].neurons[4])\n",
    "# conv05 = quartz.probe(loihi_model.layers[1].blocks[7].neurons[5])\n",
    "conv22 = quartz.probe(loihi_model.layers[1].blocks[-1])\n",
    "\n",
    "values = np.random.rand(np.product(input_dims))\n",
    "quantized_values = (values*t_max).round()/t_max\n",
    "quantized_weights = (weight_acc*weights).round()/weight_acc\n",
    "quantized_biases = (biases*t_max).round()/t_max\n",
    "\n",
    "model = nn.Sequential(\n",
    "    nn.Conv2d(in_channels=weight_dims[1], out_channels=weight_dims[0], kernel_size=conv_kernel_size), nn.ReLU(),\n",
    "    nn.MaxPool2d(kernel_size=pooling_kernel_size, stride=pooling_stride), nn.ReLU(),\n",
    ")\n",
    "model[0].weight = nn.Parameter(torch.tensor(weights))\n",
    "model[0].bias = nn.Parameter(torch.tensor(biases))\n",
    "model_output = model(torch.tensor(values.reshape(1, *input_dims[:3]))).squeeze().detach().numpy()\n",
    "model_output"
   ]
  },
  {
   "cell_type": "code",
   "execution_count": null,
   "metadata": {},
   "outputs": [],
   "source": [
    "loihi_model(values, t_max).reshape(model_output.shape)"
   ]
  },
  {
   "cell_type": "code",
   "execution_count": null,
   "metadata": {},
   "outputs": [],
   "source": [
    "loihi_model1(values, t_max).reshape(model_output.shape)"
   ]
  },
  {
   "cell_type": "code",
   "execution_count": null,
   "metadata": {},
   "outputs": [],
   "source": [
    "loihi_model.layers[1].blocks[0].neurons[0].outgoing_synapses()"
   ]
  },
  {
   "cell_type": "code",
   "execution_count": null,
   "metadata": {},
   "outputs": [],
   "source": [
    "loihi_model.layers[1].blocks[-1].second()"
   ]
  },
  {
   "cell_type": "code",
   "execution_count": null,
   "metadata": {},
   "outputs": [],
   "source": [
    "loihi_model1.layers[2].output_blocks()[0].output_neurons()[1].incoming_synapses()"
   ]
  },
  {
   "cell_type": "code",
   "execution_count": null,
   "metadata": {},
   "outputs": [],
   "source": []
  }
 ],
 "metadata": {
  "kernelspec": {
   "display_name": "nxsdk-0.9.8",
   "language": "python",
   "name": "nxsdk-0.9.8"
  },
  "language_info": {
   "codemirror_mode": {
    "name": "ipython",
    "version": 3
   },
   "file_extension": ".py",
   "mimetype": "text/x-python",
   "name": "python",
   "nbconvert_exporter": "python",
   "pygments_lexer": "ipython3",
   "version": "3.5.2"
  }
 },
 "nbformat": 4,
 "nbformat_minor": 4
}
