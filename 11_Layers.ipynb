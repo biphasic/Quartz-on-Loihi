{
 "cells": [
  {
   "cell_type": "markdown",
   "metadata": {},
   "source": [
    "## Fully Connected layer"
   ]
  },
  {
   "cell_type": "code",
   "execution_count": null,
   "metadata": {},
   "outputs": [],
   "source": [
    "#%matplotlib inline\n",
    "import quartz\n",
    "from quartz import layers\n",
    "import numpy as np\n",
    "import torch\n",
    "import torch.nn as nn\n",
    "t_max = 2**8\n",
    "dims = (1,15,1)\n",
    "n_outputs = 10\n",
    "weight_e = 16 # 101 # \n",
    "weight_acc = 2**7\n",
    "model_args = {'weight_e':weight_e, 'weight_acc':weight_acc}\n",
    "\n",
    "np.random.seed(seed=47)\n",
    "weights = (np.random.rand(n_outputs,np.product(dims)) - 0.5) / 4\n",
    "biases = (np.random.rand(n_outputs) - 0.5) / 2\n",
    "\n",
    "loihi_model = quartz.Network([\n",
    "    layers.InputLayer(dims=dims, **model_args),\n",
    "    layers.Dense(weights=weights, biases=biases, **model_args),\n",
    "    layers.MonitorLayer(**model_args),\n",
    "])\n",
    "\n",
    "calc_probe = quartz.probe(loihi_model.layers[1].blocks[-3].neurons[0])\n",
    "sync_probe = quartz.probe(loihi_model.layers[1].blocks[-3].neurons[2])\n",
    "input_probe = quartz.probe(loihi_model.layers[0].blocks[0])\n",
    "hidden_probe9 = quartz.probe(loihi_model.layers[1].blocks[-3])\n",
    "hidden_probe0 = quartz.probe(loihi_model.layers[1].blocks[0])\n",
    "output_probe = quartz.probe(loihi_model.layers[2].blocks[0])\n",
    "bias9_block = loihi_model.layers[1].blocks[-2]\n",
    "bias9_probe = quartz.probe(bias9_block)\n",
    "bias7_block = loihi_model.layers[1].blocks[-8]\n",
    "bias7_probe = quartz.probe(bias7_block)\n",
    "\n",
    "values = np.random.rand(np.product(dims)) # np.ones((np.product(dims))) * 0.5\n",
    "inputs = quartz.decode_values_into_spike_input(values, t_max)\n",
    "\n",
    "quantized_values = (values*t_max).round()/t_max\n",
    "quantized_weights = (weight_acc*weights).round()/weight_acc\n",
    "quantized_biases = (biases*t_max).round()/t_max\n",
    "\n",
    "pt_model = nn.Sequential(\n",
    "    nn.Linear(in_features=np.product(dims), out_features=n_outputs), \n",
    "    nn.ReLU()\n",
    ")\n",
    "pt_model[0].weight = torch.nn.Parameter(torch.tensor(quantized_weights))\n",
    "pt_model[0].bias = torch.nn.Parameter(torch.tensor((quantized_biases)))\n",
    "model_output = pt_model(torch.tensor(quantized_values)).detach().numpy()\n",
    "model_output"
   ]
  },
  {
   "cell_type": "code",
   "execution_count": null,
   "metadata": {},
   "outputs": [],
   "source": [
    "loihi_model(inputs, t_max)"
   ]
  },
  {
   "cell_type": "code",
   "execution_count": null,
   "metadata": {},
   "outputs": [],
   "source": [
    "hidden_probe0.plot()"
   ]
  },
  {
   "cell_type": "code",
   "execution_count": null,
   "metadata": {},
   "outputs": [],
   "source": [
    "loihi_model.layers[1].weight_exponent\n"
   ]
  },
  {
   "cell_type": "code",
   "execution_count": null,
   "metadata": {},
   "outputs": [],
   "source": []
  },
  {
   "cell_type": "markdown",
   "metadata": {},
   "source": [
    "## Convolutional Layer"
   ]
  },
  {
   "cell_type": "code",
   "execution_count": null,
   "metadata": {},
   "outputs": [],
   "source": [
    "import quartz\n",
    "from quartz import layers\n",
    "import numpy as np\n",
    "import torch\n",
    "import torch.nn as nn\n",
    "\n",
    "t_max = 2**9\n",
    "input_dims = (1,2,3)\n",
    "weight_dims = (1,1,2,2)\n",
    "weight_e = 100\n",
    "weight_acc = 2**7\n",
    "model_args = {'weight_e':weight_e, 'weight_acc':weight_acc}\n",
    "\n",
    "kernel_size = weight_dims[2:]\n",
    "np.random.seed(seed=28)\n",
    "weights = (np.random.rand(*weight_dims)-0.5) * 2\n",
    "biases = (np.random.rand(weight_dims[0])-0.5)\n",
    "\n",
    "loihi_model = quartz.Network([\n",
    "    layers.InputLayer(dims=input_dims, **model_args),\n",
    "    layers.Conv2D(weights=weights, biases=biases, **model_args),\n",
    "    layers.MonitorLayer(**model_args),\n",
    "])\n",
    "\n",
    "input0 = quartz.probe(loihi_model.layers[0].blocks[0])\n",
    "hidden0 = quartz.probe(loihi_model.layers[1].blocks[2])\n",
    "hidden1 = quartz.probe(loihi_model.layers[1].blocks[3])\n",
    "#hidden2 = quartz.probe(loihi_model.layers[1].blocks[4])\n",
    "calc0 = quartz.probe(loihi_model.layers[1].blocks[2].neurons[0])\n",
    "sync0 = quartz.probe(loihi_model.layers[1].blocks[2].neurons[2])\n",
    "calc1 = quartz.probe(loihi_model.layers[1].blocks[3].neurons[0])\n",
    "sync1 = quartz.probe(loihi_model.layers[1].blocks[3].neurons[2])\n",
    "#calc2 = quartz.probe(loihi_model.layers[1].blocks[4].neurons[0])\n",
    "#sync2 = quartz.probe(loihi_model.layers[1].blocks[4].neurons[2])\n",
    "\n",
    "values = np.zeros((np.product(input_dims))) # np.random.rand(np.product(input_dims)) / 2\n",
    "inputs = quartz.utils.decode_values_into_spike_input(values, t_max)\n",
    "\n",
    "quantized_values = (values*t_max).round()/t_max\n",
    "quantized_values = quantized_values.reshape(*input_dims)\n",
    "quantized_weights = (weight_acc*weights).round()/weight_acc\n",
    "quantized_biases = (biases*t_max).round()/t_max\n",
    "\n",
    "model = nn.Sequential(nn.Conv2d(in_channels=weight_dims[1], out_channels=weight_dims[0], kernel_size=kernel_size), nn.ReLU())\n",
    "model[0].weight = torch.nn.Parameter(torch.tensor(quantized_weights))\n",
    "model[0].bias = torch.nn.Parameter(torch.tensor(quantized_biases))\n",
    "model_output = model(torch.tensor(values.reshape(1, *input_dims[:3]))).squeeze().detach().numpy()\n",
    "model_output"
   ]
  },
  {
   "cell_type": "code",
   "execution_count": null,
   "metadata": {},
   "outputs": [],
   "source": [
    "loihi_model(inputs, t_max)"
   ]
  },
  {
   "cell_type": "code",
   "execution_count": null,
   "metadata": {},
   "outputs": [],
   "source": [
    "input0.plot()"
   ]
  },
  {
   "cell_type": "code",
   "execution_count": null,
   "metadata": {},
   "outputs": [],
   "source": [
    "hidden1.plot()"
   ]
  },
  {
   "cell_type": "code",
   "execution_count": null,
   "metadata": {},
   "outputs": [],
   "source": [
    "calc1.plot()"
   ]
  },
  {
   "cell_type": "code",
   "execution_count": null,
   "metadata": {},
   "outputs": [],
   "source": [
    "sync1.plot()"
   ]
  },
  {
   "cell_type": "code",
   "execution_count": null,
   "metadata": {},
   "outputs": [],
   "source": [
    "sync0.plot()"
   ]
  },
  {
   "cell_type": "code",
   "execution_count": null,
   "metadata": {},
   "outputs": [],
   "source": [
    "hidden0.plot()"
   ]
  },
  {
   "cell_type": "code",
   "execution_count": null,
   "metadata": {},
   "outputs": [],
   "source": [
    "calc0.plot()"
   ]
  },
  {
   "cell_type": "markdown",
   "metadata": {},
   "source": [
    "## Max Pooling layer"
   ]
  },
  {
   "cell_type": "code",
   "execution_count": null,
   "metadata": {},
   "outputs": [],
   "source": [
    "import quartz\n",
    "from quartz import layers\n",
    "import numpy as np\n",
    "import torch\n",
    "import torch.nn as nn\n",
    "\n",
    "t_max = 2**8\n",
    "input_dims = (1,10,10)\n",
    "kernel_size = [2,2]\n",
    "model_args = {'weight_e':200, 'weight_acc':128}\n",
    "\n",
    "loihi_model = quartz.Network([\n",
    "    layers.InputLayer(dims=input_dims, **model_args),\n",
    "    layers.MaxPool2D(kernel_size=kernel_size, **model_args),\n",
    "    layers.MonitorLayer(**model_args),\n",
    "])\n",
    "\n",
    "pool0 = quartz.probe(loihi_model.layers[1].blocks[0])\n",
    "\n",
    "np.random.seed(seed=45)\n",
    "values = np.random.rand(np.product(input_dims))\n",
    "values[values.shape[0]//2:] = 0\n",
    "inputs = quartz.utils.decode_values_into_spike_input(values, t_max)\n",
    "quantized_values = (values*t_max).round()/t_max\n",
    "\n",
    "model = nn.Sequential(nn.MaxPool2d(kernel_size=kernel_size, stride=kernel_size[0]), nn.ReLU())\n",
    "model_output = model(torch.tensor(quantized_values.reshape(1, *input_dims[:3]))).squeeze().detach().numpy()\n",
    "model_output"
   ]
  },
  {
   "cell_type": "code",
   "execution_count": null,
   "metadata": {},
   "outputs": [],
   "source": [
    "loihi_model(inputs, t_max)"
   ]
  },
  {
   "cell_type": "code",
   "execution_count": null,
   "metadata": {},
   "outputs": [],
   "source": []
  },
  {
   "cell_type": "code",
   "execution_count": null,
   "metadata": {},
   "outputs": [],
   "source": [
    "values"
   ]
  },
  {
   "cell_type": "code",
   "execution_count": null,
   "metadata": {},
   "outputs": [],
   "source": []
  }
 ],
 "metadata": {
  "kernelspec": {
   "display_name": "nxsdk-0.9.8",
   "language": "python",
   "name": "nxsdk-0.9.8"
  },
  "language_info": {
   "codemirror_mode": {
    "name": "ipython",
    "version": 3
   },
   "file_extension": ".py",
   "mimetype": "text/x-python",
   "name": "python",
   "nbconvert_exporter": "python",
   "pygments_lexer": "ipython3",
   "version": "3.5.2"
  }
 },
 "nbformat": 4,
 "nbformat_minor": 4
}
