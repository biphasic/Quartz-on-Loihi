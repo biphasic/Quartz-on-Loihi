{
 "cells": [
  {
   "cell_type": "code",
   "execution_count": null,
   "metadata": {},
   "outputs": [],
   "source": [
    "import multiprocessing\n",
    "import os, glob\n",
    "import time\n",
    "from functools import partial\n",
    "import papermill as pm\n",
    "from joblib import Parallel, delayed, parallel_backend"
   ]
  },
  {
   "cell_type": "code",
   "execution_count": null,
   "metadata": {},
   "outputs": [],
   "source": [
    "input_nb_path = './04_cifar10.ipynb'\n",
    "# input_nb_path = './test.ipynb'\n",
    "\n",
    "parameter_dict = {\n",
    "    'n_cores_per_layer': [\n",
    "                        [0,300,250,275,400,300,55,287,291,55,14,3,2,2],\n",
    "                         ]\n",
    "}"
   ]
  },
  {
   "cell_type": "code",
   "execution_count": null,
   "metadata": {},
   "outputs": [],
   "source": [
    "for param in parameter_dict['n_cores_per_layer']:\n",
    "    output = './milled_nbs/' + str(param) + '.ipynb'\n",
    "    pm.execute_notebook(\n",
    "       input_nb_path,\n",
    "       output,\n",
    "       parameters = {'n_cores_per_layer': param}\n",
    "    )"
   ]
  },
  {
   "cell_type": "code",
   "execution_count": null,
   "metadata": {},
   "outputs": [],
   "source": []
  }
 ],
 "metadata": {
  "kernelspec": {
   "display_name": "nxsdk-1.0.0",
   "language": "python",
   "name": "nxsdk-1.0.0"
  },
  "language_info": {
   "codemirror_mode": {
    "name": "ipython",
    "version": 3
   },
   "file_extension": ".py",
   "mimetype": "text/x-python",
   "name": "python",
   "nbconvert_exporter": "python",
   "pygments_lexer": "ipython3",
   "version": "3.9.4"
  }
 },
 "nbformat": 4,
 "nbformat_minor": 4
}
