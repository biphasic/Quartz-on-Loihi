{
 "cells": [
  {
   "cell_type": "code",
   "execution_count": null,
   "metadata": {},
   "outputs": [],
   "source": [
    "import papermill as pm\n",
    "from joblib import Parallel, delayed\n",
    "import numpy as np"
   ]
  },
  {
   "cell_type": "code",
   "execution_count": null,
   "metadata": {},
   "outputs": [],
   "source": [
    "parameter_dict = [\n",
    "    [[0,300,200,250,250,250,200,140,50,20,5], 3, 7],\n",
    "    [[0,300,200,200,220,220,240,140,50,20,5], 1, 6],\n",
    "    [[0,300,200,230,230,220,210,140,50,20,5], 1, 6],\n",
    "\n",
    "]"
   ]
  },
  {
   "cell_type": "code",
   "execution_count": null,
   "metadata": {},
   "outputs": [],
   "source": [
    "input_path = './cifar-layout-search.ipynb'\n",
    "\n",
    "def mill_paper(parameters):\n",
    "    output_path = './milled_nbs/' + str(parameters) + '.ipynb'\n",
    "    print(output_path)\n",
    "    pm.execute_notebook(\n",
    "       input_path,\n",
    "       output_path,\n",
    "       {\n",
    "           'n_cores_per_layer': parameters[0],\n",
    "           'first_layer': parameters[1],\n",
    "           'last_layer': parameters[2],\n",
    "       },\n",
    "    )"
   ]
  },
  {
   "cell_type": "code",
   "execution_count": null,
   "metadata": {},
   "outputs": [],
   "source": [
    "Parallel(n_jobs=3)(delayed(mill_paper)(param) for param in parameter_dict)"
   ]
  },
  {
   "cell_type": "code",
   "execution_count": null,
   "metadata": {},
   "outputs": [],
   "source": []
  },
  {
   "cell_type": "code",
   "execution_count": null,
   "metadata": {},
   "outputs": [],
   "source": []
  }
 ],
 "metadata": {
  "kernelspec": {
   "display_name": "nxsdk-1.0.0",
   "language": "python",
   "name": "nxsdk-1.0.0"
  },
  "language_info": {
   "codemirror_mode": {
    "name": "ipython",
    "version": 3
   },
   "file_extension": ".py",
   "mimetype": "text/x-python",
   "name": "python",
   "nbconvert_exporter": "python",
   "pygments_lexer": "ipython3",
   "version": "3.9.4"
  }
 },
 "nbformat": 4,
 "nbformat_minor": 4
}
