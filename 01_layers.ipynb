{
 "cells": [
  {
   "cell_type": "markdown",
   "metadata": {},
   "source": [
    "## Fully Connected layer"
   ]
  },
  {
   "cell_type": "code",
   "execution_count": null,
   "metadata": {},
   "outputs": [],
   "source": [
    "import quartz\n",
    "from quartz import layers\n",
    "import numpy as np\n",
    "import torch\n",
    "import torch.nn as nn\n",
    "\n",
    "# input dimensions\n",
    "t_max = 2**7\n",
    "dims = (1,1,5,5)\n",
    "n_outputs = 10\n",
    "np.random.seed(seed=31)\n",
    "\n",
    "# model parameters\n",
    "weights = (np.random.rand(n_outputs,np.product(dims[1:])) - 0.5) / 2 # \n",
    "# weights = np.ones((n_outputs,np.product(dims[1:])))  # \n",
    "# weights = np.array([[0.5],[-0.5]])\n",
    "biases = (np.random.rand(n_outputs) - 0.5) / 2 # \n",
    "# biases = np.zeros((n_outputs)) / -4 # np.ones((n_outputs)) / 2 # \n",
    "inputs = np.random.rand(*dims) / 2 # np.ones((dims)) * 0.5 #  \n",
    "# inputs = np.zeros((dims)) / 4 # \n",
    "#inputs = np.array([0.5, 0.25])\n",
    "\n",
    "loihi_model = quartz.Network(t_max, [\n",
    "    layers.InputLayer(dims=dims[1:]),\n",
    "    layers.Dense(weights=weights, biases=biases, rectifying=True, weight_acc=255),\n",
    "])\n",
    "# optional neuron probes\n",
    "relcos = [quartz.probe(neuron) for neuron in loihi_model.layers[1].output_neurons]\n",
    "sync = quartz.probe(loihi_model.layers[1].sync_neurons[0])\n",
    "\n",
    "# build equivalent pyTorch model\n",
    "pt_model = nn.Sequential(\n",
    "    nn.Linear(in_features=np.product(dims[1:]), out_features=n_outputs), \n",
    "    nn.ReLU()\n",
    ")\n",
    "q_weights, q_biases, q_inputs = quartz.utils.quantize_values(weights, biases, inputs, loihi_model.layers[1].weight_acc, t_max)\n",
    "pt_model[0].weight = torch.nn.Parameter(torch.tensor(q_weights))\n",
    "pt_model[0].bias = torch.nn.Parameter(torch.tensor((q_biases)))\n",
    "model_output = pt_model(torch.tensor(q_inputs.reshape(dims[0], -1))).detach().numpy()\n",
    "model_output"
   ]
  },
  {
   "cell_type": "code",
   "execution_count": null,
   "metadata": {},
   "outputs": [],
   "source": [
    "loihi_model(inputs, partition='loihi')"
   ]
  },
  {
   "cell_type": "code",
   "execution_count": null,
   "metadata": {},
   "outputs": [],
   "source": []
  },
  {
   "cell_type": "code",
   "execution_count": null,
   "metadata": {},
   "outputs": [],
   "source": []
  },
  {
   "cell_type": "code",
   "execution_count": null,
   "metadata": {},
   "outputs": [],
   "source": []
  },
  {
   "cell_type": "code",
   "execution_count": null,
   "metadata": {},
   "outputs": [],
   "source": []
  },
  {
   "cell_type": "markdown",
   "metadata": {},
   "source": [
    "## Convolutional Layer"
   ]
  },
  {
   "cell_type": "code",
   "execution_count": null,
   "metadata": {},
   "outputs": [],
   "source": [
    "import quartz\n",
    "from quartz import layers\n",
    "import numpy as np\n",
    "import torch\n",
    "import torch.nn as nn\n",
    "\n",
    "t_max = 2**7\n",
    "input_dims = (1,2,3,3) # (50,10,5,5) # \n",
    "weight_dims = (4,2,2,2) # (5,10,5,5) # \n",
    "padding = 1\n",
    "groups = 1\n",
    "kernel_size = weight_dims[2:]\n",
    "np.random.seed(seed=27)\n",
    "weights = (np.random.rand(*weight_dims)-0.5) / 1 # \n",
    "# weights = np.ones((weight_dims)) / 4 # \n",
    "# weights[1,:,:,:] /= 2\n",
    "biases = (np.random.rand(weight_dims[0])-0.5) / 2 # \n",
    "biases = np.zeros((weight_dims[0])) # \n",
    "inputs = np.random.rand(*input_dims) / 3 # \n",
    "# inputs = np.ones(input_dims)\n",
    "\n",
    "loihi_model = quartz.Network(t_max, [\n",
    "    layers.InputLayer(dims=input_dims[1:]),\n",
    "    layers.Conv2D(weights=weights, biases=biases, padding=padding, groups=groups, weight_acc=128),\n",
    "])\n",
    "\n",
    "relcos = [quartz.probe(neuron) for neuron in loihi_model.layers[1].output_neurons]\n",
    "sync = quartz.probe(loihi_model.layers[1].sync_neurons[0])\n",
    "rectifier = quartz.probe(loihi_model.layers[1].rectifier_neurons[0])\n",
    "\n",
    "q_weights, q_biases, q_inputs = quartz.utils.quantize_values(weights, biases, inputs, loihi_model.layers[1].weight_acc, t_max)\n",
    "model = nn.Sequential(nn.Conv2d(in_channels=weight_dims[1]*groups, out_channels=weight_dims[0], kernel_size=kernel_size, padding=padding, groups=groups), nn.ReLU())\n",
    "model[0].weight = torch.nn.Parameter(torch.tensor(q_weights))\n",
    "model[0].bias = torch.nn.Parameter(torch.tensor((q_biases)))\n",
    "model_output = model(torch.tensor(q_inputs)).detach().numpy()\n",
    "model_output"
   ]
  },
  {
   "cell_type": "code",
   "execution_count": null,
   "metadata": {},
   "outputs": [],
   "source": [
    "loihi_output = loihi_model(inputs)\n",
    "loihi_output"
   ]
  },
  {
   "cell_type": "code",
   "execution_count": null,
   "metadata": {},
   "outputs": [],
   "source": [
    "loihi_model.layers[1].output_neurons"
   ]
  },
  {
   "cell_type": "code",
   "execution_count": null,
   "metadata": {},
   "outputs": [],
   "source": []
  },
  {
   "cell_type": "code",
   "execution_count": null,
   "metadata": {},
   "outputs": [],
   "source": [
    "ok = [relco.plot() for relco in relcos]"
   ]
  },
  {
   "cell_type": "code",
   "execution_count": null,
   "metadata": {},
   "outputs": [],
   "source": [
    "sync.plot()"
   ]
  },
  {
   "cell_type": "code",
   "execution_count": null,
   "metadata": {},
   "outputs": [],
   "source": [
    "rect.plot()"
   ]
  },
  {
   "cell_type": "code",
   "execution_count": null,
   "metadata": {},
   "outputs": [],
   "source": []
  },
  {
   "cell_type": "markdown",
   "metadata": {},
   "source": [
    "## Maxpool2d layer"
   ]
  },
  {
   "cell_type": "code",
   "execution_count": null,
   "metadata": {},
   "outputs": [],
   "source": [
    "import quartz\n",
    "from quartz import layers\n",
    "import numpy as np\n",
    "import torch\n",
    "import torch.nn as nn\n",
    "\n",
    "t_max = 2**8\n",
    "input_dims = (1,2,4,4)\n",
    "weight_dims = (2,2,2,2)\n",
    "kernel_size = [2,2]\n",
    "\n",
    "np.random.seed(seed=27)\n",
    "np.set_printoptions(suppress=True)\n",
    "weights = (np.random.rand(*weight_dims)-0.5) / 2 # np.zeros((weight_dims)) # \n",
    "biases = np.zeros((weight_dims[0]))  # (np.random.rand(weight_dims[0])-0.5) / 3 # \n",
    "inputs = np.random.rand(*input_dims) / 2 # np.ones((input_dims)) / 2 #\n",
    "\n",
    "loihi_model = quartz.Network([\n",
    "    layers.InputLayer(dims=input_dims[1:]),\n",
    "    layers.MaxPool2D(kernel_size=kernel_size),\n",
    "    layers.Conv2D(weights=weights, biases=biases),\n",
    "])\n",
    "\n",
    "wtas = [quartz.probe(block) for block in loihi_model.layers[1].blocks[1:]]\n",
    "relcos = [quartz.probe(block) for block in loihi_model.layers[2].blocks if 'relco' in block.name]\n",
    "trigger1 = quartz.probe(loihi_model.layers[1].blocks[0])\n",
    "trigger2 = quartz.probe(loihi_model.layers[2].blocks[0])\n",
    "\n",
    "q_weights, q_biases, q_inputs = quartz.utils.quantize_values(weights, biases, inputs, loihi_model.layers[2].weight_acc, t_max)\n",
    "model = nn.Sequential(\n",
    "    nn.MaxPool2d(kernel_size=kernel_size),\n",
    "    nn.Conv2d(in_channels=weight_dims[1], out_channels=weight_dims[0], kernel_size=weight_dims[2]), \n",
    "    nn.ReLU(),\n",
    ")\n",
    "model[1].weight = torch.nn.Parameter(torch.tensor(q_weights))\n",
    "model[1].bias = torch.nn.Parameter(torch.tensor((q_biases)))\n",
    "model_output = model(torch.tensor(q_inputs)).detach().numpy()\n",
    "model_output"
   ]
  },
  {
   "cell_type": "code",
   "execution_count": null,
   "metadata": {},
   "outputs": [],
   "source": [
    "loihi_model(inputs, t_max, partition='loihi')"
   ]
  },
  {
   "cell_type": "code",
   "execution_count": null,
   "metadata": {},
   "outputs": [],
   "source": [
    "loihi_model.layers[1].output_blocks()"
   ]
  },
  {
   "cell_type": "code",
   "execution_count": null,
   "metadata": {},
   "outputs": [],
   "source": [
    "trigger1.plot()"
   ]
  },
  {
   "cell_type": "code",
   "execution_count": null,
   "metadata": {},
   "outputs": [],
   "source": [
    "trigger2.plot()"
   ]
  },
  {
   "cell_type": "code",
   "execution_count": null,
   "metadata": {},
   "outputs": [],
   "source": [
    "inputs"
   ]
  },
  {
   "cell_type": "code",
   "execution_count": null,
   "metadata": {},
   "outputs": [],
   "source": [
    "ok = [relco.plot() for relco in relcos]"
   ]
  },
  {
   "cell_type": "code",
   "execution_count": null,
   "metadata": {},
   "outputs": [],
   "source": [
    "ok = [wta.plot() for wta in wtas]"
   ]
  },
  {
   "cell_type": "code",
   "execution_count": null,
   "metadata": {},
   "outputs": [],
   "source": [
    "%debug"
   ]
  },
  {
   "cell_type": "code",
   "execution_count": null,
   "metadata": {},
   "outputs": [],
   "source": []
  }
 ],
 "metadata": {
  "kernelspec": {
   "display_name": "nxsdk-0.9.8",
   "language": "python",
   "name": "nxsdk-0.9.8"
  },
  "language_info": {
   "codemirror_mode": {
    "name": "ipython",
    "version": 3
   },
   "file_extension": ".py",
   "mimetype": "text/x-python",
   "name": "python",
   "nbconvert_exporter": "python",
   "pygments_lexer": "ipython3",
   "version": "3.5.2"
  }
 },
 "nbformat": 4,
 "nbformat_minor": 4
}
