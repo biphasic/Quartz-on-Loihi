{
 "cells": [
  {
   "cell_type": "markdown",
   "metadata": {},
   "source": [
    "## Fully Connected layer"
   ]
  },
  {
   "cell_type": "code",
   "execution_count": null,
   "metadata": {},
   "outputs": [],
   "source": [
    "import quartz\n",
    "from quartz import layers\n",
    "import numpy as np\n",
    "import torch\n",
    "import torch.nn as nn\n",
    "\n",
    "# input dimensions\n",
    "t_max = 2**8\n",
    "dims = (1,1,4,1)\n",
    "n_outputs = 10\n",
    "np.random.seed(seed=35)\n",
    "\n",
    "# model parameters\n",
    "weights = (np.random.rand(n_outputs,np.product(dims[1:])) - 0.5) / 3 # weights = np.ones((n_outputs,np.product(dims[1:]))) # \n",
    "biases = (np.random.rand(n_outputs) - 0.5) / 2 # biases = np.zeros((n_outputs))# np.ones((n_outputs)) / 2 # \n",
    "inputs = np.random.rand(*dims) / 3 # np.ones((dims)) * 0.5 #  #values = np.zeros((dims)) # \n",
    "\n",
    "loihi_model = quartz.Network([\n",
    "    layers.InputLayer(dims=dims[1:]),\n",
    "    layers.Dense(weights=weights, biases=biases, rectifying=True, weight_acc=255),\n",
    "])\n",
    "# optional neuron probes\n",
    "relcos = [quartz.probe(block) for block in loihi_model.layers[1].blocks[1::2]]\n",
    "\n",
    "# build equivalent pyTorch model\n",
    "pt_model = nn.Sequential(\n",
    "    nn.Linear(in_features=np.product(dims[1:]), out_features=n_outputs), \n",
    "    nn.ReLU())\n",
    "q_weights, q_biases, q_inputs = quartz.utils.quantize_values(weights, biases, inputs, loihi_model.layers[1].weight_acc, t_max)\n",
    "pt_model[0].weight = torch.nn.Parameter(torch.tensor(q_weights))\n",
    "pt_model[0].bias = torch.nn.Parameter(torch.tensor((q_biases)))\n",
    "model_output = pt_model(torch.tensor(q_inputs.reshape(dims[0], -1))).detach().numpy()\n",
    "model_output"
   ]
  },
  {
   "cell_type": "code",
   "execution_count": null,
   "metadata": {},
   "outputs": [],
   "source": [
    "loihi_model(inputs, t_max)"
   ]
  },
  {
   "cell_type": "code",
   "execution_count": null,
   "metadata": {},
   "outputs": [],
   "source": []
  },
  {
   "cell_type": "code",
   "execution_count": null,
   "metadata": {},
   "outputs": [],
   "source": []
  },
  {
   "cell_type": "code",
   "execution_count": null,
   "metadata": {},
   "outputs": [],
   "source": [
    "ok = [relco.plot() for relco in relcos]"
   ]
  },
  {
   "cell_type": "markdown",
   "metadata": {},
   "source": [
    "## Convolutional Layer"
   ]
  },
  {
   "cell_type": "code",
   "execution_count": null,
   "metadata": {},
   "outputs": [],
   "source": [
    "import quartz\n",
    "from quartz import layers\n",
    "import numpy as np\n",
    "import torch\n",
    "import torch.nn as nn\n",
    "\n",
    "t_max = 2**8\n",
    "input_dims = (1,2,5,5) # (50,10,5,5) # \n",
    "weight_dims = (6,2,5,5) # (5,10,5,5) # \n",
    "padding = 0\n",
    "groups = 1\n",
    "kernel_size = weight_dims[2:]\n",
    "np.random.seed(seed=27)\n",
    "weights = (np.random.rand(*weight_dims)-0.5) / 3 # np.ones((weight_dims)) # \n",
    "biases = (np.random.rand(weight_dims[0])-0.5) / 2 # np.zeros((weight_dims[0])) # \n",
    "inputs = np.random.rand(*input_dims) / 3 # np.zeros((np.product(input_dims)))\n",
    "\n",
    "loihi_model = quartz.Network([\n",
    "    layers.InputLayer(dims=input_dims[1:]),\n",
    "    layers.Conv2D(weights=weights, biases=biases, padding=padding, groups=groups),\n",
    "])\n",
    "\n",
    "relcos = [quartz.probe(block) for block in loihi_model.layers[1].blocks]\n",
    "\n",
    "q_weights, q_biases, q_inputs = quartz.utils.quantize_values(weights, biases, inputs, loihi_model.layers[1].weight_acc, t_max)\n",
    "model = nn.Sequential(nn.Conv2d(in_channels=weight_dims[1]*groups, out_channels=weight_dims[0], kernel_size=kernel_size, padding=padding, groups=groups), nn.ReLU())\n",
    "model[0].weight = torch.nn.Parameter(torch.tensor(q_weights))\n",
    "model[0].bias = torch.nn.Parameter(torch.tensor((q_biases)))\n",
    "model_output = model(torch.tensor(q_inputs)).detach().numpy()\n",
    "model_output[0].max()"
   ]
  },
  {
   "cell_type": "code",
   "execution_count": null,
   "metadata": {},
   "outputs": [],
   "source": [
    "loihi_output = loihi_model(inputs, t_max)"
   ]
  },
  {
   "cell_type": "code",
   "execution_count": null,
   "metadata": {},
   "outputs": [],
   "source": []
  },
  {
   "cell_type": "code",
   "execution_count": null,
   "metadata": {},
   "outputs": [],
   "source": []
  },
  {
   "cell_type": "code",
   "execution_count": null,
   "metadata": {},
   "outputs": [],
   "source": [
    "ok = [relco.plot() for relco in relcos]"
   ]
  },
  {
   "cell_type": "markdown",
   "metadata": {},
   "source": [
    "## Convpool layer"
   ]
  },
  {
   "cell_type": "code",
   "execution_count": null,
   "metadata": {},
   "outputs": [],
   "source": [
    "import quartz\n",
    "from quartz import layers\n",
    "import numpy as np\n",
    "import torch\n",
    "import torch.nn as nn\n",
    "\n",
    "input_dims = (1,2,4,4)\n",
    "weight_dims = (5,2,3,3)\n",
    "t_max = 2**8\n",
    "conv_kernel_size = weight_dims[2:]\n",
    "pooling_kernel_size = [2,2]\n",
    "pooling_stride = 2\n",
    "\n",
    "np.random.seed(seed=46)\n",
    "np.set_printoptions(suppress=True)\n",
    "weights = (np.random.rand(*weight_dims)-0.5) / 5 # np.zeros(weight_dims) #\n",
    "biases = (np.random.rand(weight_dims[0])-0.5) # np.zeros(weight_dims[0]) # \n",
    "\n",
    "loihi_model = quartz.Network([\n",
    "    layers.InputLayer(dims=input_dims[1:]),\n",
    "    layers.ConvPool2D(weights=weights, biases=biases, pool_kernel_size=pooling_kernel_size),\n",
    "    layers.MonitorLayer(),\n",
    "])\n",
    "trigger0 = quartz.probe(loihi_model.layers[0].blocks[0])\n",
    "trigger1 = quartz.probe(loihi_model.layers[1].blocks[0])\n",
    "trigger2 = quartz.probe(loihi_model.layers[2].blocks[0])\n",
    "convmaxs1 = [quartz.probe(block) for block in loihi_model.layers[1].blocks[11:]]\n",
    "\n",
    "values = np.random.rand(*input_dims) / 4\n",
    "quantized_values = (values*t_max).round()/t_max\n",
    "weight_acc = loihi_model.layers[1].weight_acc\n",
    "quantized_weights = (weight_acc*weights).round()/weight_acc\n",
    "quantized_biases = (biases*t_max).round()/t_max\n",
    "\n",
    "model = nn.Sequential(\n",
    "    nn.Conv2d(in_channels=weight_dims[1], out_channels=weight_dims[0], kernel_size=conv_kernel_size), nn.ReLU(),\n",
    "    nn.MaxPool2d(kernel_size=pooling_kernel_size, stride=pooling_stride), nn.ReLU(),\n",
    ")\n",
    "model[0].weight = nn.Parameter(torch.tensor(quantized_weights))\n",
    "model[0].bias = nn.Parameter(torch.tensor(quantized_biases))\n",
    "model_output = model(torch.tensor(values)).detach().numpy()\n",
    "model_output"
   ]
  },
  {
   "cell_type": "code",
   "execution_count": null,
   "metadata": {},
   "outputs": [],
   "source": [
    "loihi_output = loihi_model(values, t_max)\n",
    "loihi_output"
   ]
  },
  {
   "cell_type": "code",
   "execution_count": null,
   "metadata": {},
   "outputs": [],
   "source": []
  },
  {
   "cell_type": "code",
   "execution_count": null,
   "metadata": {},
   "outputs": [],
   "source": [
    "convmaxs1[0].output()\n"
   ]
  },
  {
   "cell_type": "code",
   "execution_count": null,
   "metadata": {},
   "outputs": [],
   "source": [
    "trigger1.output()"
   ]
  },
  {
   "cell_type": "code",
   "execution_count": null,
   "metadata": {},
   "outputs": [],
   "source": [
    "trigger2.output()"
   ]
  },
  {
   "cell_type": "code",
   "execution_count": null,
   "metadata": {},
   "outputs": [],
   "source": [
    "loihi_model.data"
   ]
  },
  {
   "cell_type": "code",
   "execution_count": null,
   "metadata": {},
   "outputs": [],
   "source": [
    "ok = [convmax.plot() for convmax in convmaxs1]"
   ]
  },
  {
   "cell_type": "code",
   "execution_count": null,
   "metadata": {},
   "outputs": [],
   "source": []
  },
  {
   "cell_type": "code",
   "execution_count": null,
   "metadata": {},
   "outputs": [],
   "source": []
  }
 ],
 "metadata": {
  "kernelspec": {
   "display_name": "nxsdk-0.9.8",
   "language": "python",
   "name": "nxsdk-0.9.8"
  },
  "language_info": {
   "codemirror_mode": {
    "name": "ipython",
    "version": 3
   },
   "file_extension": ".py",
   "mimetype": "text/x-python",
   "name": "python",
   "nbconvert_exporter": "python",
   "pygments_lexer": "ipython3",
   "version": "3.5.2"
  }
 },
 "nbformat": 4,
 "nbformat_minor": 4
}
