{
 "cells": [
  {
   "cell_type": "markdown",
   "metadata": {},
   "source": [
    "## ReLCo"
   ]
  },
  {
   "cell_type": "code",
   "execution_count": null,
   "metadata": {},
   "outputs": [],
   "source": [
    "import quartz\n",
    "from quartz import layers\n",
    "import numpy as np\n",
    "import torch\n",
    "import torch.nn as nn\n",
    "t_max = 2**8\n",
    "dims = (1,1,1)\n",
    "n_outputs = 1\n",
    "\n",
    "np.random.seed(seed=47)\n",
    "weights = np.array([[-1.]])\n",
    "biases = (np.random.rand(n_outputs) - 0.5) / 2\n",
    "\n",
    "loihi_model = quartz.Network([\n",
    "    layers.InputLayer(dims=dims),\n",
    "    layers.Dense(weights=weights, biases=None),\n",
    "    layers.MonitorLayer(),\n",
    "])\n",
    "\n",
    "relco_probe = quartz.probe(loihi_model.layers[1].blocks[0])\n",
    "neuron_probes = [quartz.probe(neuron) for neuron in loihi_model.layers[1].blocks[0].neurons]\n",
    "\n",
    "values = np.random.rand(np.product(dims)) # np.ones((np.product(dims))) * 0.5\n",
    "values = np.array([0.5])\n",
    "values = np.array([1])\n",
    "quantized_values = (values*t_max).round()/t_max\n",
    "quantized_biases = (biases*t_max).round()/t_max\n",
    "\n",
    "pt_model = nn.Sequential(\n",
    "    nn.Linear(in_features=np.product(dims), out_features=n_outputs), \n",
    "    nn.ReLU()\n",
    ")\n",
    "pt_model[0].weight = torch.nn.Parameter(torch.tensor(weights))\n",
    "pt_model[0].bias = torch.nn.Parameter(torch.tensor(np.zeros_like(quantized_biases)))\n",
    "model_output = pt_model(torch.tensor(quantized_values)).detach().numpy()\n",
    "model_output"
   ]
  },
  {
   "cell_type": "code",
   "execution_count": null,
   "metadata": {},
   "outputs": [],
   "source": [
    "loihi_model(values, t_max)"
   ]
  },
  {
   "cell_type": "code",
   "execution_count": null,
   "metadata": {},
   "outputs": [],
   "source": [
    "relco_probe.output()[1]"
   ]
  },
  {
   "cell_type": "code",
   "execution_count": null,
   "metadata": {},
   "outputs": [],
   "source": [
    "weights\n"
   ]
  },
  {
   "cell_type": "code",
   "execution_count": null,
   "metadata": {},
   "outputs": [],
   "source": [
    "[neuron.plot() for neuron in neuron_probes]"
   ]
  },
  {
   "cell_type": "code",
   "execution_count": null,
   "metadata": {},
   "outputs": [],
   "source": []
  },
  {
   "cell_type": "code",
   "execution_count": null,
   "metadata": {},
   "outputs": [],
   "source": []
  },
  {
   "cell_type": "code",
   "execution_count": null,
   "metadata": {},
   "outputs": [],
   "source": []
  },
  {
   "cell_type": "code",
   "execution_count": null,
   "metadata": {},
   "outputs": [],
   "source": [
    "calc_probe.plot()"
   ]
  },
  {
   "cell_type": "code",
   "execution_count": null,
   "metadata": {},
   "outputs": [],
   "source": []
  },
  {
   "cell_type": "code",
   "execution_count": null,
   "metadata": {},
   "outputs": [],
   "source": []
  },
  {
   "cell_type": "code",
   "execution_count": null,
   "metadata": {},
   "outputs": [],
   "source": []
  },
  {
   "cell_type": "markdown",
   "metadata": {},
   "source": [
    "## Max pooling"
   ]
  },
  {
   "cell_type": "code",
   "execution_count": null,
   "metadata": {},
   "outputs": [],
   "source": [
    "%matplotlib inline\n",
    "import quartz\n",
    "#import numpy as np\n",
    "recall_spike_times = [[1],[10],[20],]\n",
    "t_max = 2**8\n",
    "run_time = 4*t_max\n",
    "\n",
    "constant_monitor = False\n",
    "\n",
    "values = [0, 0.152, 0.245]\n",
    "inputs = []\n",
    "constants = []\n",
    "for i, value in enumerate(values):\n",
    "    constants.append(quartz.blocks.ConstantDelay(value, name=\"const\"+str(i)+\":\", promoted=True, monitor=constant_monitor))\n",
    "    inputs.append(quartz.blocks.Splitter(number=i, monitor=False))\n",
    "\n",
    "pool = quartz.blocks.MaxPooling(inputs, split_input=False, split_output=False, name=\"\", monitor=True)\n",
    "pool.blocks += constants\n",
    "pool.blocks += inputs\n",
    "\n",
    "weight_e, weight_acc, t_syn, t_min, t_neu = pool.get_params_at_once()\n",
    "for const, inp in zip(constants, inputs):\n",
    "    const.output_neurons()[0].connect_to(inp.input_neurons()[0], weight_e, t_syn)\n",
    "\n",
    "pool.run_on_loihi(run_time, recall_spike_list=recall_spike_times, t_max=t_max, partition='loihi', probe_selection=[\"input\", \"sync\",])"
   ]
  },
  {
   "cell_type": "code",
   "execution_count": null,
   "metadata": {},
   "outputs": [],
   "source": []
  },
  {
   "cell_type": "code",
   "execution_count": null,
   "metadata": {},
   "outputs": [],
   "source": []
  }
 ],
 "metadata": {
  "kernelspec": {
   "display_name": "nxsdk-0.9.8",
   "language": "python",
   "name": "nxsdk-0.9.8"
  },
  "language_info": {
   "codemirror_mode": {
    "name": "ipython",
    "version": 3
   },
   "file_extension": ".py",
   "mimetype": "text/x-python",
   "name": "python",
   "nbconvert_exporter": "python",
   "pygments_lexer": "ipython3",
   "version": "3.5.2"
  }
 },
 "nbformat": 4,
 "nbformat_minor": 4
}
