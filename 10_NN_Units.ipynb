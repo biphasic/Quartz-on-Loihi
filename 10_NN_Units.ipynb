{
 "cells": [
  {
   "cell_type": "markdown",
   "metadata": {},
   "source": [
    "## ReLCo"
   ]
  },
  {
   "cell_type": "code",
   "execution_count": null,
   "metadata": {},
   "outputs": [],
   "source": [
    "%matplotlib inline\n",
    "import quartz\n",
    "from quartz import layers\n",
    "import numpy as np\n",
    "import torch\n",
    "import torch.nn as nn\n",
    "t_max = 2**8\n",
    "run_time = 4*t_max\n",
    "dims = (1,10,10)\n",
    "n_outputs = 1\n",
    "weight_e = 100\n",
    "weight_acc = 128\n",
    "model_args = {'weight_e':weight_e, 'weight_acc':weight_acc}\n",
    "\n",
    "np.random.seed(seed=47)\n",
    "weights = (np.random.rand(n_outputs,np.product(dims)) - 0.5) / 5\n",
    "biases = (np.random.rand(n_outputs) - 0.5) / 2\n",
    "\n",
    "loihi_model = quartz.Network([\n",
    "    layers.InputLayer(dims=dims, **model_args),\n",
    "    layers.Dense(weights=weights, biases=None, **model_args),\n",
    "    layers.MonitorLayer(**model_args),\n",
    "])\n",
    "\n",
    "input_probe = quartz.Probe(loihi_model.layers[0].blocks[0])\n",
    "hidden_probe = quartz.Probe(loihi_model.layers[1].blocks[0])\n",
    "\n",
    "values = np.random.rand(np.product(dims))\n",
    "inputs = quartz.decode_values_into_spike_input(values, t_max)\n",
    "\n",
    "quantized_values = (values*t_max).round()/t_max\n",
    "quantized_weights = (weight_acc*weights).round()/weight_acc\n",
    "quantized_biases = (biases*t_max).round()/t_max\n",
    "\n",
    "pt_model = nn.Sequential(\n",
    "    nn.Linear(in_features=np.product(dims), out_features=n_outputs), \n",
    "    nn.ReLU()\n",
    ")\n",
    "pt_model[0].weight = torch.nn.Parameter(torch.tensor(quantized_weights))\n",
    "pt_model[0].bias = torch.nn.Parameter(torch.tensor(quantized_biases))\n",
    "model_output = pt_model(torch.tensor(quantized_values)).detach().numpy()\n",
    "#loihi_model"
   ]
  },
  {
   "cell_type": "code",
   "execution_count": null,
   "metadata": {},
   "outputs": [],
   "source": [
    "output = loihi_model(inputs, t_max)"
   ]
  },
  {
   "cell_type": "code",
   "execution_count": null,
   "metadata": {},
   "outputs": [],
   "source": [
    "hidden_probe.plot()"
   ]
  },
  {
   "cell_type": "code",
   "execution_count": null,
   "metadata": {},
   "outputs": [],
   "source": [
    "hidden_probe.output()"
   ]
  },
  {
   "cell_type": "code",
   "execution_count": null,
   "metadata": {},
   "outputs": [],
   "source": [
    "spike_times"
   ]
  },
  {
   "cell_type": "code",
   "execution_count": null,
   "metadata": {},
   "outputs": [],
   "source": [
    "%debug"
   ]
  },
  {
   "cell_type": "code",
   "execution_count": null,
   "metadata": {},
   "outputs": [],
   "source": []
  },
  {
   "cell_type": "markdown",
   "metadata": {},
   "source": [
    "## Max pooling"
   ]
  },
  {
   "cell_type": "code",
   "execution_count": null,
   "metadata": {},
   "outputs": [],
   "source": [
    "%matplotlib inline\n",
    "import quartz\n",
    "#import numpy as np\n",
    "recall_spike_times = [[1],[10],[20],]\n",
    "t_max = 2**8\n",
    "run_time = 4*t_max\n",
    "\n",
    "constant_monitor = False\n",
    "\n",
    "values = [0, 0.152, 0.245]\n",
    "inputs = []\n",
    "constants = []\n",
    "for i, value in enumerate(values):\n",
    "    constants.append(quartz.blocks.ConstantDelay(value, name=\"const\"+str(i)+\":\", promoted=True, monitor=constant_monitor))\n",
    "    inputs.append(quartz.blocks.Splitter(number=i, monitor=False))\n",
    "\n",
    "pool = quartz.blocks.MaxPooling(inputs, split_input=False, split_output=False, name=\"\", monitor=True)\n",
    "pool.blocks += constants\n",
    "pool.blocks += inputs\n",
    "\n",
    "weight_e, weight_acc, t_syn, t_min, t_neu = pool.get_params_at_once()\n",
    "for const, inp in zip(constants, inputs):\n",
    "    const.output_neurons()[0].connect_to(inp.input_neurons()[0], weight_e, t_syn)\n",
    "\n",
    "pool.run_on_loihi(run_time, recall_spike_list=recall_spike_times, t_max=t_max, partition='loihi', probe_selection=[\"input\", \"sync\",])"
   ]
  },
  {
   "cell_type": "code",
   "execution_count": null,
   "metadata": {},
   "outputs": [],
   "source": []
  },
  {
   "cell_type": "code",
   "execution_count": null,
   "metadata": {},
   "outputs": [],
   "source": []
  }
 ],
 "metadata": {
  "kernelspec": {
   "display_name": "nxsdk-0.9.8",
   "language": "python",
   "name": "nxsdk-0.9.8"
  },
  "language_info": {
   "codemirror_mode": {
    "name": "ipython",
    "version": 3
   },
   "file_extension": ".py",
   "mimetype": "text/x-python",
   "name": "python",
   "nbconvert_exporter": "python",
   "pygments_lexer": "ipython3",
   "version": "3.5.2"
  }
 },
 "nbformat": 4,
 "nbformat_minor": 4
}
