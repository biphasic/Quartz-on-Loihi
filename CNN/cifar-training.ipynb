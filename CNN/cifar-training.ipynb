{
 "cells": [
  {
   "cell_type": "markdown",
   "metadata": {},
   "source": [
    "# Training a ConvNet on CIFAR10\n"
   ]
  },
  {
   "cell_type": "code",
   "execution_count": null,
   "metadata": {},
   "outputs": [],
   "source": [
    "import numpy as np\n",
    "from datetime import datetime \n",
    "import torch\n",
    "import torch.nn as nn\n",
    "from torch.nn import functional as F\n",
    "from torch.utils.data import DataLoader\n",
    "from torchvision import datasets, transforms\n",
    "from torch.utils.tensorboard import SummaryWriter\n",
    "import torchvision\n",
    "import matplotlib.pyplot as plt\n",
    "import ipdb\n",
    "import time\n",
    "import collections\n",
    "from functools import partial\n",
    "from cifar_model import ConvNet\n",
    "from utils import *\n",
    "# check device\n",
    "DEVICE = 'cuda'"
   ]
  },
  {
   "cell_type": "code",
   "execution_count": null,
   "metadata": {},
   "outputs": [],
   "source": [
    "# parameters\n",
    "RANDOM_SEED = 42\n",
    "LEARNING_RATE = 0.001\n",
    "BATCH_SIZE = 128\n",
    "num_workers = 10\n",
    "\n",
    "IMG_SIZE = 32\n",
    "N_CLASSES = 10"
   ]
  },
  {
   "cell_type": "markdown",
   "metadata": {},
   "source": [
    "## Data"
   ]
  },
  {
   "cell_type": "code",
   "execution_count": null,
   "metadata": {},
   "outputs": [],
   "source": [
    "transform_train = transforms.Compose([\n",
    "    transforms.RandomHorizontalFlip(),\n",
    "    transforms.RandomAffine(15, translate=(0.05,0.05)),\n",
    "    #transforms.RandomRotation(15),\n",
    "    transforms.ToTensor(),\n",
    "])\n",
    "\n",
    "transform_test = transforms.Compose([\n",
    "    transforms.ToTensor(),\n",
    "])\n",
    "\n",
    "# download and create datasets\n",
    "train_dataset = datasets.CIFAR10(root='./data', train=True, transform=transform_train, download=True)\n",
    "valid_dataset = datasets.CIFAR10(root='./data', train=False,transform=transform_test)\n",
    "\n",
    "# define the data loaders\n",
    "train_loader = DataLoader(dataset=train_dataset, batch_size=BATCH_SIZE, shuffle=True, num_workers=num_workers, pin_memory=True)\n",
    "valid_loader = DataLoader(dataset=valid_dataset, batch_size=BATCH_SIZE, shuffle=False, num_workers=num_workers, pin_memory=True)\n",
    "test_loader = DataLoader(dataset=train_dataset, batch_size=1, shuffle=False, num_workers=num_workers)"
   ]
  },
  {
   "cell_type": "code",
   "execution_count": null,
   "metadata": {},
   "outputs": [],
   "source": [
    "image, sample = next(iter(test_loader))\n",
    "plt.imshow(image[0].permute(1, 2, 0))"
   ]
  },
  {
   "cell_type": "code",
   "execution_count": null,
   "metadata": {},
   "outputs": [],
   "source": []
  },
  {
   "cell_type": "code",
   "execution_count": null,
   "metadata": {},
   "outputs": [],
   "source": [
    "activations = collections.defaultdict(list)\n",
    "def save_activation(name, mod, inp, out):\n",
    "    activations[name] = out # don't detach or move to CPU here"
   ]
  },
  {
   "cell_type": "code",
   "execution_count": null,
   "metadata": {},
   "outputs": [],
   "source": [
    "def training_loop(model, criterion, optimizer, train_loader, valid_loader, epochs, device, print_every=1):\n",
    "    best_loss = 1e10\n",
    "    train_losses = []\n",
    "    valid_losses = []\n",
    "    logged_layers = 0\n",
    "    for name, module in model.named_modules():\n",
    "        if isinstance(module, nn.Conv2d):\n",
    "            module.register_forward_hook(partial(save_activation, name))\n",
    "            logged_layers += 1\n",
    "    # writer = SummaryWriter()\n",
    "\n",
    "    for epoch in range(0, epochs):\n",
    "        # training\n",
    "        model, optimizer, train_loss = train(train_loader, model, criterion, optimizer, device, activations, logged_layers)\n",
    "        train_losses.append(train_loss)\n",
    "        weights, biases = get_weights_biases(model)\n",
    "#         activations = (out1, out2, out3, out4)\n",
    "#         for i in range(len(weights)):\n",
    "#             writer.add_histogram('Layer' + str(i+1) + '/weights', weights[i], epoch)\n",
    "#             writer.add_histogram('Layer' + str(i+1) + '/biases', biases[i], epoch)\n",
    "#             writer.add_histogram('Layer' + str(i+1) + '/activations', activations[i], epoch)\n",
    "    \n",
    "        with torch.no_grad():\n",
    "            model, valid_loss = validate(valid_loader, model, criterion, device)\n",
    "            valid_losses.append(valid_loss)\n",
    "        if epoch % print_every == (print_every - 1):\n",
    "            train_acc = get_accuracy(model, train_loader, device=device)\n",
    "            valid_acc = get_accuracy(model, valid_loader, device=device)\n",
    "            print(f'{datetime.now().time().replace(microsecond=0)} --- '\n",
    "                  f'Epoch: {epoch}\\t'\n",
    "                  f'Train loss: {train_loss:.4f}\\t'\n",
    "                  f'Valid loss: {valid_loss:.4f}\\t'\n",
    "                  f'Train accuracy: {100 * train_acc:.2f}\\t'\n",
    "                  f'Valid accuracy: {100 * valid_acc:.2f}')\n",
    "#             writer.add_scalar('Accuracy/train', train_acc, epoch)\n",
    "#             writer.add_scalar('Accuracy/test', valid_acc, epoch)\n",
    "#         writer.add_scalar('Loss/train', train_loss, epoch)\n",
    "#         writer.add_scalar('Loss/test', train_loss, epoch)\n",
    "    #writer.close()\n",
    "    plot_losses(train_losses, valid_losses)\n",
    "    return model, optimizer, (train_losses, valid_losses)"
   ]
  },
  {
   "cell_type": "code",
   "execution_count": null,
   "metadata": {},
   "outputs": [],
   "source": [
    "def train(train_loader, model, criterion, optimizer, device, activations, logged_layers):\n",
    "    '''\n",
    "    Function for the training step of the training loop\n",
    "    '''\n",
    "    model.train()\n",
    "    running_loss = 0\n",
    "\n",
    "    for i, (X, y_true) in enumerate(train_loader):\n",
    "        max_activities = np.zeros((logged_layers))\n",
    "        optimizer.zero_grad()\n",
    "        #logger.clear()\n",
    "        X = X.to(device)\n",
    "        y_true = y_true.to(device)\n",
    "        # Forward pass\n",
    "        y_hat, probs = model(X)\n",
    "        names = []\n",
    "        for i, (name, output) in enumerate(activations.items()):\n",
    "            names.append(name)\n",
    "            if output.max() > max_activities[i]: max_activities[i] = output.max().cpu()\n",
    "        norm = 2\n",
    "        beta = 0.0001\n",
    "        loss = criterion(y_hat, y_true)\n",
    "        for j, name in enumerate(names):\n",
    "            loss += j*0.2*beta*torch.norm(activations[name], norm)\n",
    "        # Backward pass\n",
    "        loss.backward()\n",
    "        optimizer.step()\n",
    "        running_loss += loss.item() * X.size(0)\n",
    "        outputs = np.zeros((10))#logger.outputs.copy()\n",
    "    epoch_loss = running_loss / len(train_loader.dataset)\n",
    "    #print(names)\n",
    "    print(\"Max activations: {}\".format(max_activities))\n",
    "    return model, optimizer, epoch_loss"
   ]
  },
  {
   "cell_type": "code",
   "execution_count": null,
   "metadata": {},
   "outputs": [],
   "source": [
    "torch.manual_seed(RANDOM_SEED)\n",
    "\n",
    "model = ConvNet(N_CLASSES).to(DEVICE)\n",
    "#model = nn.DataParallel(model) #torch.cuda.device_count()\n",
    "optimizer = torch.optim.Adam(model.parameters(), lr=LEARNING_RATE, weight_decay=0.00001)\n",
    "criterion = nn.CrossEntropyLoss()"
   ]
  },
  {
   "cell_type": "code",
   "execution_count": null,
   "metadata": {},
   "outputs": [],
   "source": [
    "model, optimizer, _ = training_loop(model, criterion, optimizer, train_loader, valid_loader, 80, DEVICE)"
   ]
  },
  {
   "cell_type": "code",
   "execution_count": null,
   "metadata": {},
   "outputs": [],
   "source": [
    "biggest_abs_weight(model)\n",
    "weights, biases = get_weights_biases(model)"
   ]
  },
  {
   "cell_type": "code",
   "execution_count": null,
   "metadata": {},
   "outputs": [],
   "source": [
    "([weight.max() for weight in weights])"
   ]
  },
  {
   "cell_type": "code",
   "execution_count": null,
   "metadata": {},
   "outputs": [],
   "source": [
    "([weight.min() for weight in weights])"
   ]
  },
  {
   "cell_type": "code",
   "execution_count": null,
   "metadata": {},
   "outputs": [],
   "source": [
    "([bias.max() for bias in biases])"
   ]
  },
  {
   "cell_type": "code",
   "execution_count": null,
   "metadata": {},
   "outputs": [],
   "source": [
    "([bias.min() for bias in biases])"
   ]
  },
  {
   "cell_type": "code",
   "execution_count": null,
   "metadata": {},
   "outputs": [],
   "source": [
    "torch.save(model.state_dict(), \"./cifar-convnet.pth\") # don't forget to set model.eval() after loading"
   ]
  },
  {
   "cell_type": "code",
   "execution_count": null,
   "metadata": {},
   "outputs": [],
   "source": [
    "model"
   ]
  },
  {
   "cell_type": "code",
   "execution_count": null,
   "metadata": {},
   "outputs": [],
   "source": []
  },
  {
   "cell_type": "code",
   "execution_count": null,
   "metadata": {},
   "outputs": [],
   "source": [
    "%debug"
   ]
  },
  {
   "cell_type": "code",
   "execution_count": null,
   "metadata": {},
   "outputs": [],
   "source": []
  },
  {
   "cell_type": "code",
   "execution_count": null,
   "metadata": {},
   "outputs": [],
   "source": []
  },
  {
   "cell_type": "code",
   "execution_count": null,
   "metadata": {},
   "outputs": [],
   "source": []
  },
  {
   "cell_type": "code",
   "execution_count": null,
   "metadata": {},
   "outputs": [],
   "source": [
    "for param_tensor in model.state_dict():\n",
    "    print(param_tensor, \"\\t\", model.state_dict()[param_tensor].size())\n",
    "    "
   ]
  },
  {
   "cell_type": "code",
   "execution_count": null,
   "metadata": {},
   "outputs": [],
   "source": []
  }
 ],
 "metadata": {
  "kernelspec": {
   "display_name": "Python 3",
   "language": "python",
   "name": "python3"
  },
  "language_info": {
   "codemirror_mode": {
    "name": "ipython",
    "version": 3
   },
   "file_extension": ".py",
   "mimetype": "text/x-python",
   "name": "python",
   "nbconvert_exporter": "python",
   "pygments_lexer": "ipython3",
   "version": "3.7.7"
  }
 },
 "nbformat": 4,
 "nbformat_minor": 4
}
