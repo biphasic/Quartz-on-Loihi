{
 "cells": [
  {
   "cell_type": "markdown",
   "metadata": {},
   "source": [
    "# Implementing Yann LeCun's LeNet-5 in PyTorch"
   ]
  },
  {
   "cell_type": "markdown",
   "metadata": {},
   "source": [
    "## Setup"
   ]
  },
  {
   "cell_type": "code",
   "execution_count": null,
   "metadata": {},
   "outputs": [],
   "source": [
    "import numpy as np\n",
    "from datetime import datetime \n",
    "import torch\n",
    "import torch.nn as nn\n",
    "from torch.nn import functional as F\n",
    "from torch.utils.data import DataLoader\n",
    "from torchvision import datasets, transforms\n",
    "from torch.utils.tensorboard import SummaryWriter\n",
    "import torchvision\n",
    "import matplotlib.pyplot as plt\n",
    "import ipdb\n",
    "import time\n",
    "from lenet import LeNet5\n",
    "from utils import *\n",
    "# check device\n",
    "DEVICE = 'cuda'"
   ]
  },
  {
   "cell_type": "code",
   "execution_count": null,
   "metadata": {},
   "outputs": [],
   "source": [
    "# parameters\n",
    "RANDOM_SEED = 42\n",
    "LEARNING_RATE = 0.001\n",
    "BATCH_SIZE = 128\n",
    "num_workers = 10\n",
    "\n",
    "IMG_SIZE = 32\n",
    "N_CLASSES = 10"
   ]
  },
  {
   "cell_type": "markdown",
   "metadata": {},
   "source": [
    "## Data"
   ]
  },
  {
   "cell_type": "code",
   "execution_count": null,
   "metadata": {},
   "outputs": [],
   "source": [
    "# define transforms\n",
    "# transforms.ToTensor() automatically scales the images to [0,1] range\n",
    "transform = transforms.Compose([transforms.Resize((32, 32)), transforms.ToTensor(), transforms.Normalize((0.1307,), (0.3081,))])\n",
    "\n",
    "# download and create datasets\n",
    "train_dataset = datasets.MNIST(root='mnist_data', train=True, transform=transform, download=True)\n",
    "valid_dataset = datasets.MNIST(root='mnist_data', train=False,transform=transform)\n",
    "\n",
    "# define the data loaders\n",
    "train_loader = DataLoader(dataset=train_dataset, batch_size=BATCH_SIZE, shuffle=True, num_workers=num_workers, pin_memory=True)\n",
    "valid_loader = DataLoader(dataset=valid_dataset, batch_size=BATCH_SIZE, shuffle=False, num_workers=num_workers, pin_memory=True)\n",
    "test_loader = DataLoader(dataset=valid_dataset, batch_size=1, shuffle=True, num_workers=num_workers, pin_memory=True)"
   ]
  },
  {
   "cell_type": "code",
   "execution_count": null,
   "metadata": {},
   "outputs": [],
   "source": [
    "def training_loop(model, criterion, optimizer, train_loader, valid_loader, epochs, device, print_every=1):\n",
    "    best_loss = 1e10\n",
    "    train_losses = []\n",
    "    valid_losses = []\n",
    "    writer = SummaryWriter()#'runs/lenet_experiment_1')\n",
    "    # Train model\n",
    "    for epoch in range(0, epochs):\n",
    "        # training\n",
    "        model, optimizer, train_loss, out1, out2, out3, out4, out5 = train(train_loader, model, criterion, optimizer, device)\n",
    "        weights, biases = get_weights_biases(model)\n",
    "        activations = (out1, out2, out3, out4, out5)\n",
    "        for i in range(len(weights)):\n",
    "            writer.add_histogram('Layer' + str(i+1) + '/weights', weights[i], epoch)\n",
    "            writer.add_histogram('Layer' + str(i+1) + '/biases', biases[i], epoch)\n",
    "            writer.add_histogram('Layer' + str(i+1) + '/activations', activations[i], epoch)\n",
    "\n",
    "        train_losses.append(train_loss)\n",
    "        writer.add_scalar('Loss/train', train_loss, epoch)\n",
    "        # validation\n",
    "        with torch.no_grad():\n",
    "            model, valid_loss = validate(valid_loader, model, criterion, device)\n",
    "            valid_losses.append(valid_loss)\n",
    "            writer.add_scalar('Loss/test', train_loss, epoch)\n",
    "        if epoch % print_every == (print_every - 1):\n",
    "            train_acc = get_accuracy(model, train_loader, device=device)\n",
    "            valid_acc = get_accuracy(model, valid_loader, device=device)\n",
    "            writer.add_scalar('Accuracy/train', train_acc, epoch)\n",
    "            writer.add_scalar('Accuracy/test', valid_acc, epoch)\n",
    "            print(f'{datetime.now().time().replace(microsecond=0)} --- '\n",
    "                  f'Epoch: {epoch}\\t'\n",
    "                  f'Train loss: {train_loss:.4f}\\t'\n",
    "                  f'Valid loss: {valid_loss:.4f}\\t'\n",
    "                  f'Train accuracy: {100 * train_acc:.2f}\\t'\n",
    "                  f'Valid accuracy: {100 * valid_acc:.2f}')\n",
    "    writer.close()\n",
    "    plot_losses(train_losses, valid_losses)\n",
    "    return model, optimizer, (train_losses, valid_losses)"
   ]
  },
  {
   "cell_type": "code",
   "execution_count": null,
   "metadata": {},
   "outputs": [],
   "source": [
    "def train(train_loader, model, criterion, optimizer, device):\n",
    "    '''\n",
    "    Function for the training step of the training loop\n",
    "    '''\n",
    "    model.train()\n",
    "    running_loss = 0\n",
    "    l1, l2, l3, l4, l5 = 0, 0, 0, 0, 0\n",
    "    for i, (X, y_true) in enumerate(train_loader):\n",
    "        optimizer.zero_grad()\n",
    "        X = X.to(device)\n",
    "        y_true = y_true.to(device)\n",
    "        # Forward pass\n",
    "        y_hat, probs, out1, out2, out3, out4 = model(X)\n",
    "        max1, max2, max3, max4, max5 = out1.max(), out2.max(), out3.max(), out4.max(), y_hat.abs().max()\n",
    "        if max1 > l1: l1 = max1\n",
    "        if max2 > l2: l2 = max2\n",
    "        if max3 > l3: l3 = max3\n",
    "        if max4 > l4: l4 = max4\n",
    "        if max5 > l5: l5 = max5\n",
    "        norm = 3\n",
    "        beta = 0.001\n",
    "        loss = criterion(y_hat, y_true) + 10*beta*torch.norm(y_hat, 2) + 2*beta*torch.norm(out4, norm)\\\n",
    "                + 1.3*beta*torch.norm(out3, norm) + 0.7*beta*torch.norm(out2, norm) + 0.6*beta*torch.norm(out1, norm)\n",
    "        # Backward pass\n",
    "        loss.backward()\n",
    "        optimizer.step()\n",
    "        #ipdb.set_trace()\n",
    "        running_loss += loss.item() * X.size(0)\n",
    "    epoch_loss = running_loss / len(train_loader.dataset)\n",
    "    print(\"Max activations: {0:.2f}, {1:.2f}, {2:.2f}, {3:.2f}, {4:.2f}\".format(l1, l2, l3, l4, l5))\n",
    "    return model, optimizer, epoch_loss, out1, out2, out3, out4, y_hat"
   ]
  },
  {
   "cell_type": "code",
   "execution_count": null,
   "metadata": {},
   "outputs": [],
   "source": [
    "torch.manual_seed(RANDOM_SEED)\n",
    "\n",
    "model = LeNet5(N_CLASSES).to(DEVICE)\n",
    "#model = nn.DataParallel(model) #torch.cuda.device_count()\n",
    "optimizer = torch.optim.Adam(model.parameters(), lr=LEARNING_RATE)\n",
    "criterion = nn.CrossEntropyLoss()"
   ]
  },
  {
   "cell_type": "code",
   "execution_count": null,
   "metadata": {},
   "outputs": [],
   "source": [
    "model, optimizer, _ = training_loop(model, criterion, optimizer, train_loader, valid_loader, 17, DEVICE)"
   ]
  },
  {
   "cell_type": "code",
   "execution_count": null,
   "metadata": {},
   "outputs": [],
   "source": [
    "biggest_weight(model)"
   ]
  },
  {
   "cell_type": "code",
   "execution_count": null,
   "metadata": {},
   "outputs": [],
   "source": []
  },
  {
   "cell_type": "code",
   "execution_count": null,
   "metadata": {},
   "outputs": [],
   "source": []
  },
  {
   "cell_type": "code",
   "execution_count": null,
   "metadata": {},
   "outputs": [],
   "source": [
    "model.eval()\n",
    "X, y_true = next(iter(test_loader))\n",
    "X = X.to(DEVICE)\n",
    "Y = y_true.to(DEVICE)\n",
    "Y_hat = model(X)[0]\n",
    "plt.plot(Y_hat.cpu().detach().numpy().flatten())"
   ]
  },
  {
   "cell_type": "code",
   "execution_count": null,
   "metadata": {},
   "outputs": [],
   "source": []
  },
  {
   "cell_type": "code",
   "execution_count": null,
   "metadata": {},
   "outputs": [],
   "source": [
    "from matplotlib import pyplot as plt\n",
    "import numpy as np\n",
    "\n",
    "weights = list(model.parameters())\n",
    "weights = [weight.flatten() for weight in weights]\n",
    "weights = torch.cat(weights)\n",
    "\n",
    "capture = plt.hist(weights.cpu().detach().numpy(), bins=200)"
   ]
  },
  {
   "cell_type": "code",
   "execution_count": null,
   "metadata": {},
   "outputs": [],
   "source": [
    "for param_tensor in model.state_dict():\n",
    "    print(param_tensor, \"\\t\", model.state_dict()[param_tensor].size())"
   ]
  },
  {
   "cell_type": "code",
   "execution_count": null,
   "metadata": {},
   "outputs": [],
   "source": [
    "torch.save(model.state_dict(), \"./quartz-lenet.pth\") # don't forget to set model.eval() after loading"
   ]
  },
  {
   "cell_type": "markdown",
   "metadata": {},
   "source": [
    "**Plotting the images**"
   ]
  },
  {
   "cell_type": "code",
   "execution_count": null,
   "metadata": {},
   "outputs": [],
   "source": [
    "ROW_IMG = 10\n",
    "N_ROWS = 5"
   ]
  },
  {
   "cell_type": "code",
   "execution_count": null,
   "metadata": {},
   "outputs": [],
   "source": [
    "fig = plt.figure()\n",
    "for index in range(1, ROW_IMG * N_ROWS + 1):\n",
    "    plt.subplot(N_ROWS, ROW_IMG, index)\n",
    "    plt.axis('off')\n",
    "    plt.imshow(train_dataset.data[index])\n",
    "fig.suptitle('MNIST Dataset - preview');"
   ]
  },
  {
   "cell_type": "code",
   "execution_count": null,
   "metadata": {},
   "outputs": [],
   "source": [
    "fig = plt.figure()\n",
    "for index in range(1, ROW_IMG * N_ROWS + 1):\n",
    "    plt.subplot(N_ROWS, ROW_IMG, index)\n",
    "    plt.axis('off')\n",
    "    plt.imshow(train_dataset.data[index], cmap='gray_r')\n",
    "fig.suptitle('MNIST Dataset - preview');"
   ]
  }
 ],
 "metadata": {
  "kernelspec": {
   "display_name": "Python 3",
   "language": "python",
   "name": "python3"
  },
  "language_info": {
   "codemirror_mode": {
    "name": "ipython",
    "version": 3
   },
   "file_extension": ".py",
   "mimetype": "text/x-python",
   "name": "python",
   "nbconvert_exporter": "python",
   "pygments_lexer": "ipython3",
   "version": "3.7.7"
  }
 },
 "nbformat": 4,
 "nbformat_minor": 4
}
