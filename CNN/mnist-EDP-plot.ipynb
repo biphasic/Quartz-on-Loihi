{
 "cells": [
  {
   "cell_type": "code",
   "execution_count": null,
   "metadata": {},
   "outputs": [],
   "source": [
    "import matplotlib.pyplot as plt\n",
    "import numpy as np"
   ]
  },
  {
   "cell_type": "code",
   "execution_count": null,
   "metadata": {},
   "outputs": [],
   "source": [
    "probe_3 = {'numLmtsBeingUsed': 1, 'numCores': 18, 'power': {'static': 900.0723684210526, 'idle': 918.0723684210526, 'lakemont': {'SRAM_static': 0.11434943486866046, 'static': 0.1318448984035655, 'logic_static': 0.01749546353490505, 'clock': 18.0, 'dynamic': 23.541728651487528, 'code': 5.541728651487527}, 'dynamic': 29.85653709812425, 'core': {'SRAM_static': 5.608419148871631, 'logic_static': 2.4060118148659297, 'dynamic': 6.3148084466367225, 'static': 8.01443096373756}, 'total': 929.9289055191769}, 'timePerTimestep': 120.23220652079236, 'numCoresActuallyOn': 96, 'numChipsActuallyBeingUsed': 1, 'lmtActiveRatio': 0.9236214419145878}"
   ]
  },
  {
   "cell_type": "code",
   "execution_count": null,
   "metadata": {},
   "outputs": [],
   "source": [
    "probe_4 = {'numLmtsBeingUsed': 1, 'numCores': 18, 'power': {'static': 904.0434782608695, 'idle': 922.0434782608695, 'lakemont': {'SRAM_static': 0.12431353180862259, 'static': 0.14333350217534185, 'logic_static': 0.019019970366719256, 'clock': 18.0, 'dynamic': 23.369286352167574, 'code': 5.369286352167574}, 'dynamic': 31.750474706655723, 'core': {'SRAM_static': 6.097121451104106, 'logic_static': 2.6156651025236615, 'dynamic': 8.381188354488149, 'static': 8.712786553627767}, 'total': 935.7939529675252}, 'timePerTimestep': 70.23910319961186, 'numCoresActuallyOn': 96, 'numChipsActuallyBeingUsed': 1, 'lmtActiveRatio': 0.8948810586945957}"
   ]
  },
  {
   "cell_type": "code",
   "execution_count": null,
   "metadata": {},
   "outputs": [],
   "source": [
    "probe_5 = {'numCores': 18, 'numChipsActuallyBeingUsed': 1, 'timePerTimestep': 40.75025925550233, 'numLmtsBeingUsed': 1, 'power': {'static': 900.5771428571429, 'lakemont': {'SRAM_static': 0.12103370246232045, 'clock': 18.0, 'dynamic': 23.04537514001617, 'static': 0.13955185893905547, 'logic_static': 0.018518156476735027, 'code': 5.045375140016169}, 'dynamic': 34.57399585921314, 'core': {'SRAM_static': 5.936257886435335, 'static': 8.482912519716095, 'dynamic': 11.528620719196972, 'logic_static': 2.5466546332807587}, 'idle': 918.5771428571429, 'total': 935.1511387163561}, 'lmtActiveRatio': 0.8408958566693615, 'numCoresActuallyOn': 96}"
   ]
  },
  {
   "cell_type": "code",
   "execution_count": null,
   "metadata": {},
   "outputs": [],
   "source": [
    "probe_6 = {'numLmtsBeingUsed': 1, 'numCores': 18, 'power': {'static': 898.4450261780105, 'idle': 916.4450261780105, 'lakemont': {'SRAM_static': 0.12971325085436364, 'static': 0.14955937823508128, 'logic_static': 0.019846127380717636, 'clock': 18.0, 'dynamic': 22.505632869693475, 'code': 4.505632869693475}, 'dynamic': 39.4967727637885, 'core': {'SRAM_static': 6.3619578075709695, 'logic_static': 2.729279899447946, 'dynamic': 16.991139894095024, 'static': 9.091237707018916}, 'total': 937.941798941799}, 'timePerTimestep': 24.664729801336872, 'numCoresActuallyOn': 96, 'numChipsActuallyBeingUsed': 1, 'lmtActiveRatio': 0.7509388116155791}"
   ]
  },
  {
   "cell_type": "code",
   "execution_count": null,
   "metadata": {},
   "outputs": [],
   "source": [
    "probe_7 = {'numLmtsBeingUsed': 1, 'numCores': 18, 'power': {'static': 902.4759036144578, 'idle': 920.4759036144578, 'lakemont': {'SRAM_static': 0.1303932154749386, 'static': 0.1503433774426042, 'logic_static': 0.019950161967665605, 'clock': 18.0, 'dynamic': 21.768120027867937, 'code': 3.768120027867936}, 'dynamic': 48.75143062099551, 'core': {'SRAM_static': 6.395307570977916, 'logic_static': 2.743586947949526, 'dynamic': 26.98331059312757, 'static': 9.138894518927442}, 'total': 951.2273342354533}, 'timePerTimestep': 16.29122455673135, 'numCoresActuallyOn': 96, 'numChipsActuallyBeingUsed': 1, 'lmtActiveRatio': 0.628020004644656}"
   ]
  },
  {
   "cell_type": "code",
   "execution_count": null,
   "metadata": {},
   "outputs": [],
   "source": [
    "probes = [probe_3, probe_4, probe_5, probe_6] #, probe_7]\n",
    "steps_per_sample = [50, 90, 170, 330, 650]\n",
    "first_output_spike = [38, 67, 129, 253, 501]\n",
    "classif_error = [38.79, 0.9, 0.81, 0.79]#, 0.79]"
   ]
  },
  {
   "cell_type": "code",
   "execution_count": null,
   "metadata": {},
   "outputs": [],
   "source": [
    "latencies = [probe['timePerTimestep']*steps_per_sample[i]/1000 for i, probe in enumerate(probes)]\n",
    "latencies"
   ]
  },
  {
   "cell_type": "code",
   "execution_count": null,
   "metadata": {},
   "outputs": [],
   "source": [
    "dynamic_energy_decision = [probe['timePerTimestep']*(probe['power']['core']['dynamic'])*first_output_spike[i]/1000 for i, probe in enumerate(probes)]\n",
    "total_energy_decision = [probe['timePerTimestep']*(probe['power']['core']['dynamic']+probe['power']['core']['static'])*first_output_spike[i]/1000 for i, probe in enumerate(probes)]"
   ]
  },
  {
   "cell_type": "code",
   "execution_count": null,
   "metadata": {},
   "outputs": [],
   "source": [
    "edp_truenorth = [latency*energy/1000 for latency, energy in zip(latencies, total_energy_decision)]\n",
    "edp_truenorth"
   ]
  },
  {
   "cell_type": "code",
   "execution_count": null,
   "metadata": {},
   "outputs": [],
   "source": [
    "plt.scatter(edp_truenorth, classif_error, label='TTFS conversion MNIST')\n",
    "plt.scatter(4.38, 0.79, color='red', label='Rate conversion MNIST')\n",
    "plt.plot(edp_truenorth, classif_error)\n",
    "plt.ylim([0.5, 100])\n",
    "plt.yscale('log')\n",
    "plt.grid(True)\n",
    "plt.xlabel(r\"EDP [$\\mu$Js]\")\n",
    "plt.ylabel(r\"Classification error [%]\")\n",
    "plt.legend()\n",
    "plt.savefig(\"EDP-plot.png\")"
   ]
  },
  {
   "cell_type": "code",
   "execution_count": null,
   "metadata": {},
   "outputs": [],
   "source": []
  },
  {
   "cell_type": "code",
   "execution_count": null,
   "metadata": {},
   "outputs": [],
   "source": []
  }
 ],
 "metadata": {
  "kernelspec": {
   "display_name": "Python 3",
   "language": "python",
   "name": "python3"
  },
  "language_info": {
   "codemirror_mode": {
    "name": "ipython",
    "version": 3
   },
   "file_extension": ".py",
   "mimetype": "text/x-python",
   "name": "python",
   "nbconvert_exporter": "python",
   "pygments_lexer": "ipython3",
   "version": "3.7.4"
  }
 },
 "nbformat": 4,
 "nbformat_minor": 4
}
