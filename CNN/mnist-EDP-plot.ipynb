{
 "cells": [
  {
   "cell_type": "code",
   "execution_count": null,
   "metadata": {},
   "outputs": [],
   "source": [
    "import matplotlib.pyplot as plt\n",
    "import numpy as np"
   ]
  },
  {
   "cell_type": "markdown",
   "metadata": {},
   "source": [
    "## Energy probes"
   ]
  },
  {
   "cell_type": "markdown",
   "metadata": {},
   "source": [
    "probe_3 refers to 2^3 time steps per layer, probe_4 uses 2^4 time steps and so on"
   ]
  },
  {
   "cell_type": "code",
   "execution_count": null,
   "metadata": {},
   "outputs": [],
   "source": [
    "probe_3 = {'timePerTimestep': 96.0412123605112, 'numLmtsBeingUsed': 1, 'numCoresActuallyOn': 72, 'lmtActiveRatio': 0.8218282262460925, 'numCores': 11, 'numChipsActuallyBeingUsed': 1, 'power': {'idle': 939.3363636363637, 'total': 951.1616766467066, 'core': {'SRAM_static': 2.9532537303288438, 'logic_static': 1.266945850311074, 'static': 4.2201995806399175, 'dynamic': 6.894343652866383}, 'lakemont': {'SRAM_static': 0.09853128354824414, 'logic_static': 0.015075286382881354, 'static': 0.1136065699311255, 'clock': 18.0, 'code': 4.930969357476555, 'dynamic': 22.930969357476556}, 'static': 921.3363636363637, 'dynamic': 29.82531301034294}}"
   ]
  },
  {
   "cell_type": "code",
   "execution_count": null,
   "metadata": {},
   "outputs": [],
   "source": [
    "probe_4 = {'timePerTimestep': 53.925088205570354, 'numLmtsBeingUsed': 1, 'numCoresActuallyOn': 72, 'lmtActiveRatio': 0.7767426340551904, 'numCores': 11, 'numChipsActuallyBeingUsed': 1, 'power': {'idle': 937.9130434782608, 'total': 951.8646766169154, 'core': {'SRAM_static': 3.5645738404019265, 'logic_static': 1.5292021775324265, 'static': 5.093776017934353, 'dynamic': 9.2911773343235}, 'lakemont': {'SRAM_static': 0.11892714540250063, 'logic_static': 0.018195853246582596, 'static': 0.13712299864908323, 'clock': 18.0, 'code': 4.660455804331143, 'dynamic': 22.660455804331143}, 'static': 919.9130434782608, 'dynamic': 31.951633138654643}}"
   ]
  },
  {
   "cell_type": "code",
   "execution_count": null,
   "metadata": {},
   "outputs": [],
   "source": [
    "probe_5 = {'timePerTimestep': 28.809999362250384, 'numLmtsBeingUsed': 1, 'numCoresActuallyOn': 72, 'lmtActiveRatio': 0.684693026838919, 'numCores': 11, 'numChipsActuallyBeingUsed': 1, 'power': {'idle': 946.6637931034483, 'total': 968.1807372175981, 'core': {'SRAM_static': 3.0806389838182144, 'logic_static': 1.321594124058014, 'static': 4.402233107876229, 'dynamic': 17.408785953116336}, 'lakemont': {'SRAM_static': 0.10278131882375315, 'logic_static': 0.01572554178003423, 'static': 0.11850686060378737, 'clock': 18.0, 'code': 4.108158161033514, 'dynamic': 22.108158161033515}, 'static': 928.6637931034483, 'dynamic': 39.51694411414985}}"
   ]
  },
  {
   "cell_type": "code",
   "execution_count": null,
   "metadata": {},
   "outputs": [],
   "source": [
    "probe_6 = {'timePerTimestep': 17.4405661815458, 'numLmtsBeingUsed': 1, 'numCoresActuallyOn': 72, 'lmtActiveRatio': 0.5497665107342047, 'numCores': 11, 'numChipsActuallyBeingUsed': 1, 'power': {'idle': 945.8220338983051, 'total': 973.2579415501906, 'core': {'SRAM_static': 3.395828341118646, 'logic_static': 1.4568103583398992, 'static': 4.852638699458545, 'dynamic': 24.13730858748026}, 'lakemont': {'SRAM_static': 0.11329718192641301, 'logic_static': 0.01733446883474119, 'static': 0.1306316507611542, 'clock': 18.0, 'code': 3.298599064405228, 'dynamic': 21.298599064405227}, 'static': 927.8220338983051, 'dynamic': 45.435907651885486}}"
   ]
  },
  {
   "cell_type": "code",
   "execution_count": null,
   "metadata": {},
   "outputs": [],
   "source": [
    "probe_7 = {'timePerTimestep': 13.301328117363747, 'numLmtsBeingUsed': 1, 'numCoresActuallyOn': 72, 'lmtActiveRatio': 0.44482766878983304, 'numCores': 11, 'numChipsActuallyBeingUsed': 1, 'power': {'idle': 937.5611510791367, 'total': 973.7327731092437, 'core': {'SRAM_static': 3.1616534229039126, 'logic_static': 1.3563493184257784, 'static': 4.518002741329691, 'dynamic': 33.50265601736796}, 'lakemont': {'SRAM_static': 0.10548425510961236, 'logic_static': 0.01613909103177069, 'static': 0.12162334614138305, 'clock': 18.0, 'code': 2.6689660127389985, 'dynamic': 20.668966012739}, 'static': 919.5611510791367, 'dynamic': 54.17162203010696}}"
   ]
  },
  {
   "cell_type": "code",
   "execution_count": null,
   "metadata": {},
   "outputs": [],
   "source": [
    "probes = [probe_3, probe_4, probe_5, probe_6] #, probe_7] # probe 7 does not bring us any benefit, since the classification error is the same\n",
    "steps_per_sample = [50, 90, 170, 330, 650]\n",
    "first_output_spike = [38, 67, 129, 253, 501]\n",
    "classif_error = [38.79, 0.9, 0.81, 0.79]#, 0.79]"
   ]
  },
  {
   "cell_type": "markdown",
   "metadata": {},
   "source": [
    "## Latencies in ms"
   ]
  },
  {
   "cell_type": "code",
   "execution_count": null,
   "metadata": {},
   "outputs": [],
   "source": [
    "latencies = [probe['timePerTimestep']*steps_per_sample[i]/1000 for i, probe in enumerate(probes)]\n",
    "print(latencies)"
   ]
  },
  {
   "cell_type": "markdown",
   "metadata": {},
   "source": [
    "## Energy per sample in uJ "
   ]
  },
  {
   "cell_type": "code",
   "execution_count": null,
   "metadata": {},
   "outputs": [],
   "source": [
    "# 'decision' refers to the number of time steps until the average first output spike, which is shorter than overall amount of time steps per sample\n",
    "dynamic_energy_cores_decision = [probe['timePerTimestep']*(probe['power']['core']['dynamic'])*first_output_spike[i]/1000 for i, probe in enumerate(probes)]\n",
    "print(dynamic_energy_cores_decision, \": Dynamic energy on cores until the first output spike arrives on average\")\n",
    "\n",
    "total_energy_cores_decision = [probe['timePerTimestep']*(probe['power']['core']['dynamic']+probe['power']['core']['static'])*first_output_spike[i]/1000 for i, probe in enumerate(probes)]\n",
    "print(total_energy_cores_decision, \": Total energy on cores until the first output spike arrives on average\")\n",
    "\n",
    "total_energy_decision = [probe['timePerTimestep']*(probe['power']['core']['dynamic']+probe['power']['core']['static']+probe['power']['lakemont']['static']+probe['power']['lakemont']['dynamic'])*first_output_spike[i]/1000 for i, probe in enumerate(probes)]\n",
    "print(total_energy_decision, \": Total energy on cores and lakemonts until the first output spike arrives on average\")\n",
    "\n",
    "total_energy = [probe['timePerTimestep']*(probe['power']['core']['dynamic']+probe['power']['core']['static']+probe['power']['lakemont']['static']+probe['power']['lakemont']['dynamic'])*steps_per_sample[i]/1000 for i, probe in enumerate(probes)]\n",
    "print(total_energy, \": Total energy on cores and lakemonts for all time steps per sample\")"
   ]
  },
  {
   "cell_type": "markdown",
   "metadata": {},
   "source": [
    "## EDP using different energy measurements"
   ]
  },
  {
   "cell_type": "code",
   "execution_count": null,
   "metadata": {},
   "outputs": [],
   "source": [
    "edp_dynamic = [latency*energy/1000 for latency, energy in zip(latencies, dynamic_energy_cores_decision)] # dynamic energy of cores, time to decision\n",
    "print(edp_dynamic)\n",
    "\n",
    "# as calculated by TrueNorth\n",
    "edp_truenorth = [latency*energy/1000 for latency, energy in zip(latencies, total_energy_decision)] # total energy cores + lakemont, time to decision\n",
    "print(edp_truenorth)\n",
    "\n",
    "# as calculated by Rueckauer et al. 2021\n",
    "edp_bodo = [latency*energy/1000 for latency, energy in zip(latencies, total_energy)] # total energy cores + lakemont, all time steps\n",
    "print(edp_bodo)"
   ]
  },
  {
   "cell_type": "code",
   "execution_count": null,
   "metadata": {},
   "outputs": [],
   "source": [
    "#[100 - error for error in classif_error]\n",
    "plt.scatter(edp_bodo, classif_error, label='TTFS conversion MNIST (ours)')\n",
    "plt.plot(edp_bodo, classif_error)\n",
    "plt.scatter(4.38, 0.79, color='red', label='Rate conversion MNIST (Rueckauer et al., 2021)')\n",
    "plt.ylim([0.5, 100])\n",
    "plt.yscale('log')\n",
    "plt.grid(True)\n",
    "plt.xlabel(r\"EDP [$\\mu$Js]\")\n",
    "plt.ylabel(r\"Classification accuracy error [%]\")\n",
    "plt.legend()\n",
    "plt.tight_layout()\n",
    "plt.savefig(\"EDP-plot.png\")"
   ]
  },
  {
   "cell_type": "code",
   "execution_count": null,
   "metadata": {},
   "outputs": [],
   "source": []
  },
  {
   "cell_type": "markdown",
   "metadata": {},
   "source": [
    "## Breakdown of power"
   ]
  },
  {
   "cell_type": "code",
   "execution_count": null,
   "metadata": {},
   "outputs": [],
   "source": [
    "probe_of_choice = probe_4\n",
    "probe_of_choice['power'].keys()\n",
    "print(\"neuromorphic cores: {} static, {} dynamic.\".format(probe_of_choice['power']['core']['static'], probe_of_choice['power']['core']['dynamic']))\n",
    "print(\"x86 lakemont cores: {} static, {} dynamic.\".format(probe_of_choice['power']['lakemont']['static'], probe_of_choice['power']['lakemont']['dynamic']))\n",
    "print(\"sum of dynamic power: {}\".format(probe_of_choice['power']['core']['dynamic'] + probe_of_choice['power']['lakemont']['dynamic']))\n",
    "print(\"sum of static power: {}\".format(probe_of_choice['power']['core']['static'] + probe_of_choice['power']['lakemont']['static']))\n",
    "print(\"sum of core power: {}\".format(probe_of_choice['power']['core']['static'] + probe_of_choice['power']['core']['dynamic']))\n",
    "print(\"sum of x86 power: {}\".format(probe_of_choice['power']['lakemont']['static'] + probe_of_choice['power']['lakemont']['dynamic']))\n",
    "print(\"sum: {}\".format(probe_of_choice['power']['lakemont']['static'] + probe_of_choice['power']['lakemont']['dynamic']+probe_of_choice['power']['core']['static'] + probe_of_choice['power']['core']['dynamic']))"
   ]
  },
  {
   "cell_type": "code",
   "execution_count": null,
   "metadata": {},
   "outputs": [],
   "source": []
  }
 ],
 "metadata": {
  "kernelspec": {
   "display_name": "Python 3",
   "language": "python",
   "name": "python3"
  },
  "language_info": {
   "codemirror_mode": {
    "name": "ipython",
    "version": 3
   },
   "file_extension": ".py",
   "mimetype": "text/x-python",
   "name": "python",
   "nbconvert_exporter": "python",
   "pygments_lexer": "ipython3",
   "version": "3.7.10"
  }
 },
 "nbformat": 4,
 "nbformat_minor": 4
}
