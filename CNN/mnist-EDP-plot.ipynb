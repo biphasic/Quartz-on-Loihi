{
 "cells": [
  {
   "cell_type": "code",
   "execution_count": null,
   "metadata": {},
   "outputs": [],
   "source": [
    "import matplotlib.pyplot as plt\n",
    "import numpy as np"
   ]
  },
  {
   "cell_type": "code",
   "execution_count": null,
   "metadata": {},
   "outputs": [],
   "source": [
    "probe_3 = {'numCores': 48, 'lmtActiveRatio': 0.9912034008056688, 'power': {'core': {'logic_static': 8.234127208201874, 'static': 27.42789692429016, 'dynamic': 2.589672530212681, 'SRAM_static': 19.193769716088287}, 'lakemont': {'logic_static': 0.02245311173600153, 'static': 0.16920547602359323, 'clock': 18.0, 'code': 5.947220404834013, 'dynamic': 23.947220404834013, 'SRAM_static': 0.1467523642875917}, 'static': 879.9351851851852, 'total': 906.4720781202319, 'dynamic': 26.536892935046694, 'idle': 897.9351851851852}, 'numChipsActuallyBeingUsed': 1, 'numLmtsBeingUsed': 1, 'timePerTimestep': 466.8920322727107, 'numCoresActuallyOn': 96}"
   ]
  },
  {
   "cell_type": "code",
   "execution_count": null,
   "metadata": {},
   "outputs": [],
   "source": [
    "probe_4 = {'timePerTimestep': 260.9908017457128, 'numLmtsBeingUsed': 1, 'numCores': 48, 'power': {'core': {'logic_static': 7.816698028391196, 'SRAM_static': 18.220741324921203, 'dynamic': 1.4406617862154167, 'static': 26.0374393533124}, 'dynamic': 25.37449870252408, 'idle': 888.7592592592594, 'static': 870.7592592592594, 'lakemont': {'logic_static': 0.021314850961159384, 'SRAM_static': 0.1393127513801267, 'code': 5.933836916308662, 'static': 0.1606276023412861, 'clock': 18.0, 'dynamic': 23.933836916308664},'total': 896.1337579617834}, 'lmtActiveRatio': 0.9889728193847771, 'numChipsActuallyBeingUsed': 1, 'numCoresActuallyOn': 96}"
   ]
  },
  {
   "cell_type": "code",
   "execution_count": null,
   "metadata": {},
   "outputs": [],
   "source": [
    "probe_5 = {'lmtActiveRatio': 0.9839954860709483, 'numLmtsBeingUsed': 1, 'numCoresActuallyOn': 96, 'power': {'lakemont': {'clock': 18.0, 'logic_static': 0.02067228439471609, 'dynamic': 23.90397291642569, 'code': 5.90397291642569, 'SRAM_static': 0.13511296990010516, 'static': 0.15578525429482123}, 'idle': 894.6181818181817, 'dynamic': 30.071980149424803, 'core': {'SRAM_static': 17.67145110410095, 'static': 25.252503627760255, 'logic_static': 7.581052523659308, 'dynamic': 6.168007232999113}, 'static': 876.6181818181817, 'total': 906.6901619676065}, 'timePerTimestep': 139.72402201684372, 'numCores': 48, 'numChipsActuallyBeingUsed': 1}"
   ]
  },
  {
   "cell_type": "code",
   "execution_count": null,
   "metadata": {},
   "outputs": [],
   "source": [
    "probe_6 = {'numLmtsBeingUsed': 1, 'timePerTimestep': 73.55861733050865, 'power': {'lakemont': {'static': 0.1721108848514724, 'code': 5.847666641214586, 'SRAM_static': 0.14927223317560487, 'clock': 18.0, 'logic_static': 0.022838651675867544, 'dynamic': 23.847666641214587}, 'core': {'SRAM_static': 19.523343848580474, 'static': 27.8988583596215, 'logic_static': 8.375514511041024, 'dynamic': 4.227560103916391}, 'idle': 901.8264462809917, 'static': 883.8264462809917, 'dynamic': 28.075226745130976, 'total': 911.9016730261227}, 'numChipsActuallyBeingUsed': 1, 'numCores': 48, 'numCoresActuallyOn': 96, 'lmtActiveRatio': 0.9746111068690977}"
   ]
  },
  {
   "cell_type": "code",
   "execution_count": null,
   "metadata": {},
   "outputs": [],
   "source": [
    "probe_7 = {'power': {'static': 875.734375, 'lakemont': {'logic_static': 0.02307119957610419, 'clock': 18.0, 'static': 0.17386335366828842, 'SRAM_static': 0.15079215409218424, 'code': 5.738889697668547, 'dynamic': 23.738889697668547}, 'total': 909.5329391891892, 'idle': 893.734375, 'dynamic': 33.798564189189165, 'core': {'logic_static': 8.460795741324954, 'static': 28.182930336488017, 'SRAM_static': 19.722134595163062, 'dynamic': 10.059674491520617}}, 'numLmtsBeingUsed': 1, 'numChipsActuallyBeingUsed': 1, 'numCores': 48, 'lmtActiveRatio': 0.9564816162780911, 'timePerTimestep': 38.926420703361345, 'numCoresActuallyOn': 96}"
   ]
  },
  {
   "cell_type": "code",
   "execution_count": null,
   "metadata": {},
   "outputs": [],
   "source": [
    "probes = [probe_3, probe_4, probe_5, probe_6, probe_7]\n",
    "steps_per_sample = [50, 90, 170, 330, 650]\n",
    "first_output_spike = [38, 67, 129, 252, 501]\n",
    "classif_error = [40.86, 1.04, 0.84, 0.8, 0.79]"
   ]
  },
  {
   "cell_type": "code",
   "execution_count": null,
   "metadata": {},
   "outputs": [],
   "source": [
    "latencies = [probe['timePerTimestep']*steps_per_sample[i]/1000 for i, probe in enumerate(probes)]\n",
    "latencies"
   ]
  },
  {
   "cell_type": "code",
   "execution_count": null,
   "metadata": {},
   "outputs": [],
   "source": [
    "dynamic_energy_decision = [probe['timePerTimestep']*probe['power']['core']['dynamic']*first_output_spike[i]/1000 for i, probe in enumerate(probes)]\n",
    "dynamic_energy_decision"
   ]
  },
  {
   "cell_type": "code",
   "execution_count": null,
   "metadata": {},
   "outputs": [],
   "source": [
    "edp_truenorth = [latency*energy/1000 for latency, energy in zip(latencies, dynamic_energy_decision)]\n",
    "edp_truenorth"
   ]
  },
  {
   "cell_type": "code",
   "execution_count": null,
   "metadata": {},
   "outputs": [],
   "source": [
    "plt.scatter(edp_truenorth, classif_error)\n",
    "plt.ylim([0.5, 100])\n",
    "plt.yscale('log')\n",
    "plt.grid(True)\n",
    "plt.xlabel(r\"EDP [$\\mu$Js]\")\n",
    "plt.ylabel(r\"Classification error [%]\")\n",
    "plt.savefig(\"EDP-plot.png\")"
   ]
  },
  {
   "cell_type": "code",
   "execution_count": null,
   "metadata": {},
   "outputs": [],
   "source": []
  }
 ],
 "metadata": {
  "kernelspec": {
   "display_name": "Python 3",
   "language": "python",
   "name": "python3"
  },
  "language_info": {
   "codemirror_mode": {
    "name": "ipython",
    "version": 3
   },
   "file_extension": ".py",
   "mimetype": "text/x-python",
   "name": "python",
   "nbconvert_exporter": "python",
   "pygments_lexer": "ipython3",
   "version": "3.7.4"
  }
 },
 "nbformat": 4,
 "nbformat_minor": 4
}
