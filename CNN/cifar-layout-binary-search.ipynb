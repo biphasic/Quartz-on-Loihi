{
 "cells": [
  {
   "cell_type": "code",
   "execution_count": null,
   "id": "4e69db3a",
   "metadata": {},
   "outputs": [],
   "source": [
    "from CNN.cifar_model import MobileNet\n",
    "import torch\n",
    "import torch.nn as nn\n",
    "import time\n",
    "from torchvision import datasets, transforms\n",
    "import quartz\n",
    "from quartz import layers\n",
    "import copy\n",
    "import numpy as np\n",
    "np.set_printoptions(suppress=True)"
   ]
  },
  {
   "cell_type": "markdown",
   "id": "841fcf1f",
   "metadata": {},
   "source": [
    "This notebook tries to find the most resourceful layout for our CIFAR10 MobileNet architecture on a Nahuku32 board in order to reduce power consumption. The number of cores that are needed for each layer is searched using a binary tree. This notebook does not have to be run on the shared VM, as no models are executed. By installing nxsdk on your machine, it is possible to benefit from a faster CPU to compile the model"
   ]
  },
  {
   "cell_type": "code",
   "execution_count": null,
   "id": "62375e6f",
   "metadata": {},
   "outputs": [],
   "source": [
    "model = MobileNet(10)\n",
    "model.load_state_dict(torch.load(\"cifar-convnet.pth\", map_location=torch.device('cpu')))\n",
    "capture = model.eval()"
   ]
  },
  {
   "cell_type": "code",
   "execution_count": null,
   "id": "9bb5536c",
   "metadata": {},
   "outputs": [],
   "source": [
    "previous_module = None\n",
    "new_layers = []\n",
    "for module in model.modules():\n",
    "    if isinstance(module, (nn.Conv2d, nn.MaxPool2d, nn.BatchNorm2d, nn.Linear, nn.ReLU6, nn.ReLU, nn.Flatten)):\n",
    "        if isinstance(module, nn.BatchNorm2d) and isinstance(previous_module, nn.Conv2d):\n",
    "            new_layers[-1] = torch.nn.utils.fuse_conv_bn_eval(previous_module, module)\n",
    "        else:\n",
    "            new_layers.append(module)\n",
    "        previous_module = module\n",
    "\n",
    "folded_model = nn.Sequential(*new_layers)\n",
    "layer_list = list(folded_model.modules())[1:]"
   ]
  },
  {
   "cell_type": "code",
   "execution_count": null,
   "id": "f9a643b1",
   "metadata": {},
   "outputs": [],
   "source": [
    "t_max = 2**6\n",
    "input_dims = (3,32,32)\n",
    "pool_kernel_size = [2,2]\n",
    "\n",
    "loihi_layers = []\n",
    "for l, layer in enumerate(layer_list):\n",
    "    rectification = l < len(layer_list)-1 and isinstance(layer_list[l+1], (nn.ReLU6, nn.ReLU))\n",
    "    if isinstance(layer, nn.Conv2d):\n",
    "        loihi_layers.append(layers.Conv2D(weights=layer.weight.detach().numpy(), biases=layer.bias.detach().numpy(), stride=layer.stride, padding=layer.padding, groups=layer.groups, rectifying=rectification))\n",
    "    elif isinstance(layer, nn.Linear):\n",
    "        loihi_layers.append(layers.Dense(weights=layer.weight.detach().numpy(), biases=layer.bias.detach().numpy(), rectifying=rectification))\n",
    "    elif isinstance(layer, nn.MaxPool2d):\n",
    "        loihi_layers.append(layers.MaxPool2D(kernel_size=layer.kernel_size, stride=layer.stride))\n",
    "\n",
    "all_layers = [layers.InputLayer(dims=input_dims)] + copy.deepcopy(loihi_layers)"
   ]
  },
  {
   "cell_type": "code",
   "execution_count": null,
   "id": "078f8a02",
   "metadata": {},
   "outputs": [],
   "source": [
    "loihi_model = quartz.Network(t_max, all_layers, verbose=True)"
   ]
  },
  {
   "cell_type": "code",
   "execution_count": null,
   "id": "7e26f527",
   "metadata": {},
   "outputs": [],
   "source": [
    "loihi_layers"
   ]
  },
  {
   "cell_type": "code",
   "execution_count": null,
   "id": "f87e1ace",
   "metadata": {},
   "outputs": [],
   "source": []
  },
  {
   "cell_type": "markdown",
   "id": "fa770c83",
   "metadata": {},
   "source": [
    "## see if the thing compiles without errors, otherwise reduce #neurons on that layer"
   ]
  },
  {
   "cell_type": "code",
   "execution_count": null,
   "id": "47bcea80",
   "metadata": {},
   "outputs": [],
   "source": []
  },
  {
   "cell_type": "code",
   "execution_count": null,
   "id": "ac6120b1",
   "metadata": {},
   "outputs": [],
   "source": [
    "def compile_board(cap, bottom, candidate):\n",
    "    if bottom + 1 >= cap: return cap, bottom, False\n",
    "    try:\n",
    "        board = layer_model(np.random.rand(*loihi_model.layers[selected_layer-1].output_dims), n_cores_per_layer=[0,candidate], partition='nahuku32', profiling=True, return_board=True)\n",
    "        cap = candidate\n",
    "#         print(\"SUCCESS: Compilation succeded at {} cores for selected layer {}, cap: {}, bottom: {}, candidate: {}\".format(candidate, selected_layer, cap, bottom, candidate))\n",
    "        return cap, bottom, int(cap - (cap - bottom) / 2)\n",
    "    except:\n",
    "        bottom = candidate\n",
    "#         print(\"ERROR: Compilation failed at {} cores for selected layer {}, cap: {}, bottom: {}, candidate: {}\".format(candidate, selected_layer, cap, bottom, candidate))\n",
    "        return cap, bottom, int(bottom + (cap - bottom) / 2)"
   ]
  },
  {
   "cell_type": "code",
   "execution_count": null,
   "id": "6a2a846a",
   "metadata": {},
   "outputs": [],
   "source": [
    "for selected_layer in range(1,10):\n",
    "    selected_layers = [layers.InputLayer(dims=loihi_model.layers[selected_layer-1].output_dims)] + [copy.deepcopy(loihi_layers[selected_layer-1])]\n",
    "    layer_model = quartz.Network(t_max, selected_layers, verbose=False)\n",
    "    cap = 300 # every layer will fit across 300 cores\n",
    "    bottom = 1 # every layer needs at least 1 core\n",
    "    candidate = 150 # our first test candidate\n",
    "    while True:\n",
    "        cap, bottom, candidate = compile_board(cap, bottom, candidate)\n",
    "        if candidate == False: \n",
    "            print(\"Found {} cores for selected layer {}.\".format(cap, selected_layer))\n",
    "            break\n",
    "print(\"done\")"
   ]
  },
  {
   "cell_type": "code",
   "execution_count": null,
   "id": "29ca94d2",
   "metadata": {},
   "outputs": [],
   "source": []
  }
 ],
 "metadata": {
  "kernelspec": {
   "display_name": "nxsdk-1.0.0",
   "language": "python",
   "name": "nxsdk-1.0.0"
  },
  "language_info": {
   "codemirror_mode": {
    "name": "ipython",
    "version": 3
   },
   "file_extension": ".py",
   "mimetype": "text/x-python",
   "name": "python",
   "nbconvert_exporter": "python",
   "pygments_lexer": "ipython3",
   "version": "3.9.4"
  }
 },
 "nbformat": 4,
 "nbformat_minor": 5
}
