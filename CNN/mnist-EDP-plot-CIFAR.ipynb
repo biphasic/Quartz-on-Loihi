{
 "cells": [
  {
   "cell_type": "code",
   "execution_count": null,
   "metadata": {},
   "outputs": [],
   "source": [
    "import matplotlib.pyplot as plt\n",
    "import numpy as np"
   ]
  },
  {
   "cell_type": "markdown",
   "metadata": {},
   "source": [
    "## Energy probes"
   ]
  },
  {
   "cell_type": "markdown",
   "metadata": {},
   "source": [
    "probe_3 refers to 2^3 time steps per layer, probe_4 uses 2^4 time steps and so on"
   ]
  },
  {
   "cell_type": "code",
   "execution_count": null,
   "metadata": {},
   "outputs": [],
   "source": [
    "# probe_4 = "
   ]
  },
  {
   "cell_type": "code",
   "execution_count": null,
   "metadata": {},
   "outputs": [],
   "source": [
    "# probe_5 = "
   ]
  },
  {
   "cell_type": "code",
   "execution_count": null,
   "metadata": {},
   "outputs": [],
   "source": [
    "# probe_6 = "
   ]
  },
  {
   "cell_type": "code",
   "execution_count": null,
   "metadata": {},
   "outputs": [],
   "source": [
    "probe_7 = {'timePerTimestep': 278.0430415517553, 'numLmtsBeingUsed': 14, 'numCoresActuallyOn': 1760, 'lmtActiveRatio': 0.96728703227056, 'numCores': 1753, 'numChipsActuallyBeingUsed': 16, 'power': {'idle': 1973.6666666666665, 'total': 1990.5659591753833, 'core': {'SRAM_static': 889.9635617860384, 'logic_static': 381.7943680062105, 'static': 1271.757929792249, 'dynamic': 11.095570315093466}, 'lakemont': {'SRAM_static': 2.6084613693420797, 'logic_static': 0.3990945895093382, 'static': 3.007555958851418, 'clock': 252.0, 'code': 5.80372219362336, 'dynamic': 257.80372219362334}, 'static': 1721.6666666666665, 'dynamic': 268.8992925087168}}"
   ]
  },
  {
   "cell_type": "code",
   "execution_count": null,
   "metadata": {},
   "outputs": [],
   "source": [
    "probes = [probe_7] # [probe_4, probe_5, probe_6]\n",
    "steps_per_sample = [1314]\n",
    "first_output_spike = [1214]\n",
    "classif_error = [26.86]"
   ]
  },
  {
   "cell_type": "markdown",
   "metadata": {},
   "source": [
    "## Latencies in ms"
   ]
  },
  {
   "cell_type": "code",
   "execution_count": null,
   "metadata": {},
   "outputs": [],
   "source": [
    "latencies = [probe['timePerTimestep']*steps_per_sample[i]/1000 for i, probe in enumerate(probes)]\n",
    "print(latencies)"
   ]
  },
  {
   "cell_type": "markdown",
   "metadata": {},
   "source": [
    "## Energy per sample in uJ "
   ]
  },
  {
   "cell_type": "code",
   "execution_count": null,
   "metadata": {},
   "outputs": [],
   "source": [
    "# 'decision' refers to the number of time steps until the average first output spike, which is shorter than overall amount of time steps per sample\n",
    "dynamic_energy_cores_decision = [probe['timePerTimestep']*(probe['power']['core']['dynamic'])*first_output_spike[i]/1000 for i, probe in enumerate(probes)]\n",
    "print(dynamic_energy_cores_decision, \": Dynamic energy on cores until the first output spike arrives on average\")\n",
    "\n",
    "total_energy_cores_decision = [probe['timePerTimestep']*(probe['power']['core']['dynamic']+probe['power']['core']['static'])*first_output_spike[i]/1000 for i, probe in enumerate(probes)]\n",
    "print(total_energy_cores_decision, \": Total energy on cores until the first output spike arrives on average\")\n",
    "\n",
    "total_energy_decision = [probe['timePerTimestep']*(probe['power']['core']['dynamic']+probe['power']['core']['static']+probe['power']['lakemont']['static']+probe['power']['lakemont']['dynamic'])*first_output_spike[i]/1000 for i, probe in enumerate(probes)]\n",
    "print(total_energy_decision, \": Total energy on cores and lakemonts until the first output spike arrives on average\")\n",
    "\n",
    "total_energy = [probe['timePerTimestep']*(probe['power']['core']['dynamic']+probe['power']['core']['static']+probe['power']['lakemont']['static']+probe['power']['lakemont']['dynamic'])*steps_per_sample[i]/1000 for i, probe in enumerate(probes)]\n",
    "print(total_energy, \": Total energy on cores and lakemonts for all time steps per sample\")"
   ]
  },
  {
   "cell_type": "markdown",
   "metadata": {},
   "source": [
    "## EDP using different energy measurements"
   ]
  },
  {
   "cell_type": "code",
   "execution_count": null,
   "metadata": {},
   "outputs": [],
   "source": [
    "edp_dynamic = [latency*energy/1000 for latency, energy in zip(latencies, dynamic_energy_cores_decision)] # dynamic energy of cores, time to decision\n",
    "print(edp_dynamic)\n",
    "\n",
    "# as calculated by TrueNorth\n",
    "edp_truenorth = [latency*energy/1000 for latency, energy in zip(latencies, total_energy_decision)] # total energy cores + lakemont, time to decision\n",
    "print(edp_truenorth)\n",
    "\n",
    "# as calculated by Rueckauer et al. 2021\n",
    "edp_bodo = [latency*energy/1000 for latency, energy in zip(latencies, total_energy)] # total energy cores + lakemont, all time steps\n",
    "print(edp_bodo)"
   ]
  },
  {
   "cell_type": "code",
   "execution_count": null,
   "metadata": {},
   "outputs": [],
   "source": [
    "#[100 - error for error in classif_error]\n",
    "fig, ax1 = plt.subplots(1, 1)\n",
    "ax1.set_axisbelow(True)\n",
    "plt.grid(True,  which=\"both\", axis='y')\n",
    "plt.scatter(edp_bodo, classif_error, label='TTFS (ours)')\n",
    "plt.plot(edp_bodo, classif_error)\n",
    "plt.scatter(34926, 8.52, color='red', label='Rate (Rueckauer et al., 2021)')\n",
    "# plt.ylim([0.5, 100])\n",
    "plt.yscale('log')\n",
    "plt.xlabel(r\"Energy delay product [$\\mu$Js]\")\n",
    "plt.ylabel(r\"Classification accuracy error [%]\")\n",
    "plt.title(\"CIFAR10 SNN performance\")\n",
    "plt.legend()\n",
    "plt.tight_layout()\n",
    "plt.savefig(\"EDP-plot-cifar.png\")"
   ]
  },
  {
   "cell_type": "code",
   "execution_count": null,
   "metadata": {},
   "outputs": [],
   "source": []
  },
  {
   "cell_type": "markdown",
   "metadata": {},
   "source": [
    "## Breakdown of power"
   ]
  },
  {
   "cell_type": "code",
   "execution_count": null,
   "metadata": {},
   "outputs": [],
   "source": [
    "probe_of_choice = probe_4\n",
    "probe_of_choice['power'].keys()\n",
    "print(\"neuromorphic cores: {} static, {} dynamic.\".format(probe_of_choice['power']['core']['static'], probe_of_choice['power']['core']['dynamic']))\n",
    "print(\"x86 lakemont cores: {} static, {} dynamic.\".format(probe_of_choice['power']['lakemont']['static'], probe_of_choice['power']['lakemont']['dynamic']))\n",
    "print(\"sum of dynamic power: {}\".format(probe_of_choice['power']['core']['dynamic'] + probe_of_choice['power']['lakemont']['dynamic']))\n",
    "print(\"sum of static power: {}\".format(probe_of_choice['power']['core']['static'] + probe_of_choice['power']['lakemont']['static']))\n",
    "print(\"sum of core power: {}\".format(probe_of_choice['power']['core']['static'] + probe_of_choice['power']['core']['dynamic']))\n",
    "print(\"sum of x86 power: {}\".format(probe_of_choice['power']['lakemont']['static'] + probe_of_choice['power']['lakemont']['dynamic']))\n",
    "print(\"sum: {}\".format(probe_of_choice['power']['lakemont']['static'] + probe_of_choice['power']['lakemont']['dynamic']+probe_of_choice['power']['core']['static'] + probe_of_choice['power']['core']['dynamic']))"
   ]
  },
  {
   "cell_type": "code",
   "execution_count": null,
   "metadata": {},
   "outputs": [],
   "source": []
  }
 ],
 "metadata": {
  "kernelspec": {
   "display_name": "Python 3",
   "language": "python",
   "name": "python3"
  },
  "language_info": {
   "codemirror_mode": {
    "name": "ipython",
    "version": 3
   },
   "file_extension": ".py",
   "mimetype": "text/x-python",
   "name": "python",
   "nbconvert_exporter": "python",
   "pygments_lexer": "ipython3",
   "version": "3.9.4"
  }
 },
 "nbformat": 4,
 "nbformat_minor": 4
}
