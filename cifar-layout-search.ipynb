{
 "cells": [
  {
   "cell_type": "code",
   "execution_count": null,
   "id": "d2cf4b7b",
   "metadata": {},
   "outputs": [],
   "source": [
    "from CNN.cifar_model import MobileNet\n",
    "import torch\n",
    "import torch.nn as nn\n",
    "import time\n",
    "from torchvision import datasets, transforms\n",
    "import quartz\n",
    "from quartz import layers\n",
    "import copy\n",
    "import numpy as np\n",
    "np.set_printoptions(suppress=True)"
   ]
  },
  {
   "cell_type": "code",
   "execution_count": null,
   "id": "efd7fa7c",
   "metadata": {},
   "outputs": [],
   "source": [
    "first_layer = 0\n",
    "last_layer = 7"
   ]
  },
  {
   "cell_type": "code",
   "execution_count": null,
   "id": "669cb79f",
   "metadata": {},
   "outputs": [],
   "source": [
    "model = MobileNet(10)\n",
    "model.load_state_dict(torch.load(\"CNN/models/cifar-convnet.pth\", map_location=torch.device('cpu')))\n",
    "capture = model.eval()"
   ]
  },
  {
   "cell_type": "code",
   "execution_count": null,
   "id": "6bacca7a",
   "metadata": {},
   "outputs": [],
   "source": [
    "previous_module = None\n",
    "new_layers = []\n",
    "for module in model.modules():\n",
    "    if isinstance(module, (nn.Conv2d, nn.MaxPool2d, nn.BatchNorm2d, nn.Linear, nn.ReLU6, nn.ReLU, nn.Flatten)):\n",
    "        if isinstance(module, nn.BatchNorm2d) and isinstance(previous_module, nn.Conv2d):\n",
    "            new_layers[-1] = torch.nn.utils.fuse_conv_bn_eval(previous_module, module)\n",
    "        else:\n",
    "            new_layers.append(module)\n",
    "        previous_module = module\n",
    "\n",
    "folded_model = nn.Sequential(*new_layers)\n",
    "layer_list = list(folded_model.modules())[1:]"
   ]
  },
  {
   "cell_type": "code",
   "execution_count": null,
   "id": "5e2f3938",
   "metadata": {},
   "outputs": [],
   "source": [
    "t_max = 2**6\n",
    "input_dims = (3,32,32)\n",
    "pool_kernel_size = [2,2]\n",
    "\n",
    "loihi_layers = []\n",
    "for l, layer in enumerate(layer_list):\n",
    "    rectification = l < len(layer_list)-1 and isinstance(layer_list[l+1], (nn.ReLU6, nn.ReLU))\n",
    "    if isinstance(layer, nn.Conv2d):\n",
    "        loihi_layers.append(layers.Conv2D(weights=layer.weight.detach().numpy(), biases=layer.bias.detach().numpy(), stride=layer.stride, padding=layer.padding, groups=layer.groups, rectifying=rectification))\n",
    "    elif isinstance(layer, nn.Linear):\n",
    "        loihi_layers.append(layers.Dense(weights=layer.weight.detach().numpy(), biases=layer.bias.detach().numpy(), rectifying=rectification))\n",
    "    elif isinstance(layer, nn.MaxPool2d):\n",
    "        loihi_layers.append(layers.MaxPool2D(kernel_size=layer.kernel_size, stride=layer.stride))\n",
    "\n",
    "all_layers = [layers.InputLayer(dims=input_dims)] + copy.deepcopy(loihi_layers)"
   ]
  },
  {
   "cell_type": "code",
   "execution_count": null,
   "id": "1cbf8f77",
   "metadata": {},
   "outputs": [],
   "source": [
    "loihi_model = quartz.Network(t_max, all_layers[:first_layer+1], verbose=True)"
   ]
  },
  {
   "cell_type": "code",
   "execution_count": null,
   "id": "0b01d828",
   "metadata": {},
   "outputs": [],
   "source": [
    "loihi_layers"
   ]
  },
  {
   "cell_type": "code",
   "execution_count": null,
   "id": "6a8a6ad4",
   "metadata": {},
   "outputs": [],
   "source": [
    "len(loihi_layers)"
   ]
  },
  {
   "cell_type": "code",
   "execution_count": null,
   "id": "7b019b3b",
   "metadata": {},
   "outputs": [],
   "source": [
    "loihi_layers[first_layer:last_layer]"
   ]
  },
  {
   "cell_type": "markdown",
   "id": "a996e009",
   "metadata": {},
   "source": [
    "## see if the thing compiles without errors, otherwise reduce #neurons on that layer"
   ]
  },
  {
   "cell_type": "code",
   "execution_count": null,
   "id": "928340c6",
   "metadata": {
    "tags": [
     "parameters"
    ]
   },
   "outputs": [],
   "source": [
    "n_cores_per_layer = [350]*(last_layer - first_layer + 1)\n",
    "n_cores_per_layer = [0, 300, 150, 175]"
   ]
  },
  {
   "cell_type": "code",
   "execution_count": null,
   "id": "7f401ae5",
   "metadata": {},
   "outputs": [],
   "source": [
    "input_dims = loihi_model.layers[first_layer].output_dims\n",
    "\n",
    "selected_layers = [layers.InputLayer(dims=input_dims)] + copy.deepcopy(loihi_layers[first_layer:last_layer])\n",
    "layer_model = quartz.Network(t_max, selected_layers, verbose=False)\n",
    "try:\n",
    "    layer_model(np.random.rand(*input_dims), n_cores_per_layer=n_cores_per_layer, partition='nahuku32', profiling=True, logging=True)\n",
    "except Exception as e: print(e)"
   ]
  },
  {
   "cell_type": "code",
   "execution_count": null,
   "id": "96d55893",
   "metadata": {},
   "outputs": [],
   "source": []
  }
 ],
 "metadata": {
  "kernelspec": {
   "display_name": "nxsdk-1.0.0",
   "language": "python",
   "name": "nxsdk-1.0.0"
  },
  "language_info": {
   "codemirror_mode": {
    "name": "ipython",
    "version": 3
   },
   "file_extension": ".py",
   "mimetype": "text/x-python",
   "name": "python",
   "nbconvert_exporter": "python",
   "pygments_lexer": "ipython3",
   "version": "3.9.4"
  }
 },
 "nbformat": 4,
 "nbformat_minor": 5
}
