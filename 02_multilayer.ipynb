{
 "cells": [
  {
   "cell_type": "markdown",
   "metadata": {},
   "source": [
    "## double dense"
   ]
  },
  {
   "cell_type": "code",
   "execution_count": null,
   "metadata": {},
   "outputs": [],
   "source": [
    "import quartz\n",
    "from quartz import layers\n",
    "import numpy as np\n",
    "import torch\n",
    "import torch.nn as nn\n",
    "\n",
    "input_dims = (1,1,1,1,)\n",
    "l1_output_dim = 1\n",
    "l2_output_dim = 1\n",
    "\n",
    "t_max = 2**7\n",
    "np.random.seed(seed=45)\n",
    "weights1 = np.ones((l1_output_dim, np.product(input_dims[1:]))) / 2 # (np.random.rand(l1_output_dim, np.product(input_dims[1:])) - 0.5) # \n",
    "biases1 = np.zeros((l1_output_dim)) # (np.random.rand(l1_output_dim) - 0.5) / 2\n",
    "weights2 = np.ones((l2_output_dim, l1_output_dim)) / 2 # (np.random.rand(l2_output_dim, l1_output_dim) - 0.5) # \n",
    "biases2 = np.zeros((l2_output_dim)) # (np.random.rand(l2_output_dim) - 0.5) / 2\n",
    "inputs = np.ones((input_dims)) * 1 # np.random.rand(np.product(input_dims)) # np.zeros((input_dims)) / 2 # \n",
    "\n",
    "loihi_model = quartz.Network(t_max, [\n",
    "    layers.InputLayer(dims=input_dims[1:]),\n",
    "    layers.Dense(weights=weights1, biases=None, weight_acc=128),\n",
    "    layers.Dense(weights=weights2, biases=None, weight_acc=128),\n",
    "    layers.Dense(weights=weights2, biases=None, weight_acc=128),\n",
    "])\n",
    "\n",
    "relcos1 = [quartz.probe(neuron) for neuron in loihi_model.layers[1].neurons() if 'relco' in neuron.name]\n",
    "relcos2 = [quartz.probe(neuron) for neuron in loihi_model.layers[2].neurons() if 'relco' in neuron.name]\n",
    "rect1 = [quartz.probe(neuron) for neuron in loihi_model.layers[1].neurons() if 'rect' in neuron.name]\n",
    "rect2 = [quartz.probe(neuron) for neuron in loihi_model.layers[2].neurons() if 'rect' in neuron.name]\n",
    "\n",
    "model = nn.Sequential(\n",
    "    nn.Linear(in_features=np.product(input_dims[1:]), out_features=l1_output_dim), nn.ReLU(),\n",
    "    nn.Linear(in_features=l1_output_dim, out_features=l2_output_dim), nn.ReLU(),\n",
    ")\n",
    "q_weights1, q_biases1, q_inputs = quartz.utils.quantize_values(weights1, biases1, inputs, loihi_model.layers[1].weight_acc, t_max)\n",
    "q_weights2, q_biases2, q_inputs = quartz.utils.quantize_values(weights2, biases2, inputs, loihi_model.layers[2].weight_acc, t_max)\n",
    "model[0].weight = nn.Parameter(torch.tensor(q_weights1))\n",
    "model[0].bias = nn.Parameter(torch.tensor(q_biases1))\n",
    "model[2].weight = nn.Parameter(torch.tensor(q_weights2))\n",
    "model[2].bias = nn.Parameter(torch.tensor(q_biases2))\n",
    "model_output = model(torch.tensor(q_inputs).reshape(input_dims[0],-1)).detach().numpy()\n",
    "model_output"
   ]
  },
  {
   "cell_type": "code",
   "execution_count": null,
   "metadata": {},
   "outputs": [],
   "source": [
    "loihi_model(inputs)"
   ]
  },
  {
   "cell_type": "code",
   "execution_count": null,
   "metadata": {},
   "outputs": [],
   "source": [
    "relcos1[0].plot()"
   ]
  },
  {
   "cell_type": "code",
   "execution_count": null,
   "metadata": {},
   "outputs": [],
   "source": [
    "relcos2[0].plot()"
   ]
  },
  {
   "cell_type": "code",
   "execution_count": null,
   "metadata": {},
   "outputs": [],
   "source": [
    "rect1[0].plot()"
   ]
  },
  {
   "cell_type": "code",
   "execution_count": null,
   "metadata": {},
   "outputs": [],
   "source": []
  },
  {
   "cell_type": "code",
   "execution_count": null,
   "metadata": {},
   "outputs": [],
   "source": []
  },
  {
   "cell_type": "code",
   "execution_count": null,
   "metadata": {},
   "outputs": [],
   "source": [
    "ok = [relco.plot() for relco in relcos1]"
   ]
  },
  {
   "cell_type": "markdown",
   "metadata": {},
   "source": [
    "## double conv"
   ]
  },
  {
   "cell_type": "code",
   "execution_count": null,
   "metadata": {},
   "outputs": [],
   "source": [
    "import quartz\n",
    "from quartz import layers\n",
    "import numpy as np\n",
    "import torch\n",
    "import torch.nn as nn\n",
    "\n",
    "input_dims = (1,1,10,10)\n",
    "conv_weight_dims1 = (6,1,8,8)\n",
    "conv_weight_dims2 = (10,6,3,3)\n",
    "\n",
    "t_max = 2**8\n",
    "conv_kernel_size1 = conv_weight_dims1[2:]\n",
    "conv_kernel_size2 = conv_weight_dims2[2:]\n",
    "conv_out_dim1 = conv_weight_dims1[0]\n",
    "conv_out_dim2 = conv_weight_dims2[0]\n",
    "\n",
    "weights1 = (np.random.rand(*conv_weight_dims1)-0.5) / 2\n",
    "biases1 = (np.random.rand(conv_out_dim1)-0.5) / 2\n",
    "weights2 = (np.random.rand(*conv_weight_dims2)-0.5) / 2\n",
    "biases2 = (np.random.rand(conv_out_dim2)-0.5) / 2\n",
    "inputs = np.random.rand(*input_dims) / 3\n",
    "\n",
    "loihi_model = quartz.Network([\n",
    "    layers.InputLayer(dims=input_dims[1:]),\n",
    "    layers.Conv2D(weights=weights1, biases=biases1),\n",
    "    layers.Conv2D(weights=weights2, biases=biases2),\n",
    "])\n",
    "\n",
    "relcos1 = [quartz.probe(block) for block in loihi_model.layers[1].blocks if 'relco' in block.name]\n",
    "relcos2 = [quartz.probe(block) for block in loihi_model.layers[2].blocks if 'relco' in block.name]\n",
    "\n",
    "model = nn.Sequential(\n",
    "    nn.Conv2d(in_channels=conv_weight_dims1[1], out_channels=conv_weight_dims1[0], kernel_size=conv_kernel_size1), nn.ReLU(),\n",
    "    nn.Conv2d(in_channels=conv_weight_dims2[1], out_channels=conv_weight_dims2[0], kernel_size=conv_kernel_size2), nn.ReLU(),\n",
    ")\n",
    "\n",
    "q_weights1, q_biases1, q_inputs = quartz.utils.quantize_values(weights1, biases1, inputs, loihi_model.layers[1].weight_acc, t_max)\n",
    "q_weights2, q_biases2, q_inputs = quartz.utils.quantize_values(weights2, biases2, inputs, loihi_model.layers[2].weight_acc, t_max)\n",
    "model[0].weight = nn.Parameter(torch.tensor(q_weights1))\n",
    "model[0].bias = nn.Parameter(torch.tensor(q_biases1))\n",
    "model[2].weight = nn.Parameter(torch.tensor(q_weights2))\n",
    "model[2].bias = nn.Parameter(torch.tensor(q_biases2))\n",
    "model_output = model(torch.tensor(q_inputs)).detach().numpy()\n",
    "model_output"
   ]
  },
  {
   "cell_type": "code",
   "execution_count": null,
   "metadata": {},
   "outputs": [],
   "source": [
    "loihi_model(inputs, t_max)"
   ]
  },
  {
   "cell_type": "code",
   "execution_count": null,
   "metadata": {},
   "outputs": [],
   "source": []
  },
  {
   "cell_type": "code",
   "execution_count": null,
   "metadata": {},
   "outputs": [],
   "source": [
    "relcos1[8].plot()"
   ]
  },
  {
   "cell_type": "code",
   "execution_count": null,
   "metadata": {},
   "outputs": [],
   "source": [
    "relcos2[8].plot()"
   ]
  },
  {
   "cell_type": "markdown",
   "metadata": {},
   "source": [
    "## double convpool"
   ]
  },
  {
   "cell_type": "code",
   "execution_count": null,
   "metadata": {},
   "outputs": [],
   "source": [
    "import quartz\n",
    "from quartz import layers\n",
    "import numpy as np\n",
    "import torch\n",
    "import torch.nn as nn\n",
    "\n",
    "input_dims = (1,1,10,10)\n",
    "weight_dims = ( 3,1,3,3)\n",
    "weight_dims2 = (5,3,3,3)\n",
    "t_max = 2**8\n",
    "conv_kernel_size = weight_dims[2:]\n",
    "pooling_kernel_size = [2,2]\n",
    "pooling_stride = 2\n",
    "\n",
    "np.random.seed(seed=44)\n",
    "np.set_printoptions(suppress=True)\n",
    "weights1 = (np.random.rand(*weight_dims)-0.5) / 5 # np.zeros(weight_dims) #\n",
    "weights2 = (np.random.rand(*weight_dims2)-0.5) / 5# np.zeros(weight_dims) #\n",
    "biases1 = (np.random.rand(weight_dims[0])-0.5) / 3 # np.zeros((weight_dims[0])) # \n",
    "biases2 = (np.random.rand(weight_dims2[0])-0.5) / 3 # np.zeros((weight_dims2[0])) # \n",
    "inputs = np.random.rand(*input_dims) / 3\n",
    "\n",
    "loihi_model = quartz.Network([\n",
    "    layers.InputLayer(dims=input_dims[1:]),\n",
    "    layers.Conv2D(weights=weights1, biases=biases1),\n",
    "    layers.MaxPool2D(kernel_size=pooling_kernel_size),\n",
    "    layers.Conv2D(weights=weights2, biases=biases2),\n",
    "    layers.MaxPool2D(kernel_size=pooling_kernel_size),\n",
    "])\n",
    "    \n",
    "relcos1 = [quartz.probe(block) for block in loihi_model.layers[1].blocks if 'relco' in block.name]\n",
    "relcos2 = [quartz.probe(block) for block in loihi_model.layers[3].blocks if 'relco' in block.name]\n",
    "wtas1 = [quartz.probe(block) for block in loihi_model.layers[2].blocks if 'wta' in block.name]\n",
    "wtas2 = [quartz.probe(block) for block in loihi_model.layers[4].blocks if 'wta' in block.name]\n",
    "\n",
    "model = nn.Sequential(\n",
    "    nn.Conv2d(in_channels=weight_dims[1], out_channels=weight_dims[0], kernel_size=conv_kernel_size), nn.ReLU(),\n",
    "    nn.MaxPool2d(kernel_size=pooling_kernel_size, stride=pooling_stride), nn.ReLU(),\n",
    "    nn.Conv2d(in_channels=weight_dims2[1], out_channels=weight_dims2[0], kernel_size=conv_kernel_size), nn.ReLU(),\n",
    "    nn.MaxPool2d(kernel_size=pooling_kernel_size, stride=pooling_stride), nn.ReLU(),\n",
    ")\n",
    "q_weights1, q_biases1, q_inputs = quartz.utils.quantize_values(weights1, biases1, inputs, loihi_model.layers[1].weight_acc, t_max)\n",
    "q_weights2, q_biases2, q_inputs = quartz.utils.quantize_values(weights2, biases2, inputs, loihi_model.layers[2].weight_acc, t_max)\n",
    "model[0].weight = nn.Parameter(torch.tensor(q_weights1))\n",
    "model[0].bias = nn.Parameter(torch.tensor(q_biases1))\n",
    "model[4].weight = nn.Parameter(torch.tensor(q_weights2))\n",
    "model[4].bias = nn.Parameter(torch.tensor(q_biases2))\n",
    "model_output = model(torch.tensor(q_inputs)).detach().numpy()\n",
    "model_output"
   ]
  },
  {
   "cell_type": "code",
   "execution_count": null,
   "metadata": {},
   "outputs": [],
   "source": [
    "loihi_model(inputs, t_max)"
   ]
  },
  {
   "cell_type": "code",
   "execution_count": null,
   "metadata": {},
   "outputs": [],
   "source": []
  },
  {
   "cell_type": "code",
   "execution_count": null,
   "metadata": {},
   "outputs": [],
   "source": []
  },
  {
   "cell_type": "code",
   "execution_count": null,
   "metadata": {},
   "outputs": [],
   "source": [
    "ok = [relco.plot() for relco in relcos2]"
   ]
  },
  {
   "cell_type": "code",
   "execution_count": null,
   "metadata": {},
   "outputs": [],
   "source": [
    "ok = [wta.plot() for wta in wtas2]"
   ]
  },
  {
   "cell_type": "code",
   "execution_count": null,
   "metadata": {},
   "outputs": [],
   "source": []
  },
  {
   "cell_type": "markdown",
   "metadata": {},
   "source": [
    "## convpool - conv"
   ]
  },
  {
   "cell_type": "code",
   "execution_count": null,
   "metadata": {},
   "outputs": [],
   "source": [
    "import quartz\n",
    "from quartz import layers\n",
    "import numpy as np\n",
    "import torch\n",
    "import torch.nn as nn\n",
    "\n",
    "# input_dims = ( 5,14,14)\n",
    "# weight_dims = ( 8,5,5,5)\n",
    "# weight_dims2 = (120,8,5,5)\n",
    "input_dims = ( 1,7,7)\n",
    "weight_dims = ( 2,1,2,2)\n",
    "weight_dims2 = (4,2,3,3)\n",
    "\n",
    "# input_dims = ( 1,6,6)\n",
    "# weight_dims = ( 2,1,3,3)\n",
    "# weight_dims2 = (3,2,2,2)\n",
    "\n",
    "t_max = 2**9\n",
    "weight_acc = 2**7\n",
    "conv_kernel_size = weight_dims[2:]\n",
    "pooling_kernel_size = [2,2]\n",
    "pooling_stride = 2\n",
    "\n",
    "np.random.seed(seed=34)\n",
    "np.set_printoptions(suppress=True)\n",
    "weights = (np.random.rand(*weight_dims)-0.5) / 4 # np.zeros(weight_dims) #\n",
    "weights2 = (np.random.rand(*weight_dims2)-0.5) / 4 # np.zeros(weight_dims) #\n",
    "biases = (np.random.rand(weight_dims[0])-0.5) / 2\n",
    "biases2 = (np.random.rand(weight_dims2[0])-0.5) / 2\n",
    "\n",
    "biases = np.zeros(weight_dims[0]) # (np.random.rand(weight_dims[0])-0.5) / 2\n",
    "biases2 = np.zeros(weight_dims2[0])\n",
    "\n",
    "loihi_model = quartz.Network([\n",
    "    layers.InputLayer(dims=input_dims),\n",
    "    layers.ConvPool2D(weights=weights, biases=None, pool_kernel_size=pooling_kernel_size, pool_stride=pooling_stride, weight_acc=weight_acc),\n",
    "    layers.Conv2D(weights=weights2, biases=None, weight_acc=weight_acc),\n",
    "    layers.MonitorLayer(),\n",
    "])\n",
    "\n",
    "trigger0 = quartz.probe(loihi_model.layers[0].blocks[-1])\n",
    "trigger1 = quartz.probe(loihi_model.layers[1].blocks[0])\n",
    "probes = [quartz.probe(block) for block in loihi_model.layers[1].output_blocks()]\n",
    "\n",
    "values = np.random.rand(np.product(input_dims)) / 2\n",
    "inputs = quartz.utils.decode_values_into_spike_input(values, t_max)\n",
    "\n",
    "model = nn.Sequential(\n",
    "    nn.Conv2d(in_channels=weight_dims[1], out_channels=weight_dims[0], kernel_size=conv_kernel_size), nn.ReLU(),\n",
    "    nn.MaxPool2d(kernel_size=pooling_kernel_size, stride=pooling_stride), nn.ReLU(),\n",
    "    nn.Conv2d(in_channels=weight_dims2[1], out_channels=weight_dims2[0], kernel_size=conv_kernel_size), nn.ReLU(),\n",
    ")\n",
    "model[0].weight = nn.Parameter(torch.tensor(weights))\n",
    "model[0].bias = nn.Parameter(torch.tensor((biases)))\n",
    "model[4].weight = nn.Parameter(torch.tensor(weights2))\n",
    "model[4].bias = nn.Parameter(torch.tensor((biases2)))\n",
    "model_output = model(torch.tensor(values.reshape(1, *input_dims[:3]))).squeeze().detach().numpy()\n",
    "model_output"
   ]
  },
  {
   "cell_type": "code",
   "execution_count": null,
   "metadata": {},
   "outputs": [],
   "source": [
    "loihi_model(inputs, t_max).reshape(model_output.shape)"
   ]
  },
  {
   "cell_type": "code",
   "execution_count": null,
   "metadata": {},
   "outputs": [],
   "source": [
    "loihi_model1(inputs, t_max).reshape(model_output.shape)"
   ]
  },
  {
   "cell_type": "code",
   "execution_count": null,
   "metadata": {},
   "outputs": [],
   "source": []
  },
  {
   "cell_type": "code",
   "execution_count": null,
   "metadata": {},
   "outputs": [],
   "source": []
  },
  {
   "cell_type": "code",
   "execution_count": null,
   "metadata": {},
   "outputs": [],
   "source": []
  },
  {
   "cell_type": "code",
   "execution_count": null,
   "metadata": {},
   "outputs": [],
   "source": []
  },
  {
   "cell_type": "code",
   "execution_count": null,
   "metadata": {},
   "outputs": [],
   "source": []
  }
 ],
 "metadata": {
  "kernelspec": {
   "display_name": "nxsdk-0.9.8",
   "language": "python",
   "name": "nxsdk-0.9.8"
  },
  "language_info": {
   "codemirror_mode": {
    "name": "ipython",
    "version": 3
   },
   "file_extension": ".py",
   "mimetype": "text/x-python",
   "name": "python",
   "nbconvert_exporter": "python",
   "pygments_lexer": "ipython3",
   "version": "3.5.2"
  }
 },
 "nbformat": 4,
 "nbformat_minor": 4
}
