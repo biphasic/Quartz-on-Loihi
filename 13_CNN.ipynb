{
 "cells": [
  {
   "cell_type": "markdown",
   "metadata": {},
   "source": [
    "## CNN"
   ]
  },
  {
   "cell_type": "code",
   "execution_count": null,
   "metadata": {},
   "outputs": [],
   "source": [
    "from CNN.convnet import ConvNet\n",
    "import torch\n",
    "import time\n",
    "from torchvision import datasets, transforms\n",
    "import quartz\n",
    "from quartz import layers\n",
    "import numpy as np\n",
    "np.set_printoptions(suppress=True)"
   ]
  },
  {
   "cell_type": "code",
   "execution_count": null,
   "metadata": {},
   "outputs": [],
   "source": [
    "n_classes = 10\n",
    "model = ConvNet(n_classes)\n",
    "model.load_state_dict(torch.load(\"CNN/quartz-convnet-6c.pth\", map_location=torch.device('cpu')))\n",
    "model.eval()"
   ]
  },
  {
   "cell_type": "code",
   "execution_count": null,
   "metadata": {},
   "outputs": [],
   "source": [
    "def get_weights_biases(model):\n",
    "    parameters = list(model.parameters())\n",
    "    weights = [weight.detach().numpy() for weight in parameters[::2][::2]]\n",
    "    biases = [bias.detach().numpy() for bias in parameters[1::2][::2]]\n",
    "    return weights, biases\n",
    "\n",
    "weights, biases = get_weights_biases(model)"
   ]
  },
  {
   "cell_type": "code",
   "execution_count": null,
   "metadata": {},
   "outputs": [],
   "source": [
    "([weight.max() for weight in weights])"
   ]
  },
  {
   "cell_type": "code",
   "execution_count": null,
   "metadata": {},
   "outputs": [],
   "source": [
    "([weight.min() for weight in weights])"
   ]
  },
  {
   "cell_type": "code",
   "execution_count": null,
   "metadata": {},
   "outputs": [],
   "source": [
    "weights[1] /= 1.5\n",
    "biases[1] /= 1.5\n",
    "weights[2] /= 1.5\n",
    "biases[2] /= 1.5\n",
    "weights[-1] /= 3\n",
    "biases[-1] /= 3"
   ]
  },
  {
   "cell_type": "code",
   "execution_count": null,
   "metadata": {},
   "outputs": [],
   "source": []
  },
  {
   "cell_type": "markdown",
   "metadata": {},
   "source": [
    "## build model"
   ]
  },
  {
   "cell_type": "code",
   "execution_count": null,
   "metadata": {},
   "outputs": [],
   "source": [
    "t_max = 2**6\n",
    "input_dims = (1,28,28)\n",
    "pool_kernel_size = [2,2]\n",
    "steps_per_image = 6*t_max\n",
    "batch_size = 5000\n",
    "\n",
    "loihi_model = quartz.Network([\n",
    "    layers.InputLayer(dims=input_dims),\n",
    "\n",
    "#     layers.Conv2D(weights=weights[0], biases=biases[0]),\n",
    "#     layers.MaxPool2D(kernel_size=pool_kernel_size),\n",
    "#     layers.Conv2D(weights=weights[1], biases=biases[1]),\n",
    "#     layers.MaxPool2D(kernel_size=pool_kernel_size),\n",
    "    layers.ConvPool2D(weights=weights[0], biases=biases[0], pool_kernel_size=pool_kernel_size),\n",
    "    layers.ConvPool2D(weights=weights[1], biases=biases[1], pool_kernel_size=pool_kernel_size),\n",
    "\n",
    "    layers.Conv2D(weights=weights[2], biases=biases[2]),\n",
    "    layers.Dense(weights=weights[3], biases=biases[3], rectifying=False),\n",
    "    layers.MonitorLayer(),\n",
    "])"
   ]
  },
  {
   "cell_type": "code",
   "execution_count": null,
   "metadata": {},
   "outputs": [],
   "source": [
    "loihi_model\n"
   ]
  },
  {
   "cell_type": "code",
   "execution_count": null,
   "metadata": {},
   "outputs": [],
   "source": [
    "#loihi_model.check_block_delays(t_max, 2**3)\n",
    "#loihi_model.print_core_layout(redo=True)"
   ]
  },
  {
   "cell_type": "markdown",
   "metadata": {},
   "source": [
    "## load data"
   ]
  },
  {
   "cell_type": "code",
   "execution_count": null,
   "metadata": {},
   "outputs": [],
   "source": [
    "#transform=transforms.Compose([transforms.Resize((32, 32)), transforms.ToTensor(),])\n",
    "transform=transforms.Compose([transforms.ToTensor(),])\n",
    "test_set = datasets.MNIST('./CNN/data', train=False, download=False, transform=transform)\n",
    "test_loader = torch.utils.data.DataLoader(test_set, batch_size=batch_size, shuffle=False)"
   ]
  },
  {
   "cell_type": "code",
   "execution_count": null,
   "metadata": {},
   "outputs": [],
   "source": [
    "test_loader_iter = iter(test_loader)"
   ]
  },
  {
   "cell_type": "code",
   "execution_count": null,
   "metadata": {},
   "outputs": [],
   "source": [
    "print(time.strftime(\"Started on %a, %d %b %Y %H:%M:%S\", time.gmtime()))\n",
    "start_time = time.time()\n",
    "\n",
    "errors = []\n",
    "for inputs, target in test_loader_iter:\n",
    "    loihi_output = loihi_model(inputs.numpy(), t_max, steps_per_image=steps_per_image, partition='loihi_2h', \n",
    "                               logging=False, profiling=False)\n",
    "    firsts = np.zeros((n_classes,batch_size))\n",
    "    for i, (key, values) in enumerate(sorted(loihi_model.data[1].items())):\n",
    "        for iteration in range(batch_size):\n",
    "            firsts[i, iteration] = values[(values>(iteration * steps_per_image)) & (values<((iteration+1)*steps_per_image))][0]\n",
    "    loihi_results = np.argmin(firsts, axis=0)\n",
    "    positives = sum(loihi_results == target.numpy())\n",
    "    negatives = loihi_results != target.numpy()\n",
    "    error = 100*(1-positives/len(target))\n",
    "    errors.append(error)\n",
    "    print(\"Correctly detected {} out of {}: {}% error\".format(positives, len(target), error))\n",
    "    #break\n",
    "    \n",
    "print(\"--- %s seconds ---\" % (time.time() - start_time))"
   ]
  },
  {
   "cell_type": "code",
   "execution_count": null,
   "metadata": {},
   "outputs": [],
   "source": [
    "errors"
   ]
  },
  {
   "cell_type": "code",
   "execution_count": null,
   "metadata": {},
   "outputs": [],
   "source": []
  },
  {
   "cell_type": "code",
   "execution_count": null,
   "metadata": {},
   "outputs": [],
   "source": [
    "with open(\"results.txt\", \"a\") as myfile:\n",
    "    myfile.write(\"{}\\n\".format(errors))"
   ]
  },
  {
   "cell_type": "code",
   "execution_count": null,
   "metadata": {},
   "outputs": [],
   "source": [
    "firsts.min()"
   ]
  },
  {
   "cell_type": "code",
   "execution_count": null,
   "metadata": {},
   "outputs": [],
   "source": []
  },
  {
   "cell_type": "code",
   "execution_count": null,
   "metadata": {},
   "outputs": [],
   "source": [
    "np.max(loihi_output)"
   ]
  },
  {
   "cell_type": "code",
   "execution_count": null,
   "metadata": {},
   "outputs": [],
   "source": [
    "%debug"
   ]
  },
  {
   "cell_type": "code",
   "execution_count": null,
   "metadata": {},
   "outputs": [],
   "source": []
  },
  {
   "cell_type": "code",
   "execution_count": null,
   "metadata": {},
   "outputs": [],
   "source": []
  },
  {
   "cell_type": "code",
   "execution_count": null,
   "metadata": {},
   "outputs": [],
   "source": []
  }
 ],
 "metadata": {
  "kernelspec": {
   "display_name": "nxsdk-0.9.8",
   "language": "python",
   "name": "nxsdk-0.9.8"
  },
  "language_info": {
   "codemirror_mode": {
    "name": "ipython",
    "version": 3
   },
   "file_extension": ".py",
   "mimetype": "text/x-python",
   "name": "python",
   "nbconvert_exporter": "python",
   "pygments_lexer": "ipython3",
   "version": "3.5.2"
  }
 },
 "nbformat": 4,
 "nbformat_minor": 4
}
